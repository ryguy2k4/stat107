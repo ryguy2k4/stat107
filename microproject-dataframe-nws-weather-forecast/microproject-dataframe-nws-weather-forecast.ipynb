{
 "cells": [
  {
   "attachments": {},
   "cell_type": "markdown",
   "execution_count": 0,
   "metadata": {},
   "outputs": [],
   "source": [
    "<h1 style=\"text-align: center\">\n",
    "<div style=\"color: #DD3403; font-size: 60%\">Data Science DISCOVERY MicroProject</div>\n",
    "<span style=\"\">MicroProject: A DataFrame of Your Weather Forecast</span>\n",
    "<div style=\"font-size: 60%;\"><a href=\"https://discovery.cs.illinois.edu/microproject/dataframe-nws-weather-forecast/\">https://discovery.cs.illinois.edu/microproject/dataframe-nws-weather-forecast/</a></div>\n",
    "</h1>\n",
    "\n",
    "<hr style=\"color: #DD3403;\">"
   ]
  },
  {
   "attachments": {},
   "cell_type": "markdown",
   "execution_count": 0,
   "metadata": {},
   "outputs": [],
   "source": [
    "## Data API: National Weather Service (NWS) Weather Forecast\n",
    "\n",
    "The National Weather Service allows, for free, \"developers access to critical forecasts, alerts, and observations, along with other weather data.\"  You can find the full documentation of their API at: [https://www.weather.gov/documentation/services-web-api](https://www.weather.gov/documentation/services-web-api).\n",
    "\n",
    "Since weather data is based on your location, you need to find the latitude and longitude of coordinate of your location!\n",
    "\n",
    "- One quick way to do this is to pull up [Google Maps](https://maps.google.com/) and **right click** on a location.  *(Since this is NWS data, make sure your location is in the United States.)*\n",
    "- The first option will be the `latitude, longitude` of the location of your click on the map.  You can click it to copy it to your clipboard!\n",
    "\n",
    "Once you have your location, add each component to a variable below:"
   ]
  },
  {
   "cell_type": "code",
   "execution_count": 0,
   "metadata": {},
   "outputs": [],
   "source": [
    "latitude = ...\n",
    "longitude = ..."
   ]
  },
  {
   "attachments": {},
   "cell_type": "markdown",
   "execution_count": 0,
   "metadata": {},
   "outputs": [],
   "source": [
    "### Finding Your Forecast Area\n",
    "\n",
    "The National Weather Service API provides a `/points/` endpoint that uses the `latitude,longitude` value to return a weather forecast.  The full URL for this endpoint is in the following format:\n",
    "\n",
    "```\n",
    "https://api.weather.gov/points/LATITUDE,LONGITUDE\n",
    "```\n",
    "\n",
    "This endpoint also returns a JSON that can be read using `pd.read_json`.  The `read_json` command is very similar to the `read_csv` command, except that we need to specify the \"type\" of JSON.\n",
    "\n",
    "- Use `pd.read_json(...)` to use pandas's `read_json` function.\n",
    "- The function requires two parameters:\n",
    "    1. The URL of the JSON.  *Make sure to replace `LATITUDE` and `LONGITUDE` with your actual latitude and longitude.*\n",
    "    2. For the second parameter, include the option `typ=\"series\"`.\n",
    "- For example: `pd.read_json(\"https://...\", typ=\"series\")`\n",
    "\n",
    "Store the result in a variable named `pointsJSON`:"
   ]
  },
  {
   "cell_type": "code",
   "execution_count": 0,
   "metadata": {},
   "outputs": [],
   "source": [
    "import pandas as pd\n",
    "pointsJSON = ...\n",
    "pointsJSON"
   ]
  },
  {
   "attachments": {},
   "cell_type": "markdown",
   "execution_count": 0,
   "metadata": {},
   "outputs": [],
   "source": [
    "### Finding Your Forecast URL\n",
    "\n",
    "The JSON you just loaded has multiple fields including two fields with data:\n",
    "\n",
    "- `geometry`, which include the geometric area for the forecast (you supplied a single point, but weather forecasts are given for areas that can be many square miles),\n",
    "- `properties`, which includes all properties about the location you requested,\n",
    "- ...and a few others (`id`, `type`).\n",
    "\n",
    "You can inspect the data further by running `pointsJSON[\"geometry\"]` or `pointsJSON[\"properties\"]`.  In the following cell, inspect the **properties** data and look for the URL that provides the **hourly forecast**.\n"
   ]
  },
  {
   "cell_type": "code",
   "execution_count": 0,
   "metadata": {},
   "outputs": [],
   "source": [
    "..."
   ]
  },
  {
   "attachments": {},
   "cell_type": "markdown",
   "execution_count": 0,
   "metadata": {},
   "outputs": [],
   "source": [
    "### Record Your Forecast URL\n",
    "\n",
    "Finally, record the URL that you can use to find the hourly forecast for your location:"
   ]
  },
  {
   "cell_type": "code",
   "execution_count": 0,
   "metadata": {},
   "outputs": [],
   "source": [
    "hourlyForecastURL = \"\"\n",
    "hourlyForecastURL"
   ]
  },
  {
   "cell_type": "markdown",
   "execution_count": 0,
   "metadata": {},
   "outputs": [],
   "source": [
    "### 🔬 Microproject Checkpoint Tests 🔬"
   ]
  },
  {
   "cell_type": "code",
   "execution_count": 0,
   "metadata": {},
   "outputs": [],
   "source": [
    "### TEST CASE for Data API\n",
    "\n",
    "tada = \"\\N{PARTY POPPER}\"\n",
    "assert(\"/points/\" in pointsJSON[\"id\"])\n",
    "assert(f\"/{int(latitude)}\" in pointsJSON[\"id\"])\n",
    "assert(f\",{int(longitude)}\" in pointsJSON[\"id\"])\n",
    "assert(\"/gridpoints/\" in hourlyForecastURL)\n",
    "assert(\"/forecast/hourly\" in hourlyForecastURL)\n",
    "print(f\"{tada} Data API: All Tests Passed! {tada}\")"
   ]
  },
  {
   "attachments": {},
   "cell_type": "markdown",
   "execution_count": 0,
   "metadata": {},
   "outputs": [],
   "source": [
    "<hr style=\"color: #DD3403;\">"
   ]
  },
  {
   "attachments": {},
   "cell_type": "markdown",
   "execution_count": 0,
   "metadata": {},
   "outputs": [],
   "source": [
    "## Puzzle 1: Loading Your Weather Forecast as a DataFrame\n",
    "\n",
    "In the same way as you did in the beginning of this MicroProject, use `pd.read_json` to load the your weather forecast.  Store your result in the variable `forecastJSON`:"
   ]
  },
  {
   "cell_type": "code",
   "execution_count": 0,
   "metadata": {},
   "outputs": [],
   "source": [
    "forecastJSON = ...\n",
    "forecastJSON"
   ]
  },
  {
   "attachments": {},
   "cell_type": "markdown",
   "execution_count": 0,
   "metadata": {},
   "outputs": [],
   "source": [
    "### Finding the Forecast Data\n",
    "\n",
    "Inside of the `properties` data, the `periods` data provides a **well-defined, structured** set of data that contains the forecast for every hour for your location.\n",
    "\n",
    "Check out how it looks in the raw form:"
   ]
  },
  {
   "cell_type": "code",
   "execution_count": 0,
   "metadata": {},
   "outputs": [],
   "source": [
    "# Observe the \"top level\" of the JSON:\n",
    "forecastJSON"
   ]
  },
  {
   "cell_type": "code",
   "execution_count": 0,
   "metadata": {},
   "outputs": [],
   "source": [
    "# Observe the \"properties\" data in the JSON:\n",
    "forecastJSON[\"properties\"]"
   ]
  },
  {
   "cell_type": "code",
   "execution_count": 0,
   "metadata": {},
   "outputs": [],
   "source": [
    "# Observe the \"properties\"->\"periods\" data in the JSON:\n",
    "forecastJSON[\"properties\"][\"periods\"]"
   ]
  },
  {
   "attachments": {},
   "cell_type": "markdown",
   "execution_count": 0,
   "metadata": {},
   "outputs": [],
   "source": [
    "### Loading the Data at a DataFrame\n",
    "\n",
    "Since we have **clean, structured data**, we can read it into pandas!  The code below creates a DataFrame out of the above data by using the `pd.DataFrame` command:"
   ]
  },
  {
   "cell_type": "code",
   "execution_count": 0,
   "metadata": {},
   "outputs": [],
   "source": [
    "df = pd.DataFrame(forecastJSON[\"properties\"][\"periods\"])\n",
    "df"
   ]
  },
  {
   "cell_type": "markdown",
   "execution_count": 0,
   "metadata": {},
   "outputs": [],
   "source": [
    "### 🔬 Microproject Checkpoint Tests 🔬"
   ]
  },
  {
   "cell_type": "code",
   "execution_count": 0,
   "metadata": {},
   "outputs": [],
   "source": [
    "### TEST CASE for Puzzle 1: Loading Your Weather Forecast as a DataFrame\n",
    "\n",
    "tada = \"\\N{PARTY POPPER}\"\n",
    "assert(\"df\" in vars())\n",
    "assert(\"startTime\" in df)\n",
    "assert(\"temperature\" in df)\n",
    "print(f\"{tada} Puzzle 1: All Tests Passed! {tada}\")"
   ]
  },
  {
   "attachments": {},
   "cell_type": "markdown",
   "execution_count": 0,
   "metadata": {},
   "outputs": [],
   "source": [
    "<hr style=\"color: #DD3403;\">"
   ]
  },
  {
   "attachments": {},
   "cell_type": "markdown",
   "execution_count": 0,
   "metadata": {},
   "outputs": [],
   "source": [
    "## Puzzle 2: Exploring Your Weather\n",
    "\n",
    "Now that you have the weather forecast for **your location** loaded into the DataFrame `df`, it's time to nerd out with it!"
   ]
  },
  {
   "attachments": {},
   "cell_type": "markdown",
   "execution_count": 0,
   "metadata": {},
   "outputs": [],
   "source": [
    "### Your Warmest Upcoming Temperature\n",
    "\n",
    "Using your data, find the warmest temperature in the entire forecast!  Save that row as `df_warmest`:"
   ]
  },
  {
   "cell_type": "code",
   "execution_count": 0,
   "metadata": {},
   "outputs": [],
   "source": [
    "df_warmest = ...\n",
    "df_warmest"
   ]
  },
  {
   "attachments": {},
   "cell_type": "markdown",
   "execution_count": 0,
   "metadata": {},
   "outputs": [],
   "source": [
    "### Your Coldest Upcoming Temperature\n",
    "\n",
    "Using your data, find the coldest temperature in the entire forecast!  Save that row as `df_coldest`:"
   ]
  },
  {
   "cell_type": "code",
   "execution_count": 0,
   "metadata": {},
   "outputs": [],
   "source": [
    "df_coldest = ...\n",
    "df_coldest"
   ]
  },
  {
   "attachments": {},
   "cell_type": "markdown",
   "execution_count": 0,
   "metadata": {},
   "outputs": [],
   "source": [
    "### Hours of Sky Conditions\n",
    "\n",
    "The `shortForecast` column provides a brief summary of the forecasted condition of the sky for each hour.  Create a DataFrame that contains a summary of upcoming sky conditions in only two columns:\n",
    "\n",
    "- `shortForecast`, and\n",
    "- `count`, containing the number of times that `shortForecast` appears in the forecast\n",
    "\n",
    "For example, a `skySummary` might look like:\n",
    "\n",
    "---\n",
    "\n",
    "|    | shortForecast | count |\n",
    "|----|---------------|-------|\n",
    "| 0  | Sunny         | 39    |\n",
    "| 1  | Partly Cloudy | 31    |\n",
    "| ... | ... | ... |\n",
    "\n",
    "---\n",
    "\n",
    "Save the summary in the `skySummary` variable:"
   ]
  },
  {
   "cell_type": "code",
   "execution_count": 0,
   "metadata": {},
   "outputs": [],
   "source": [
    "skySummary = ..."
   ]
  },
  {
   "cell_type": "markdown",
   "execution_count": 0,
   "metadata": {},
   "outputs": [],
   "source": [
    "### 🔬 MicroProject Checkpoint Tests 🔬"
   ]
  },
  {
   "cell_type": "code",
   "execution_count": 0,
   "metadata": {},
   "outputs": [],
   "source": [
    "### TEST CASE for Puzzle 2: Exploring Your Weather\n",
    "\n",
    "tada = \"\\N{PARTY POPPER}\"\n",
    "\n",
    "assert( len(df_warmest) == 1 ), \"You should only have one warmest forecast record.\"\n",
    "assert( df_warmest[\"temperature\"].values[0] == max(df[\"temperature\"]) )\n",
    "\n",
    "assert( len(df_coldest) == 1 ), \"You should only have one coldest forecast record.\"\n",
    "assert( df_coldest[\"temperature\"].values[0] == min(df[\"temperature\"]) )\n",
    "\n",
    "assert( len(skySummary) == len(df[\"shortForecast\"].unique()) )\n",
    "for shortForecast in df[\"shortForecast\"].unique():\n",
    "  rows_len = len(df[ df[\"shortForecast\"] == shortForecast ])\n",
    "  summary_ct = skySummary[ skySummary[\"shortForecast\"] == shortForecast ][\"count\"].values[0]\n",
    "  assert( rows_len == summary_ct ), f\"Your skySummary for column {shortForecast} is incorrect (summary = {summary_ct}, expected = {rows_len}).\"\n",
    "\n",
    "print(f\"{tada} Puzzle 2: All Tests Passed! {tada}\")"
   ]
  },
  {
   "attachments": {},
   "cell_type": "markdown",
   "execution_count": 0,
   "metadata": {},
   "outputs": [],
   "source": [
    "<hr style=\"color: #DD3403;\">"
   ]
  },
  {
   "attachments": {},
   "cell_type": "markdown",
   "execution_count": 0,
   "metadata": {},
   "outputs": [],
   "source": [
    "## Puzzle 3: Create a Scatter Plot\n",
    "\n",
    "Finally, let's create a scatter plot of your forecast!\n",
    "\n",
    "Using `df.plot.scatter`, you must specify the `x` column name and `y` column name for your scatter plot to use the command:\n",
    "\n",
    "```\n",
    "df.plot.scatter(x=\"x-column\", y=\"y-column\")\n",
    "```\n",
    "\n",
    "Using your weather forecast:\n",
    "\n",
    "- Use the starting date of the forecast as your `x` value,\n",
    "- Use the temperature as your `y` value,\n",
    "- Create your scatter plot! :)\n",
    "\n",
    "Here's some additional options you can add to make your chart even better:\n",
    "- Add `xticks = df.startTime.values[::6]` to show only every 6th tick to get fewer x-axis labels,\n",
    "- Add `rot = 90` to rotate the labels 90 degrees (vertical),\n",
    "- Add `grid = True` to add gridlines,\n",
    "- Add `figsize = (10, 6)` to make the figure 10\" wide and 6\" tall to make it larger,\n",
    "- Add all of these options to get a really useful visualization! :)"
   ]
  },
  {
   "cell_type": "code",
   "execution_count": 0,
   "metadata": {},
   "outputs": [],
   "source": [
    "..."
   ]
  },
  {
   "cell_type": "markdown",
   "execution_count": 0,
   "metadata": {},
   "outputs": [],
   "source": [
    "### Finally, save your graph as a variable\n",
    "\n",
    "Just like DataFrames, graphs can be saved as a Python variable.  Return to the previous Python cell and save your graph as the variable `ax`.\n",
    "\n",
    "Your final cell will looks something like:\n",
    "```\n",
    "ax = df.plot.scatter(...)\n",
    "ax\n",
    "```"
   ]
  },
  {
   "cell_type": "markdown",
   "execution_count": 0,
   "metadata": {},
   "outputs": [],
   "source": [
    "### 🔬 MicroProject Checkpoint Tests 🔬"
   ]
  },
  {
   "cell_type": "code",
   "execution_count": 0,
   "metadata": {},
   "outputs": [],
   "source": [
    "### TEST CASE for Puzzle 3: Create a Scatter Plot\n",
    "\n",
    "tada = \"\\N{PARTY POPPER}\"\n",
    "import matplotlib.pyplot as plt\n",
    "\n",
    "assert( \"ax\" in vars() )\n",
    "assert( ax.axes.get_xticklabels()[0].get_text() in df.startTime.values )\n",
    "ytick = int(ax.axes.get_yticklabels()[0].get_text())\n",
    "assert( ytick > -200 )\n",
    "assert( ytick < 200 )\n",
    "\n",
    "print(f\"{tada} Puzzle 3: All Tests Passed! {tada}\")\n"
   ]
  },
  {
   "attachments": {},
   "cell_type": "markdown",
   "execution_count": 0,
   "metadata": {},
   "outputs": [],
   "source": [
    "<hr style=\"color: #DD3403;\">"
   ]
  },
  {
   "attachments": {},
   "cell_type": "markdown",
   "execution_count": 0,
   "metadata": {},
   "outputs": [],
   "source": [
    "## Submission\n",
    "\n",
    "You're almost done!  All you need to do is to commit your lab to GitHub and run the GitHub Actions Grader:\n",
    "\n",
    "1.  ⚠️ **Make certain to save your work.** ⚠️ To do this, go to **File => Save All**\n",
    "\n",
    "2.  After you have saved, exit this notebook and return to https://discovery.cs.illinois.edu/microproject/dataframe-nws-weather-forecast/ and complete the section **\"Commit and Grade Your Notebook\"**.\n",
    "\n",
    "3. If you see a 100% grade result on your GitHub Action, you've completed this MicroProject! 🎉"
   ]
  }
 ],
 "metadata": {
  "kernelspec": {
   "display_name": "Python 3.10.6 64-bit",
   "language": "python",
   "name": "python3"
  },
  "language_info": {
   "codemirror_mode": {
    "name": "ipython",
    "version": 3
   },
   "file_extension": ".py",
   "mimetype": "text/x-python",
   "name": "python",
   "nbconvert_exporter": "python",
   "pygments_lexer": "ipython3",
   "version": "3.11.4"
  },
  "vscode": {
   "interpreter": {
    "hash": "369f2c481f4da34e4445cda3fffd2e751bd1c4d706f27375911949ba6bb62e1c"
   }
  }
 },
 "nbformat": 4,
 "nbformat_minor": 2
}
