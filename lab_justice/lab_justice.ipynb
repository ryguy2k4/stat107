{
 "cells": [
  {
   "attachments": {},
   "cell_type": "markdown",
   "metadata": {},
   "source": [
    "# Welcome to Lab: Justice ⚖️\n",
    "\n",
    "We plan on continuing to explore simulation in Python this week. However, this time, we're going to simulate some **real-world events** that have actually happened in the past.  The goal is for you to see how we can use data science to think about issues of **equity** and **social justice**.  As usual, in addition to coding, we want you to get practice having **discussions about the data science** you're doing and think about how data science can be a useful tool that can help you in your future job and as a citizen.\n",
    "\n",
    "**IMPORTANT NOTE**: In this lab, it's *very* important that you read through the text carefully. Understanding the context is crucial for success in `lab_justice` :)\n",
    "\n",
    "A few tips to remember:\n",
    "\n",
    "- **You are not alone on your journey in learning programming!**  You have your lab Teaching Assistant, your CAs, your lab group, and the professors (Prof. Wade and Prof. Karle), who are all here to help you out!\n",
    "- If you find yourself stuck for more than a few minutes, ask a neighbor or course staff for help!  When you are giving help to your neighbor, explain the **idea and approach** to the problem without sharing the answer itself so they can have the same **<i>ah-hah</i>** moment!\n",
    "- We are here to help you!  Don't feel embarrassed or shy to ask us for help!\n",
    "\n",
    "Let's get started!"
   ]
  },
  {
   "cell_type": "code",
   "execution_count": 1,
   "metadata": {},
   "outputs": [],
   "source": [
    "# Meet your CAs and TA if you haven't already!\n",
    "# First name is enough, we'll know who they are! :)\n",
    "ta_name = \"Alex\"\n",
    "ca1_name = \"Ana\"\n",
    "ca2_name = \"Evan\"\n",
    "ca3_name = \"Areeba\"\n",
    "\n",
    "\n",
    "# Working with your group will be particularly important for discussion purposes in this week's lab! \n",
    "#\n",
    "# QOTD to Ask Your Group: \"What is your comfort food?\"\n",
    "partner1_name = \"Vivian\"\n",
    "partner1_netid = \"vivian4\"\n",
    "partner1_comfortfood = \"fruit\"\n",
    "\n",
    "partner2_name = \"Medha\"\n",
    "partner2_netid = \"medhak2\"\n",
    "partner2_comfortfood = \"ramen\"\n",
    "\n",
    "partner3_name = \"\"\n",
    "partner3_netid = \"\"\n",
    "partner3_comfortfood = \"\""
   ]
  },
  {
   "cell_type": "markdown",
   "metadata": {},
   "source": [
    "<hr style=\"color: #DD3403;\">"
   ]
  },
  {
   "attachments": {},
   "cell_type": "markdown",
   "metadata": {},
   "source": [
    "# Part 1: Jury Selection + Simulation\n",
    "\n",
    "The 6th Amendment to the U.S. Constitution provides the right to an **“impartial jury”** in criminal prosecutions, but what exactly does this mean? The Supreme Court has said that juries must be drawn from a representative cross-section of the community. In other words, juries should be **randomly selected** from the eligible population. However, there are many instances in history where it doesn’t seem like this was the case.\n",
    "\n",
    "Take for example, the case of Berghuis v. Smith.  In 1993, Smith (a Black man) was convicted of 2nd-degree murder by an **all-white** jury and sentenced to life in prison. The jury was selected from a panel of about 100 randomly selected people. Only 3 of them were Black and none of those 3 made it into the final 37 considered for Smith’s trial. The county population was approximately 8 percent Black at the time of the trial.  Remember, jury panels are supposed to be selected at random from the eligible population.\n",
    "\n",
    "### Analysis: Your Initial Thoughts\n",
    "**Group Discussion: Because 8% of the eligible population was Black, 3 Black people on a panel of 100 might seem low.  Does this difference (8% vs. 3%) seem big to you? Do you think this could be due to chance?**\n",
    "\n",
    "**Q1: Write a few sentences summarizing what your group members said during your discussion.  Did people think this difference could have been due to chance or not?**\n"
   ]
  },
  {
   "cell_type": "markdown",
   "metadata": {},
   "source": [
    "Yes, this difference could be due to chance."
   ]
  },
  {
   "attachments": {},
   "cell_type": "markdown",
   "metadata": {},
   "source": [
    "This case was appealed and sent to the Supreme Court.  Some people claimed that the overall percentage disparity (between 8% and 3%) was small and reflected no attempt to include or exclude \"a specified number of Black people from the jury.\" They claimed this \"small\" difference could simply be due to chance.  Critics and Smith claimed that the system of jury selection caused the lack of fair and reasonable representation of Black people on the jury.\n",
    "\n",
    "## Puzzle 1.1: Writing a Function\n",
    "\n",
    "Let’s do a simulation in Python to understand what’s going on.  We will eventually write a simulation to show the expected distribution.  \n",
    "\n",
    "Remember, from the case: we're trying to see if the difference between 8% and 3% is small and reflects no attempt to include or exclude \"a specified number of Black people.\"  In other words, we want to **write a function** to **randomly sample 100 people from a population that is 8% Black**. The function should `return` the **number of Black people in the simulated jury**.  We can do this multiple times and see how rare it is to get 3 or fewer Black people in the jury.\n",
    "\n",
    "First, using the cell below, import any necessary Python libraries. To write this simulation, `pandas` and `random` might be useful..."
   ]
  },
  {
   "cell_type": "code",
   "execution_count": 15,
   "metadata": {},
   "outputs": [],
   "source": [
    "import pandas as pd\n",
    "import random"
   ]
  },
  {
   "attachments": {},
   "cell_type": "markdown",
   "metadata": {},
   "source": [
    "Then, in the following cell, define our simulation function. Remember, the function should **randomly sample 100 people from a population that is 8% Black**. The function should `return` the **number of Black people in the simulated jury**."
   ]
  },
  {
   "cell_type": "code",
   "execution_count": 17,
   "metadata": {},
   "outputs": [
    {
     "data": {
      "text/plain": [
       "7"
      ]
     },
     "execution_count": 17,
     "metadata": {},
     "output_type": "execute_result"
    }
   ],
   "source": [
    "def simulateJuryPanel():\n",
    "  number = 0\n",
    "  for i in range(100):\n",
    "      n = random.randint(1,100)\n",
    "      if n <= 8:\n",
    "          number += 1\n",
    "  return number\n",
    "\n",
    "simulateJuryPanel()"
   ]
  },
  {
   "cell_type": "markdown",
   "metadata": {},
   "source": [
    "### 🔬 Test Case Checkpoint 🔬"
   ]
  },
  {
   "cell_type": "code",
   "execution_count": 18,
   "metadata": {},
   "outputs": [
    {
     "name": "stdout",
     "output_type": "stream",
     "text": [
      "🎉 All tests passed! 🎉\n"
     ]
    }
   ],
   "source": [
    "## == TEST CASES for Puzzle 1.1 ==\n",
    "# - This read-only cell contains test cases for your previous cells.\n",
    "# - If this cell runs without any error our output, you PASSED all test cases!\n",
    "# - If this cell results in any errors, check you previous cell, make changes, and RE-RUN your code and then this cell.\n",
    "assert callable(simulateJuryPanel), \"You should have defined `simulateJuryPanel` as a function above.\"\n",
    "assert isinstance(simulateJuryPanel(), int), \"Your simulateJuryPanel() function should return an integer that represents the number of Black people on a jury from a population that is 8% Black.\"\n",
    "test_juries = [simulateJuryPanel() for i in range(20)]\n",
    "for jury in test_juries:\n",
    "    assert(0 <= jury <= 100), \"Your simulateJuryPanel() should only return integers between 0 and 100.\"\n",
    "assert abs((sum(test_juries) / 20) - 8) <= 3, \"Your calculations in simulateJuryPanel() are incorrect.\"\n",
    "\n",
    "## == SUCCESS MESSAGE ==\n",
    "# You will only see this message (with the emoji showing) if you passed all test cases:\n",
    "tada = \"\\N{PARTY POPPER}\"\n",
    "print(f\"{tada} All tests passed! {tada}\")"
   ]
  },
  {
   "attachments": {},
   "cell_type": "markdown",
   "metadata": {},
   "source": [
    "## Puzzle 1.2: Storing Simulation Results\n",
    "\n",
    "Now that we have a working `simulateJuryPanel()` function, let's do a simulation and store the results in a DataFrame for analysis. Let’s start by doing this simulation **200 times**. Simulate choosing **200 jury panels** and store the number of Black people selected in every panel. Store these results in a DataFrame named `df`. \n",
    "\n",
    "The variable or column in the DataFrame should be named `panel`. "
   ]
  },
  {
   "cell_type": "code",
   "execution_count": 21,
   "metadata": {},
   "outputs": [
    {
     "data": {
      "text/html": [
       "<div>\n",
       "<style scoped>\n",
       "    .dataframe tbody tr th:only-of-type {\n",
       "        vertical-align: middle;\n",
       "    }\n",
       "\n",
       "    .dataframe tbody tr th {\n",
       "        vertical-align: top;\n",
       "    }\n",
       "\n",
       "    .dataframe thead th {\n",
       "        text-align: right;\n",
       "    }\n",
       "</style>\n",
       "<table border=\"1\" class=\"dataframe\">\n",
       "  <thead>\n",
       "    <tr style=\"text-align: right;\">\n",
       "      <th></th>\n",
       "      <th>panel</th>\n",
       "    </tr>\n",
       "  </thead>\n",
       "  <tbody>\n",
       "    <tr>\n",
       "      <th>0</th>\n",
       "      <td>7</td>\n",
       "    </tr>\n",
       "    <tr>\n",
       "      <th>1</th>\n",
       "      <td>7</td>\n",
       "    </tr>\n",
       "    <tr>\n",
       "      <th>2</th>\n",
       "      <td>9</td>\n",
       "    </tr>\n",
       "    <tr>\n",
       "      <th>3</th>\n",
       "      <td>8</td>\n",
       "    </tr>\n",
       "    <tr>\n",
       "      <th>4</th>\n",
       "      <td>5</td>\n",
       "    </tr>\n",
       "    <tr>\n",
       "      <th>...</th>\n",
       "      <td>...</td>\n",
       "    </tr>\n",
       "    <tr>\n",
       "      <th>195</th>\n",
       "      <td>7</td>\n",
       "    </tr>\n",
       "    <tr>\n",
       "      <th>196</th>\n",
       "      <td>11</td>\n",
       "    </tr>\n",
       "    <tr>\n",
       "      <th>197</th>\n",
       "      <td>7</td>\n",
       "    </tr>\n",
       "    <tr>\n",
       "      <th>198</th>\n",
       "      <td>8</td>\n",
       "    </tr>\n",
       "    <tr>\n",
       "      <th>199</th>\n",
       "      <td>13</td>\n",
       "    </tr>\n",
       "  </tbody>\n",
       "</table>\n",
       "<p>200 rows × 1 columns</p>\n",
       "</div>"
      ],
      "text/plain": [
       "     panel\n",
       "0        7\n",
       "1        7\n",
       "2        9\n",
       "3        8\n",
       "4        5\n",
       "..     ...\n",
       "195      7\n",
       "196     11\n",
       "197      7\n",
       "198      8\n",
       "199     13\n",
       "\n",
       "[200 rows x 1 columns]"
      ]
     },
     "execution_count": 21,
     "metadata": {},
     "output_type": "execute_result"
    }
   ],
   "source": [
    "data = []\n",
    "for i in range(200):\n",
    "    data.append({\"panel\": simulateJuryPanel()})\n",
    "df = pd.DataFrame(data)\n",
    "df"
   ]
  },
  {
   "cell_type": "markdown",
   "metadata": {},
   "source": [
    "### 🔬 Test Case Checkpoint 🔬"
   ]
  },
  {
   "cell_type": "code",
   "execution_count": 22,
   "metadata": {},
   "outputs": [
    {
     "name": "stdout",
     "output_type": "stream",
     "text": [
      "🎉 All tests passed! 🎉\n"
     ]
    }
   ],
   "source": [
    "## == TEST CASES for Puzzle 1.2 ==\n",
    "# - This read-only cell contains test cases for your previous cell.\n",
    "# - If this cell runs with the success message as your output, you PASSED all test cases!\n",
    "# - If this cell results in any errors, check your previous cell, make changes, & RE-RUN your code & then this cell.\n",
    "assert('df' in vars()), \"Make sure your DataFrame is named `df`.\"\n",
    "assert('panel' in df.columns.to_list()), \"Make sure your simulations are stored in a column named `panel`.\"\n",
    "assert(len(df) == 200), \"Your DataFrame is the wrong length. Perhaps you did not simulate 100 times?\"\n",
    "\n",
    "## == SUCCESS MESSAGE ==\n",
    "# You'll only see this message (With the emoji showing) if you passed all test cases:\n",
    "tada = \"\\N{PARTY POPPER}\"\n",
    "print(f\"{tada} All tests passed! {tada}\")"
   ]
  },
  {
   "attachments": {},
   "cell_type": "markdown",
   "metadata": {},
   "source": [
    "## Puzzle 1.3: Visualization\n",
    "\n",
    "Now, let's visualize the results of our simulation. Using functions we've learned from prior labs, generate a histogram of the results below:"
   ]
  },
  {
   "cell_type": "code",
   "execution_count": 26,
   "metadata": {},
   "outputs": [
    {
     "data": {
      "text/plain": [
       "array([[<Axes: title={'center': 'panel'}>]], dtype=object)"
      ]
     },
     "execution_count": 26,
     "metadata": {},
     "output_type": "execute_result"
    },
    {
     "data": {
      "image/png": "[encoded data removed]",
      "text/plain": [
       "<Figure size 640x480 with 1 Axes>"
      ]
     },
     "metadata": {},
     "output_type": "display_data"
    }
   ],
   "source": [
    "df.hist(bins=50)"
   ]
  },
  {
   "attachments": {},
   "cell_type": "markdown",
   "metadata": {},
   "source": [
    "### Analysis: Simulating Juries\n",
    "\n",
    "**Group Discussion: Interpret the results of your histogram. How does your histogram provide evidence for or against the claim that the jury wasn't fair?  What does this tell us about this case?  Do you think this could have happened by chance?  If so, why? If not, why not?**\n",
    "\n",
    "**Q2: Write down the most interesting takeaway from your group discussion.**"
   ]
  },
  {
   "cell_type": "markdown",
   "metadata": {},
   "source": [
    "The histogram shows that 10/200 simulations had jurys with only 3 black people. A 5% chance is very possible to actually occur, so it could have happened by chance."
   ]
  },
  {
   "attachments": {},
   "cell_type": "markdown",
   "metadata": {},
   "source": [
    "## Puzzle 1.4: Observed and Expected Value\n",
    "\n",
    "### Analysis: Expected Value\n",
    "**Q3: Considering our population metrics, what was the expected value for the number of Black people in the jury?**  "
   ]
  },
  {
   "cell_type": "markdown",
   "metadata": {},
   "source": [
    "8"
   ]
  },
  {
   "attachments": {},
   "cell_type": "markdown",
   "metadata": {},
   "source": [
    "Using our simulation, we will observe and note any differences between the actual mean number of Black people in the juries and our expected value. \n",
    "\n",
    "Using the cell below, calculate the `mean` number of Black people in a jury from our `df` that you created from the simulation. Store your result in the variable `mean`. "
   ]
  },
  {
   "cell_type": "code",
   "execution_count": 27,
   "metadata": {},
   "outputs": [
    {
     "data": {
      "text/plain": [
       "7.84"
      ]
     },
     "execution_count": 27,
     "metadata": {},
     "output_type": "execute_result"
    }
   ],
   "source": [
    "mean = df.panel.mean()\n",
    "mean"
   ]
  },
  {
   "cell_type": "markdown",
   "metadata": {},
   "source": [
    "### 🔬 Test Case Checkpoint 🔬"
   ]
  },
  {
   "cell_type": "code",
   "execution_count": 28,
   "metadata": {},
   "outputs": [
    {
     "name": "stdout",
     "output_type": "stream",
     "text": [
      "🎉 All tests passed! 🎉\n"
     ]
    }
   ],
   "source": [
    "## == TEST CASES for Puzzle 1.4 ==\n",
    "# - This read-only cell contains test cases for your previous cell.\n",
    "# - If this cell runs with the success message as your output, you PASSED all test cases!\n",
    "# - If this cell results in any errors, check your previous cell, make changes, & RE-RUN your code & then this cell.\n",
    "assert('mean' in vars()), \"You should store your calculated result for the mean in a variable named `mean`.\"\n",
    "assert(mean < 10), \"You didn't calculate the mean correctly!\"\n",
    "assert(mean > 5), \"You didn't calculate the mean correctly!\"\n",
    "\n",
    "## == SUCCESS MESSAGE ==\n",
    "# You'll only see this message (With the emoji showing) if you passed all test cases:\n",
    "tada = \"\\N{PARTY POPPER}\"\n",
    "print(f\"{tada} All tests passed! {tada}\")"
   ]
  },
  {
   "attachments": {},
   "cell_type": "markdown",
   "metadata": {},
   "source": [
    "## Puzzle 1.5: Simulating, Again!\n",
    "\n",
    "Run the simulation of picking juries again, but this time run your function **10,000 times.** \n",
    "\n",
    "First, run your simulation, storing data in a dataframe called `df2` with a column named `panel`.\n",
    "\n",
    "**Hint:** you can use the same code that you've written for Puzzle 1.2 with **one** small change. "
   ]
  },
  {
   "cell_type": "code",
   "execution_count": 29,
   "metadata": {},
   "outputs": [
    {
     "data": {
      "text/html": [
       "<div>\n",
       "<style scoped>\n",
       "    .dataframe tbody tr th:only-of-type {\n",
       "        vertical-align: middle;\n",
       "    }\n",
       "\n",
       "    .dataframe tbody tr th {\n",
       "        vertical-align: top;\n",
       "    }\n",
       "\n",
       "    .dataframe thead th {\n",
       "        text-align: right;\n",
       "    }\n",
       "</style>\n",
       "<table border=\"1\" class=\"dataframe\">\n",
       "  <thead>\n",
       "    <tr style=\"text-align: right;\">\n",
       "      <th></th>\n",
       "      <th>panel</th>\n",
       "    </tr>\n",
       "  </thead>\n",
       "  <tbody>\n",
       "    <tr>\n",
       "      <th>0</th>\n",
       "      <td>8</td>\n",
       "    </tr>\n",
       "    <tr>\n",
       "      <th>1</th>\n",
       "      <td>7</td>\n",
       "    </tr>\n",
       "    <tr>\n",
       "      <th>2</th>\n",
       "      <td>10</td>\n",
       "    </tr>\n",
       "    <tr>\n",
       "      <th>3</th>\n",
       "      <td>7</td>\n",
       "    </tr>\n",
       "    <tr>\n",
       "      <th>4</th>\n",
       "      <td>16</td>\n",
       "    </tr>\n",
       "    <tr>\n",
       "      <th>...</th>\n",
       "      <td>...</td>\n",
       "    </tr>\n",
       "    <tr>\n",
       "      <th>9995</th>\n",
       "      <td>8</td>\n",
       "    </tr>\n",
       "    <tr>\n",
       "      <th>9996</th>\n",
       "      <td>15</td>\n",
       "    </tr>\n",
       "    <tr>\n",
       "      <th>9997</th>\n",
       "      <td>7</td>\n",
       "    </tr>\n",
       "    <tr>\n",
       "      <th>9998</th>\n",
       "      <td>5</td>\n",
       "    </tr>\n",
       "    <tr>\n",
       "      <th>9999</th>\n",
       "      <td>8</td>\n",
       "    </tr>\n",
       "  </tbody>\n",
       "</table>\n",
       "<p>10000 rows × 1 columns</p>\n",
       "</div>"
      ],
      "text/plain": [
       "      panel\n",
       "0         8\n",
       "1         7\n",
       "2        10\n",
       "3         7\n",
       "4        16\n",
       "...     ...\n",
       "9995      8\n",
       "9996     15\n",
       "9997      7\n",
       "9998      5\n",
       "9999      8\n",
       "\n",
       "[10000 rows x 1 columns]"
      ]
     },
     "execution_count": 29,
     "metadata": {},
     "output_type": "execute_result"
    }
   ],
   "source": [
    "data = []\n",
    "for i in range(10000):\n",
    "    data.append({\"panel\": simulateJuryPanel()})\n",
    "df2 = pd.DataFrame(data)\n",
    "df2"
   ]
  },
  {
   "cell_type": "markdown",
   "metadata": {},
   "source": [
    "### 🔬 Test Case Checkpoint 🔬"
   ]
  },
  {
   "cell_type": "code",
   "execution_count": 30,
   "metadata": {},
   "outputs": [
    {
     "name": "stdout",
     "output_type": "stream",
     "text": [
      "🎉 All tests passed! 🎉\n"
     ]
    }
   ],
   "source": [
    "## == TEST CASES for Puzzle 1.5 == \n",
    "# - This read-only cell contains test cases for your previous cell.\n",
    "# - If this cell runs with the success message as your output, you PASSED all test cases!\n",
    "# - If this cell results in any errors, check your previous cell, make changes, & RE-RUN your code & then this cell.\n",
    "assert('df2' in vars()), \"Make sure your DataFrame is named `df2`.\"\n",
    "assert('panel' in df2.columns.to_list()), \"Make sure your simulations are stored in a column named `panel`.\"\n",
    "assert(len(df2) == 10000), \"Your DataFrame is the wrong length. Perhaps you did not simulate 10000 times?\"\n",
    "\n",
    "## == SUCCESS MESSAGE ==\n",
    "# You'll only see this message (With the emoji showing) if you passed all test cases:\n",
    "tada = \"\\N{PARTY POPPER}\"\n",
    "print(f\"{tada} All tests passed! {tada}\")"
   ]
  },
  {
   "attachments": {},
   "cell_type": "markdown",
   "metadata": {},
   "source": [
    "Now, using your results from `df2`, generate a histogram of the results below:"
   ]
  },
  {
   "cell_type": "code",
   "execution_count": 31,
   "metadata": {},
   "outputs": [
    {
     "data": {
      "text/plain": [
       "array([[<Axes: title={'center': 'panel'}>]], dtype=object)"
      ]
     },
     "execution_count": 31,
     "metadata": {},
     "output_type": "execute_result"
    },
    {
     "data": {
      "image/png": "[encoded data removed]",
      "text/plain": [
       "<Figure size 640x480 with 1 Axes>"
      ]
     },
     "metadata": {},
     "output_type": "display_data"
    }
   ],
   "source": [
    "df2.hist(bins=50)"
   ]
  },
  {
   "attachments": {},
   "cell_type": "markdown",
   "metadata": {},
   "source": [
    "And just like before, find the mean number of Black people on the randomly selected juries from your **10,000 simulations**. Store the result in a variable `mean2`:"
   ]
  },
  {
   "cell_type": "code",
   "execution_count": 32,
   "metadata": {},
   "outputs": [
    {
     "data": {
      "text/plain": [
       "7.9842"
      ]
     },
     "execution_count": 32,
     "metadata": {},
     "output_type": "execute_result"
    }
   ],
   "source": [
    "mean2 = df2.panel.mean()\n",
    "mean2"
   ]
  },
  {
   "cell_type": "markdown",
   "metadata": {},
   "source": [
    "### 🔬 Test Case Checkpoint 🔬"
   ]
  },
  {
   "cell_type": "code",
   "execution_count": 33,
   "metadata": {},
   "outputs": [
    {
     "name": "stdout",
     "output_type": "stream",
     "text": [
      "🎉 All tests passed! 🎉\n"
     ]
    }
   ],
   "source": [
    "## == TEST CASES for Puzzle 1.5 ==\n",
    "# - This read-only cell contains test cases for your previous cell.\n",
    "# - If this cell runs with the success message as your output, you PASSED all test cases!\n",
    "# - If this cell results in any errors, check your previous cell, make changes, & RE-RUN your code & then this cell.\n",
    "assert('mean2' in vars()), \"You should store your calculated result for the mean in a variable named `mean2`.\"\n",
    "assert(mean2 < 8.5), \"You didn't calculate the mean correctly!\"\n",
    "assert(mean2 > 7.5), \"You didn't calculate the mean correctly!\"\n",
    "\n",
    "## == SUCCESS MESSAGE ==\n",
    "# You'll only see this message (With the emoji showing) if you passed all test cases:\n",
    "tada = \"\\N{PARTY POPPER}\"\n",
    "print(f\"{tada} All tests passed! {tada}\")"
   ]
  },
  {
   "attachments": {},
   "cell_type": "markdown",
   "metadata": {},
   "source": [
    "## Puzzle 1.6: Probability\n",
    "\n",
    "Now that we've done two simulations and some analysis, let's **estimate the probability** that we'll get **3 or less** Black men on the jury using `df2`.  Store your results in a variable named `probability`. You may want to think back to conditionals - that'll help here."
   ]
  },
  {
   "cell_type": "code",
   "execution_count": 34,
   "metadata": {},
   "outputs": [
    {
     "data": {
      "text/plain": [
       "0.038"
      ]
     },
     "execution_count": 34,
     "metadata": {},
     "output_type": "execute_result"
    }
   ],
   "source": [
    "probability = len(df2[df2.panel <= 3])/len(df2)\n",
    "probability"
   ]
  },
  {
   "cell_type": "markdown",
   "metadata": {},
   "source": [
    "### 🔬 Test Case Checkpoint 🔬"
   ]
  },
  {
   "cell_type": "code",
   "execution_count": 35,
   "metadata": {},
   "outputs": [
    {
     "name": "stdout",
     "output_type": "stream",
     "text": [
      "🎉 All tests passed! 🎉\n"
     ]
    }
   ],
   "source": [
    "## == TEST CASES for Puzzle 1.6 ==\n",
    "# - This read-only cell contains test cases for your previous cell.\n",
    "# - If this cell runs with the success message as your output, you PASSED all test cases!\n",
    "# - If this cell results in any errors, check your previous cell, make changes, & RE-RUN your code & then this cell.\n",
    "assert('probability' in vars()), \"Your probability should be stored in a variable named `probability`.\"\n",
    "assert(probability < 0.05), \"You didn't calculate the probability correctly!\"\n",
    "assert(probability > 0), \"You didn't calculate the probability correctly!\"\n",
    "\n",
    "## == SUCCESS MESSAGE ==\n",
    "# You'll only see this message (With the emoji showing) if you passed all test cases:\n",
    "tada = \"\\N{PARTY POPPER}\"\n",
    "print(f\"{tada} All tests passed! {tada}\")"
   ]
  },
  {
   "cell_type": "markdown",
   "metadata": {},
   "source": [
    "### Analysis: Final Jury Reflections\n",
    "\n",
    "**Q4: What does this probability mean? Given this probability, do you think this outcome is due to chance or not?**  "
   ]
  },
  {
   "cell_type": "markdown",
   "metadata": {},
   "source": [
    "This means that there is approximately a 3.8% chance of randomly selecting 3 or less black men on a jury. Given 3.8%, I think that this outcome is likely not due to chance, but it is still certainly possible."
   ]
  },
  {
   "cell_type": "markdown",
   "metadata": {},
   "source": [
    "**Q5: How did your results change with a larger simulation? What does this tell us about the more simulations you run?**  "
   ]
  },
  {
   "cell_type": "markdown",
   "metadata": {},
   "source": [
    "The 200 run simulation predicted 5%, and the 10,000 run simulation predicted 3.8%. This tells me that running a simulation more times will produce a more accurate probability estimation."
   ]
  },
  {
   "cell_type": "markdown",
   "metadata": {},
   "source": [
    "**Group Discussion: This is an example of how we can use statistics to help us solve real world problems.  Discuss with your group how simulations and data science can be used to help address issues of racism specifically.**\n",
    "\n",
    "**Q6: Give an example of a way that we can use data science to help address issues of racism.  This can be something you discussed in your group or an example you're interested in.**"
   ]
  },
  {
   "cell_type": "markdown",
   "metadata": {},
   "source": [
    "Statistics and data science can be used to determine when biases are having an impact on processes that are supposed to be random by identifying cases where the probability of the outcome is impossibly small, especially when considering multiple events in combination."
   ]
  },
  {
   "cell_type": "markdown",
   "metadata": {},
   "source": [
    "<hr style=\"color: #DD3403;\">"
   ]
  },
  {
   "attachments": {},
   "cell_type": "markdown",
   "metadata": {},
   "source": [
    "# Part 2: Names and Resumes\n",
    "\n",
    "Our next problem comes from a study looking at the correlation between names and the job hiring process.  You can read the fully study here if you’d like: \n",
    ">[https://www.nber.org/system/files/working_papers/w9873/w9873.pdf](https://www.nber.org/system/files/working_papers/w9873/w9873.pdf) \n",
    "\n",
    "Here’s a summary of some findings from their study: \n",
    "- The researchers sent out a total of **4,890 resumes** to postings in Chicago and Boston. \n",
    "- The resumes that they sent were **identical**, except they changed the **names and email addresses** to have either a \"white sounding\" name or a \"black sounding\" name, according to the study.  \n",
    "- There were an equal number of resumes with \"white sounding\" and \"black sounding\" names sent out (2,445 each).\n",
    "- The resumes with \"white sounding\" names were called back for an interview **10.06%** of the time while the \"black sounding\" names were called back for an interview **6.87%** of the time. \n",
    "\n",
    "### Analysis: Initial Thoughts\n",
    "\n",
    "**Q7 (Group Discussion): Before we start coding, let’s think about this. Consider the results from the study above. Do you think this is a significant difference? Why do you think this happened? Why or why not is this problematic?**\n",
    "\n",
    "**Q8: Write down something that surprised you from your group discussion.**"
   ]
  },
  {
   "cell_type": "markdown",
   "metadata": {},
   "source": [
    "Yes, this is a significant difference. I think this happened because of racist and biased people doing the hiring. This is problematic because it is an unfair disadvantage to black people."
   ]
  },
  {
   "attachments": {},
   "cell_type": "markdown",
   "metadata": {},
   "source": [
    "**Assuming** that **any given resume** has about a **20% chance** of getting a call back, let’s simulate this study.\n",
    "\n",
    "Since the content of the resumes are identical, we should expect to get an **equal number of callbacks** for both types of names.  In other words, picking the callbacks should be like **random sampling**. \n",
    "\n",
    "We've simulated the data in `resumes.csv` and wrote part of a simulation function to randomly sample 20% of the **4,890** resumes 10,000 times. You will load in the data and complete the simulation below. "
   ]
  },
  {
   "attachments": {},
   "cell_type": "markdown",
   "metadata": {},
   "source": [
    "## Puzzle 2.1: Load in the Data\n",
    "\n",
    "In the same folder as this lab, you have a **dataset of resumes** named `resumes.csv` that contains **4,890 rows** - the **same number** of resumes used in the study. \n",
    "\n",
    "Half are 0s (representing resumes with \"white sounding\" names) and the other half are 1s (representing resumes with \"black sounding\" names).\n",
    "\n",
    "Using `pandas`, load this data into a DataFrame named `df3`:"
   ]
  },
  {
   "cell_type": "code",
   "execution_count": 36,
   "metadata": {},
   "outputs": [
    {
     "data": {
      "text/html": [
       "<div>\n",
       "<style scoped>\n",
       "    .dataframe tbody tr th:only-of-type {\n",
       "        vertical-align: middle;\n",
       "    }\n",
       "\n",
       "    .dataframe tbody tr th {\n",
       "        vertical-align: top;\n",
       "    }\n",
       "\n",
       "    .dataframe thead th {\n",
       "        text-align: right;\n",
       "    }\n",
       "</style>\n",
       "<table border=\"1\" class=\"dataframe\">\n",
       "  <thead>\n",
       "    <tr style=\"text-align: right;\">\n",
       "      <th></th>\n",
       "      <th>Resumes</th>\n",
       "    </tr>\n",
       "  </thead>\n",
       "  <tbody>\n",
       "    <tr>\n",
       "      <th>0</th>\n",
       "      <td>0</td>\n",
       "    </tr>\n",
       "    <tr>\n",
       "      <th>1</th>\n",
       "      <td>0</td>\n",
       "    </tr>\n",
       "    <tr>\n",
       "      <th>2</th>\n",
       "      <td>0</td>\n",
       "    </tr>\n",
       "    <tr>\n",
       "      <th>3</th>\n",
       "      <td>0</td>\n",
       "    </tr>\n",
       "    <tr>\n",
       "      <th>4</th>\n",
       "      <td>0</td>\n",
       "    </tr>\n",
       "    <tr>\n",
       "      <th>...</th>\n",
       "      <td>...</td>\n",
       "    </tr>\n",
       "    <tr>\n",
       "      <th>4885</th>\n",
       "      <td>1</td>\n",
       "    </tr>\n",
       "    <tr>\n",
       "      <th>4886</th>\n",
       "      <td>1</td>\n",
       "    </tr>\n",
       "    <tr>\n",
       "      <th>4887</th>\n",
       "      <td>1</td>\n",
       "    </tr>\n",
       "    <tr>\n",
       "      <th>4888</th>\n",
       "      <td>1</td>\n",
       "    </tr>\n",
       "    <tr>\n",
       "      <th>4889</th>\n",
       "      <td>1</td>\n",
       "    </tr>\n",
       "  </tbody>\n",
       "</table>\n",
       "<p>4890 rows × 1 columns</p>\n",
       "</div>"
      ],
      "text/plain": [
       "      Resumes\n",
       "0           0\n",
       "1           0\n",
       "2           0\n",
       "3           0\n",
       "4           0\n",
       "...       ...\n",
       "4885        1\n",
       "4886        1\n",
       "4887        1\n",
       "4888        1\n",
       "4889        1\n",
       "\n",
       "[4890 rows x 1 columns]"
      ]
     },
     "execution_count": 36,
     "metadata": {},
     "output_type": "execute_result"
    }
   ],
   "source": [
    "df3 = pd.read_csv(\"resumes.csv\")\n",
    "df3"
   ]
  },
  {
   "cell_type": "markdown",
   "metadata": {},
   "source": [
    "### 🔬 Test Case Checkpoint 🔬"
   ]
  },
  {
   "cell_type": "code",
   "execution_count": 37,
   "metadata": {},
   "outputs": [
    {
     "name": "stdout",
     "output_type": "stream",
     "text": [
      "🎉 All tests passed! 🎉\n"
     ]
    }
   ],
   "source": [
    "## == TEST CASES for Puzzle 2.1 ==\n",
    "# - This read-only cell contains test cases for your previous cell.\n",
    "# - If this cell runs with the success message as your output, you PASSED all test cases!\n",
    "# - If this cell results in any errors, check your previous cell, make changes, & RE-RUN your code & then this cell.\n",
    "assert('df3' in vars()), \"Your DataFrame of resumes should be named `df3`.\"\n",
    "assert((len(df3) == 4890) & ('Resumes' in df3.columns.to_list())), \"This isn't the Dataset we are looking for. Make sure you are loading the resumes.csv file.\"\n",
    "\n",
    "## == SUCCESS MESSAGE ==\n",
    "# You'll only see this message (With the emoji showing) if you passed all test cases:\n",
    "tada = \"\\N{PARTY POPPER}\"\n",
    "print(f\"{tada} All tests passed! {tada}\")"
   ]
  },
  {
   "attachments": {},
   "cell_type": "markdown",
   "metadata": {},
   "source": [
    "## Puzzle 2.2: Complete the Function\n",
    "\n",
    "Below is an incomplete function that **samples 20% of the 4890 rows** and **counts the numbers of 0s and 1s**. \n",
    "\n",
    "Complete the **second line of code** inside this function to **randomly sample 20% of `df3`** and store the results in a DataFrame named `df4`. \n",
    "\n",
    "Make sure to run the cell after filling in the code to see our results!"
   ]
  },
  {
   "cell_type": "code",
   "execution_count": 58,
   "metadata": {},
   "outputs": [
    {
     "data": {
      "text/plain": [
       "(490, 488)"
      ]
     },
     "execution_count": 58,
     "metadata": {},
     "output_type": "execute_result"
    }
   ],
   "source": [
    "def simulateResumes():\n",
    "    ... ## fill in this line of code that randomly samples 20% of df3 and stores the results in df4\n",
    "    df4 = df3.sample(frac=0.2)\n",
    "    white_sounding = len(df4[df4.Resumes == 0])\n",
    "    black_sounding = len(df4[df4.Resumes == 1])\n",
    "    return white_sounding, black_sounding\n",
    "    \n",
    "simulateResumes() "
   ]
  },
  {
   "cell_type": "markdown",
   "metadata": {},
   "source": [
    "### 🔬 Test Case Checkpoint 🔬"
   ]
  },
  {
   "cell_type": "code",
   "execution_count": 43,
   "metadata": {},
   "outputs": [
    {
     "name": "stdout",
     "output_type": "stream",
     "text": [
      "🎉 All tests passed! 🎉\n"
     ]
    }
   ],
   "source": [
    "## == TEST CASES for Puzzle 2.2 ==\n",
    "# - This read-only cell contains test cases for your previous cell.\n",
    "# - If this cell runs with the success message as your output, you PASSED all test cases!\n",
    "# - If this cell results in any errors, check your previous cell, make changes, & RE-RUN your code & then this cell.\n",
    "assert callable(simulateResumes), \"You should have defined `simulateResumes` as a function above.\"\n",
    "assert isinstance(simulateResumes(), tuple), \"Your simulateResumes() function should return a pair of ints that represents the number of white-sounding and black-sounding names chosen.\"\n",
    "test_instance = simulateResumes()\n",
    "assert(test_instance[0] + test_instance[1] == 978), \"Your function doesn't return the correct number of resumes. Make sure you are sampling 20 percent of df3.\"\n",
    "\n",
    "\n",
    "## == SUCCESS MESSAGE ==\n",
    "# You'll only see this message (With the emoji showing) if you passed all test cases:\n",
    "tada = \"\\N{PARTY POPPER}\"\n",
    "print(f\"{tada} All tests passed! {tada}\")"
   ]
  },
  {
   "attachments": {},
   "cell_type": "markdown",
   "metadata": {},
   "source": [
    "## Simulating The Study\n",
    "\n",
    "Now that we've defined our `simulateResumes()` function properly, we can simulate randomly picking **20% of the 4890 resumes 10,000 times**! This has been **done already in the cell below**. Each time we call `simulateResumes()`, the 20% that we sample represents the resumes that got **callbacks**. We're then creating a DataFrame named `df5` that contains the number of black sounding names and white sounding names. \n",
    "\n",
    "**DO NOT change anything in the following cell, just run it!**"
   ]
  },
  {
   "cell_type": "code",
   "execution_count": 59,
   "metadata": {},
   "outputs": [
    {
     "data": {
      "text/html": [
       "<div>\n",
       "<style scoped>\n",
       "    .dataframe tbody tr th:only-of-type {\n",
       "        vertical-align: middle;\n",
       "    }\n",
       "\n",
       "    .dataframe tbody tr th {\n",
       "        vertical-align: top;\n",
       "    }\n",
       "\n",
       "    .dataframe thead th {\n",
       "        text-align: right;\n",
       "    }\n",
       "</style>\n",
       "<table border=\"1\" class=\"dataframe\">\n",
       "  <thead>\n",
       "    <tr style=\"text-align: right;\">\n",
       "      <th></th>\n",
       "      <th>white_sounding</th>\n",
       "      <th>black_sounding</th>\n",
       "    </tr>\n",
       "  </thead>\n",
       "  <tbody>\n",
       "    <tr>\n",
       "      <th>0</th>\n",
       "      <td>469</td>\n",
       "      <td>509</td>\n",
       "    </tr>\n",
       "    <tr>\n",
       "      <th>1</th>\n",
       "      <td>501</td>\n",
       "      <td>477</td>\n",
       "    </tr>\n",
       "    <tr>\n",
       "      <th>2</th>\n",
       "      <td>497</td>\n",
       "      <td>481</td>\n",
       "    </tr>\n",
       "    <tr>\n",
       "      <th>3</th>\n",
       "      <td>494</td>\n",
       "      <td>484</td>\n",
       "    </tr>\n",
       "    <tr>\n",
       "      <th>4</th>\n",
       "      <td>502</td>\n",
       "      <td>476</td>\n",
       "    </tr>\n",
       "    <tr>\n",
       "      <th>...</th>\n",
       "      <td>...</td>\n",
       "      <td>...</td>\n",
       "    </tr>\n",
       "    <tr>\n",
       "      <th>9995</th>\n",
       "      <td>483</td>\n",
       "      <td>495</td>\n",
       "    </tr>\n",
       "    <tr>\n",
       "      <th>9996</th>\n",
       "      <td>488</td>\n",
       "      <td>490</td>\n",
       "    </tr>\n",
       "    <tr>\n",
       "      <th>9997</th>\n",
       "      <td>488</td>\n",
       "      <td>490</td>\n",
       "    </tr>\n",
       "    <tr>\n",
       "      <th>9998</th>\n",
       "      <td>470</td>\n",
       "      <td>508</td>\n",
       "    </tr>\n",
       "    <tr>\n",
       "      <th>9999</th>\n",
       "      <td>488</td>\n",
       "      <td>490</td>\n",
       "    </tr>\n",
       "  </tbody>\n",
       "</table>\n",
       "<p>10000 rows × 2 columns</p>\n",
       "</div>"
      ],
      "text/plain": [
       "      white_sounding  black_sounding\n",
       "0                469             509\n",
       "1                501             477\n",
       "2                497             481\n",
       "3                494             484\n",
       "4                502             476\n",
       "...              ...             ...\n",
       "9995             483             495\n",
       "9996             488             490\n",
       "9997             488             490\n",
       "9998             470             508\n",
       "9999             488             490\n",
       "\n",
       "[10000 rows x 2 columns]"
      ]
     },
     "execution_count": 59,
     "metadata": {},
     "output_type": "execute_result"
    }
   ],
   "source": [
    "data = []\n",
    "for i in range(10000):  # Simulate 10,000 times\n",
    "  result = simulateResumes()\n",
    "  data.append( { 'white_sounding': result[0], 'black_sounding': result[1]} )\n",
    "df5 = pd.DataFrame(data)\n",
    "df5"
   ]
  },
  {
   "attachments": {},
   "cell_type": "markdown",
   "metadata": {},
   "source": [
    "## Puzzle 2.3: Calculating the Callback Rate\n",
    "\n",
    "Now that we've got our simulation results stored in `df5`, let's do some calculations and analysis. \n",
    "\n",
    "We will calculate **average callback rate** for **each group of names** in the simulation (these should be **close to 20%** for each group of names). The average callback rate for a group of names can be calculated by taking the number of callbacks for that group and dividing it by the number of submitted resumes for that group.\n",
    "\n",
    "First, using the cell below, calculate the **average callback rate** of the resumes with **\"white sounding\"** names using the **average number of white sounding callbacks** from all the simulations and the number of **white sounding** resumes submitted in the study, storing your decimal result in the variable `avg_white`.  \n",
    "\n",
    "Remember that for **each simulation** (represented by a row in `df5`), there were a total of **4,890 resumes** submitted in the study, and **half** of them used names that are \"white sounding\"."
   ]
  },
  {
   "cell_type": "code",
   "execution_count": 65,
   "metadata": {},
   "outputs": [
    {
     "data": {
      "text/plain": [
       "0.19993108384458078"
      ]
     },
     "execution_count": 65,
     "metadata": {},
     "output_type": "execute_result"
    }
   ],
   "source": [
    "avg_white = df5.white_sounding.mean()/2445\n",
    "avg_white"
   ]
  },
  {
   "attachments": {},
   "cell_type": "markdown",
   "metadata": {},
   "source": [
    "Next, using the following cell, calculate the **average callback rate** of the resumes with **\"black sounding\"** names using the **average number of black sounding callbacks** from all the simulations and the number of **black sounding** resumes submitted in the study, storing your decimal result in the variable `avg_black`.  Remember there were a total of **4,890 resumes** submitted in the study, and **half** of them used names that are \"black sounding\".\n"
   ]
  },
  {
   "cell_type": "code",
   "execution_count": 66,
   "metadata": {},
   "outputs": [
    {
     "data": {
      "text/plain": [
       "0.20006891615541922"
      ]
     },
     "execution_count": 66,
     "metadata": {},
     "output_type": "execute_result"
    }
   ],
   "source": [
    "avg_black = df5.black_sounding.mean()/2445\n",
    "avg_black"
   ]
  },
  {
   "cell_type": "markdown",
   "metadata": {},
   "source": [
    "### 🔬 Test Case Checkpoint 🔬"
   ]
  },
  {
   "cell_type": "code",
   "execution_count": 67,
   "metadata": {},
   "outputs": [
    {
     "name": "stdout",
     "output_type": "stream",
     "text": [
      "🎉 All tests passed! 🎉\n"
     ]
    }
   ],
   "source": [
    "## == TEST CASES for Puzzle 2.3 ==\n",
    "# - This read-only cell contains test cases for your previous cell.\n",
    "# - If this cell runs with the success message as your output, you PASSED all test cases!\n",
    "# - If this cell results in any errors, check your previous cell, make changes, & RE-RUN your code & then this cell.\n",
    "import math \n",
    "assert('avg_white' in vars() and 'avg_black' in vars()), \"Your probabilities should be named `avg_white` and `avg_black`.\"\n",
    "assert(isinstance(avg_white, float) and isinstance(avg_black, float)), \"Your probabilities should be a percentage represented as a decimal (float) value.\"\n",
    "assert(math.isclose(avg_white, 0.2, abs_tol = 0.005)), \"Your avg callback rate for resumes with white-sounding names is incorrect.\"\n",
    "assert(math.isclose(avg_black, 0.2, abs_tol = 0.005)), \"Your avg callback rate for resumes with black-sounding names is incorrect.\"\n",
    "\n",
    "## == SUCCESS MESSAGE ==\n",
    "# You'll only see this message (With the emoji showing) if you passed all test cases:\n",
    "tada = \"\\N{PARTY POPPER}\"\n",
    "print(f\"{tada} All tests passed! {tada}\")"
   ]
  },
  {
   "attachments": {},
   "cell_type": "markdown",
   "metadata": {},
   "source": [
    "### Analysis: Simulation versus Reality\n",
    "\n",
    "**Q9: Think about how these callback percentages we've calculated above (`avg_white` and `avg_black`) compare to the actual percentages (10.33% vs. 6.87%).  What does this say about discrimination based on your name?**"
   ]
  },
  {
   "cell_type": "markdown",
   "metadata": {},
   "source": [
    "The results indicate that discrimination based on name almost certainly happened because of the extreme disparity in callback percentages."
   ]
  },
  {
   "cell_type": "markdown",
   "metadata": {},
   "source": [
    "<hr style=\"color: #DD3403;\">"
   ]
  },
  {
   "attachments": {},
   "cell_type": "markdown",
   "metadata": {},
   "source": [
    "# Part 3: Beyond DISCOVERY\n",
    "\n",
    "**Group Discussion: The Smith trial happened in 1993 and the name study occurred in the early 2000s.  Discuss with your group whether or not you think similar events still occur today & why. Reflect on how data science can be used to educate people about this.**\n",
    "\n",
    "**Q10: Think about your takeaways from doing these simulations in this lab.  Choose 1 of the following prompts to write a *paragraph style* response explaining what the simulation showed in either Part 1 or Part 2.**\n",
    "\n",
    "**Option 1**: Part 1 - Pretend that you're a **defense attorney** and a **data scientist**. Write a **memo to the Supreme Court** positioning yourself as a data scientist arguing whether or not your think the jury with 3 Black men was randomly selected. **Justify** your decision and include **guidelines** for the future.\n",
    "\n",
    "**Option 2**: Part 2 - Pretend that you're a **data scientist** arguing whether or not there was **discrimination** based on how applicants’ names sound. Write a memo to the **HR Department** of one of the companies positioning yourself as a data scientist arguing whether or employers are biased against certain names. **Justify** your decision using what you’ve already done and include **guidelines** for the future.\n",
    "\n",
    "\n",
    "Remember, you only need to do **either** Option 1 or Option 2 (not both)!"
   ]
  },
  {
   "cell_type": "markdown",
   "metadata": {},
   "source": [
    "Dear HR Department, \n",
    "\n",
    "I am a data scientist who investigates potential cases of racial discrimination. We recently conducted a study where we sent out identical resumes to different companies, but half of the resumes had white-sounding names and half had black-sounding names. The results of the study indicated that 10.33% of the white-sounding names were called back for an interview, while only 6.87% of black-sounding names were called back for an interview. We also ran a simulation of this scenario 10,000 times and the results indicated that both types of resumes should have recieved equal treatment. This means that name discrimination took place where we sent in these resumes, and your company was one of the companies. Therefore, I suggest a guideline for the future. During the preliminary hiring process, employers should not be considering an applicants name."
   ]
  },
  {
   "cell_type": "markdown",
   "metadata": {},
   "source": [
    "<hr style=\"color: #DD3403;\">"
   ]
  },
  {
   "attachments": {},
   "cell_type": "markdown",
   "metadata": {},
   "source": [
    "## Submission\n",
    "\n",
    "You're almost done!  All you need to do is to commit your lab to GitHub:\n",
    "\n",
    "1.  ⚠️ **Make sure to save your work.** ⚠️ To do this, go to **File => Save All**\n",
    "\n",
    "2.  After you have saved, exit this notebook & follow the Canvas instructions to commit this lab to your Git repository!\n",
    "\n",
    "3. Your TA will grade your submission & provide you feedback after the lab is due. :)"
   ]
  }
 ],
 "metadata": {
  "kernelspec": {
   "display_name": "Python 3.10.7 64-bit (microsoft store)",
   "language": "python",
   "name": "python3"
  },
  "language_info": {
   "codemirror_mode": {
    "name": "ipython",
    "version": 3
   },
   "file_extension": ".py",
   "mimetype": "text/x-python",
   "name": "python",
   "nbconvert_exporter": "python",
   "pygments_lexer": "ipython3",
   "version": "3.11.1"
  },
  "orig_nbformat": 4,
  "vscode": {
   "interpreter": {
    "hash": "89e98a2a71e91e328d7fbf3eea370b1e354671d8132dc51aba5581c7f6329e5d"
   }
  }
 },
 "nbformat": 4,
 "nbformat_minor": 2
}
