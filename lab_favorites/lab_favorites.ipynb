{
 "cells": [
  {
   "attachments": {},
   "cell_type": "markdown",
   "metadata": {},
   "source": [
    "# Welcome to Lab: Favorites!\n",
    "\n",
    "In this lab, you will explore several favorites of DISCOVERY, including the favorite things of your TA, Karle, and Wade!  This will **help you prepare for the mosaic project that was introduced in lecture on Wednesday**.\n",
    "\n",
    "A few tips to remember:\n",
    "\n",
    "- **You are not alone on your journey in learning programming!**  You have your lab TA, your CAs, your lab group, and the professors (Prof. Wade and Prof. Karle), who are all here to help you out!\n",
    "- If you find yourself stuck for more than a few minutes, ask a neighbor or course staff for help!  When you are giving help to your neighbor, explain the **idea and approach** to the problem without sharing the answer itself so they can have the same **<i>ah-hah</i>** moment!\n",
    "- We are here to help you!  Don't feel embarrassed or shy to ask us for help!\n",
    "\n",
    "Let's get started!"
   ]
  },
  {
   "cell_type": "code",
   "execution_count": null,
   "metadata": {},
   "outputs": [],
   "source": [
    "# Meet your CAs and TA if you haven't already!\n",
    "# ...first name is enough, we'll know who they are! :)\n",
    "ta_name = \"Alex\"\n",
    "ca1_name = \"Evan\"\n",
    "ca2_name = \"Ana\"\n",
    "ca3_name = \"Areeba\"\n",
    "\n",
    "\n",
    "# Say hello to each other!\n",
    "# - Groups of 3 are ideal :)\n",
    "# - However, groups of 2 or 4 are fine too!\n",
    "#\n",
    "# Question of the Day (QOTD) to Ask Your Group: \"Who is your favorite influencer?\"\n",
    "partner1_name = \"Bryan\"\n",
    "partner1_netid = \"bryanfw2\"\n",
    "partner1_favinfluencer = \"David Kushner\"\n",
    "\n",
    "partner2_name = \"Medha\"\n",
    "partner2_netid = \"medhak2\"\n",
    "partner2_favinfluencer = \"\"\n",
    "\n",
    "partner3_name = \"Vivian\"\n",
    "partner3_netid = \"\"\n",
    "partner3_favinfluencer= \"Alix Earl\""
   ]
  },
  {
   "cell_type": "markdown",
   "metadata": {},
   "source": [
    "<hr style=\"color: #DD3403;\">"
   ]
  },
  {
   "cell_type": "markdown",
   "metadata": {},
   "source": [
    "# Part 1: Karle's Game Day!\n",
    "\n",
    "One of Karle's favorite events is tailgating before Illini football games! The best part of tailgating is obviously the food and drinks 😉. Because Karle is an extrovert, she invites **many** people to her parties. For the upcoming game this Friday, she needs to mix \"mocktails\" in gallons for all of her guests.  In this part of the lab, you will write a simulation to help simulate the possible drinks available at Karle's party.\n",
    "\n",
    "A \"mocktail\" has three ingredients:\n",
    "- A `mixer`, one of: `\"cranberry juice\"`, `\"lime juice\"`, `\"lemonade\"`, `\"kool-aid\"`, or `\"red bull\"` (gross!)\n",
    "- A `fruit`, one of: `\"watermelon\"`, `\"pineapple\"`, `\"lime\"`, `\"lemon\"`, or `\"cherry\"` (yum!)\n",
    "- A `core`, one of: `\"sparkling water\"`, `\"sprite\"`, and **add three things** you should pick with your group to make five `\"core\"` component options!\n",
    "\n",
    "Create a DataFrame called `df` containing **10,000** simulations of possible \"mocktail\" combinations:"
   ]
  },
  {
   "cell_type": "code",
   "execution_count": 2,
   "metadata": {},
   "outputs": [
    {
     "data": {
      "text/html": [
       "<div>\n",
       "<style scoped>\n",
       "    .dataframe tbody tr th:only-of-type {\n",
       "        vertical-align: middle;\n",
       "    }\n",
       "\n",
       "    .dataframe tbody tr th {\n",
       "        vertical-align: top;\n",
       "    }\n",
       "\n",
       "    .dataframe thead th {\n",
       "        text-align: right;\n",
       "    }\n",
       "</style>\n",
       "<table border=\"1\" class=\"dataframe\">\n",
       "  <thead>\n",
       "    <tr style=\"text-align: right;\">\n",
       "      <th></th>\n",
       "      <th>mixer</th>\n",
       "      <th>fruit</th>\n",
       "      <th>core</th>\n",
       "    </tr>\n",
       "  </thead>\n",
       "  <tbody>\n",
       "    <tr>\n",
       "      <th>0</th>\n",
       "      <td>lemonade</td>\n",
       "      <td>lemon</td>\n",
       "      <td>sparkling water</td>\n",
       "    </tr>\n",
       "    <tr>\n",
       "      <th>1</th>\n",
       "      <td>cranberry juice</td>\n",
       "      <td>watermelon</td>\n",
       "      <td>coke</td>\n",
       "    </tr>\n",
       "    <tr>\n",
       "      <th>2</th>\n",
       "      <td>kool-aid</td>\n",
       "      <td>lemon</td>\n",
       "      <td>monster</td>\n",
       "    </tr>\n",
       "    <tr>\n",
       "      <th>3</th>\n",
       "      <td>kool-aid</td>\n",
       "      <td>lime</td>\n",
       "      <td>ginger ale</td>\n",
       "    </tr>\n",
       "    <tr>\n",
       "      <th>4</th>\n",
       "      <td>cranberry juice</td>\n",
       "      <td>lime</td>\n",
       "      <td>sparkling water</td>\n",
       "    </tr>\n",
       "    <tr>\n",
       "      <th>...</th>\n",
       "      <td>...</td>\n",
       "      <td>...</td>\n",
       "      <td>...</td>\n",
       "    </tr>\n",
       "    <tr>\n",
       "      <th>9995</th>\n",
       "      <td>lemonade</td>\n",
       "      <td>lime</td>\n",
       "      <td>coke</td>\n",
       "    </tr>\n",
       "    <tr>\n",
       "      <th>9996</th>\n",
       "      <td>red bull</td>\n",
       "      <td>lime</td>\n",
       "      <td>monster</td>\n",
       "    </tr>\n",
       "    <tr>\n",
       "      <th>9997</th>\n",
       "      <td>lemonade</td>\n",
       "      <td>cherry</td>\n",
       "      <td>monster</td>\n",
       "    </tr>\n",
       "    <tr>\n",
       "      <th>9998</th>\n",
       "      <td>red bull</td>\n",
       "      <td>lime</td>\n",
       "      <td>coke</td>\n",
       "    </tr>\n",
       "    <tr>\n",
       "      <th>9999</th>\n",
       "      <td>lemonade</td>\n",
       "      <td>lemon</td>\n",
       "      <td>monster</td>\n",
       "    </tr>\n",
       "  </tbody>\n",
       "</table>\n",
       "<p>10000 rows × 3 columns</p>\n",
       "</div>"
      ],
      "text/plain": [
       "                mixer       fruit             core\n",
       "0            lemonade       lemon  sparkling water\n",
       "1     cranberry juice  watermelon             coke\n",
       "2            kool-aid       lemon          monster\n",
       "3            kool-aid        lime       ginger ale\n",
       "4     cranberry juice        lime  sparkling water\n",
       "...               ...         ...              ...\n",
       "9995         lemonade        lime             coke\n",
       "9996         red bull        lime          monster\n",
       "9997         lemonade      cherry          monster\n",
       "9998         red bull        lime             coke\n",
       "9999         lemonade       lemon          monster\n",
       "\n",
       "[10000 rows x 3 columns]"
      ]
     },
     "execution_count": 2,
     "metadata": {},
     "output_type": "execute_result"
    }
   ],
   "source": [
    "# Write your simulation:\n",
    "# Coke, Monster, Ginger Ale\n",
    "import random\n",
    "import pandas as pd\n",
    "data = []\n",
    "for i in range(10000):\n",
    "    mixer = random.choice([\"cranberry juice\", \"lime juice\", \"lemonade\", \"kool-aid\", \"red bull\"])\n",
    "    fruit = random.choice([\"watermelon\", \"pineapple\", \"lime\", \"lemon\", \"cherry\"])\n",
    "    core = random.choice([\"sparkling water\", \"sprite\", \"coke\", \"monster\", \"ginger ale\"])\n",
    "    d = {\"mixer\": mixer, \"fruit\": fruit, \"core\": core}\n",
    "    data.append(d)\n",
    "df = pd.DataFrame(data)\n",
    "df"
   ]
  },
  {
   "cell_type": "markdown",
   "metadata": {},
   "source": [
    "### 🔬 Test Case Checkpoint 🔬"
   ]
  },
  {
   "cell_type": "code",
   "execution_count": 3,
   "metadata": {},
   "outputs": [
    {
     "name": "stdout",
     "output_type": "stream",
     "text": [
      "🎉 All tests passed! 🎉\n"
     ]
    }
   ],
   "source": [
    "## == CHECKPOINT TEST CASES: Karle's Game Day ==\n",
    "# - This read-only cell contains test cases for your previous cell.\n",
    "# - If this cell runs without any errors, you PASSED all test cases!\n",
    "# - If this cell results in any errors, check your previous cell, make changes, and RE-RUN your code and then this cell.\n",
    "mixers = [\"cranberry juice\", \"lime juice\", \"lemonade\", \"kool-aid\", \"red bull\"]\n",
    "fruits = [\"watermelon\", \"pineapple\", \"lime\", \"lemon\", \"cherry\"]\n",
    "cores = [\"sparkling water\", \"sprite\"]\n",
    "assert( 'df' in vars() ), \"Your simulation did not populate a DataFrame variable named `df`.\"\n",
    "assert( len(df) == 10000 ), \"The length of your `df` is not 10000, check the value in your for-loop declaration.\"\n",
    "assert( len(df.columns.to_list()) == 3 ), \"Your DataFrame should contain 3 columns!\"\n",
    "assert( 'mixer' in df ), \"Your DataFrame is missing a `mixer` column.\"\n",
    "assert( 'fruit' in df ), \"Your DataFrame is missing a `fruit` column.\"\n",
    "assert( 'core' in df ), \"Your DataFrame is missing a `core` column.\"\n",
    "for m in mixers:\n",
    "    assert ( m in list(df['mixer']) ), f\"Your DataFrame is missing the mixer {m}.\"\n",
    "for f in fruits:\n",
    "    assert ( f in list(df['fruit']) ), f\"Your DataFrame is missing the fruit {f}.\"\n",
    "for c in cores:\n",
    "    assert ( c in list(df['core']) ), f\"Your DataFrame is missing the core {c}.\"\n",
    "\n",
    "assert( len(set(df['core'])) == 5 ), \"Your DataFrame does not return five unique core components.\"\n",
    "\n",
    "## == SUCCESS MESSAGE ==\n",
    "# You will only see this message (with the emoji showing) if you passed all test cases:\n",
    "tada = \"\\N{PARTY POPPER}\"\n",
    "print(f\"{tada} All tests passed! {tada}\")"
   ]
  },
  {
   "cell_type": "markdown",
   "metadata": {},
   "source": [
    "## Estimated Probability of Red Bull!\n",
    "\n",
    "Many people feel the combination of energy drinks with other drinks is gross! Calculate the estimated probability that a randomly created drink has **red bull and sprite** or **red bull and sparkling water** in the variable `P_redBullCombo`. Use your simulation data to do this!"
   ]
  },
  {
   "cell_type": "code",
   "execution_count": 5,
   "metadata": {},
   "outputs": [
    {
     "data": {
      "text/plain": [
       "0.0816"
      ]
     },
     "execution_count": 5,
     "metadata": {},
     "output_type": "execute_result"
    }
   ],
   "source": [
    "P_redBullCombo = len(df[((df.mixer == \"red bull\") & (df.core == \"sprite\")) | ((df.mixer == \"red bull\") & (df.core == \"sparkling water\"))])/len(df)\n",
    "P_redBullCombo\n"
   ]
  },
  {
   "cell_type": "markdown",
   "metadata": {},
   "source": [
    "## Estimated Probability of a True Mocktail\n",
    "\n",
    "Karle is incredibly suspicious of the extra ingredients you picked for her, so we consider a \"true mocktail\" to be a drink made with a core of `\"sparkling water\"` or `\"sprite\"` only.  Calculate the estimated probability that a randomly created drink is a \"true mocktail\" the variable `P_trueMocktail`:\n"
   ]
  },
  {
   "cell_type": "code",
   "execution_count": 6,
   "metadata": {},
   "outputs": [
    {
     "data": {
      "text/plain": [
       "0.3957"
      ]
     },
     "execution_count": 6,
     "metadata": {},
     "output_type": "execute_result"
    }
   ],
   "source": [
    "P_trueMocktail = len(df[(df.core == \"sparkling water\") | (df.core == \"sprite\")]) / len(df)\n",
    "P_trueMocktail\n"
   ]
  },
  {
   "cell_type": "markdown",
   "metadata": {},
   "source": [
    "### 🔬 Test Case Checkpoint 🔬"
   ]
  },
  {
   "cell_type": "code",
   "execution_count": 7,
   "metadata": {},
   "outputs": [
    {
     "name": "stdout",
     "output_type": "stream",
     "text": [
      "🎉 All tests passed! 🎉\n"
     ]
    }
   ],
   "source": [
    "## == CHECKPOINT TEST CASES: Mocktail Probabilities ==\n",
    "# - This read-only cell contains test cases for your previous cell.\n",
    "# - If this cell runs without any errors, you PASSED all test cases!\n",
    "# - If this cell results in any errors, check your previous cell, make changes, and RE-RUN your code and then this cell.\n",
    "assert( 0.07 <= P_redBullCombo and 0.095 >= P_redBullCombo ), \"You've calculated `P_redBullCombo` incorrectly.\"\n",
    "assert( 0.38 <= P_trueMocktail and 0.42 >= P_trueMocktail ), \"You've calculated P_trueMocktail incorrectly.\"\n",
    "'''\n",
    "NOTE: \n",
    "These boundary values were obtained by running 10,000 correct simulations and finding the max, min probability of ALL those runs. \n",
    "There is still a chance, albeit *extremely* low, that a student fails this test case with correct code. \n",
    "If the value is suspiciously close, try running all cells again. \n",
    "'''\n",
    "\n",
    "## == SUCCESS MESSAGE ==\n",
    "# You will only see this message (with the emoji showing) if you passed all test cases:\n",
    "tada = \"\\N{PARTY POPPER}\"\n",
    "print(f\"{tada} All tests passed! {tada}\")"
   ]
  },
  {
   "cell_type": "markdown",
   "metadata": {},
   "source": [
    "### Analysis: Using Simulations for Estimated Probabilities\n",
    "\n",
    "**Q1: Can we use simulation to find the *exact* probability of selecting a drink with Red Bull, a \"true mocktail\", or any other feature we would like to look into? If so, explain why. If not, explain why not. Write at least 2 complete sentences.**"
   ]
  },
  {
   "cell_type": "markdown",
   "metadata": {},
   "source": [
    "No, a simulation cannot find the exact probability, only a very close estimate. The true probability would emerge as the number of simulations approaches infinity."
   ]
  },
  {
   "cell_type": "markdown",
   "metadata": {},
   "source": [
    "<hr style=\"color: #DD3403;\">"
   ]
  },
  {
   "cell_type": "markdown",
   "metadata": {},
   "source": [
    "# Part 2: Wade's Game Night\n",
    "\n",
    "While extroverts love their parties, Wade would rather be playing his favorite game with his partner and a small group of friends at home!  One of his favorite games is a table-top game called Dominion.\n",
    "\n",
    "The only thing you need to know is that your starting hand in Dominion is **five cards** drawn from a starting deck of ten cards.  The deck of ten cards is made up of the following cards:\n",
    "\n",
    "- There are exactly 7 \"coppers\" in the starting deck\n",
    "- There are exactly 3 \"estates\" in the starting deck\n",
    "\n",
    "Here's the whole starting deck from which you'll randomly choose five cards:\n",
    "\n",
    "---\n",
    "\n",
    "![starting-deck.png](./notebook-images/starting-deck.png)\n",
    "\n",
    "---"
   ]
  },
  {
   "cell_type": "markdown",
   "metadata": {},
   "source": [
    "To help you out, we have provided a function that returns the number of coppers in a random starting hand -- `coppersInStartingHand`:"
   ]
  },
  {
   "cell_type": "code",
   "execution_count": 23,
   "metadata": {},
   "outputs": [
    {
     "data": {
      "text/plain": [
       "4"
      ]
     },
     "execution_count": 23,
     "metadata": {},
     "output_type": "execute_result"
    }
   ],
   "source": [
    "import random\n",
    "\n",
    "def coppersInStartingHand():\n",
    "  cards = random.sample([\"copper\", \"copper\", \"copper\", \"copper\", \"copper\", \"copper\", \"copper\", \"estate\", \"estate\", \"estate\"], 5)\n",
    "\n",
    "  count = 0\n",
    "  for card in cards:\n",
    "    if card == \"copper\":\n",
    "      count += 1\n",
    "  \n",
    "  return count\n",
    "\n",
    "coppersInStartingHand()"
   ]
  },
  {
   "cell_type": "markdown",
   "metadata": {},
   "source": [
    "Using the `coppersInStartingHand` function, create a DataFrame of 10,000 starting hands of five cards that draws from the ten cards **without replacement**.  In your DataFrame, make sure you have at least the following two columns:\n",
    "- `coppers`, the total number of coppers in your starting hand\n",
    "- `estates`, the total number of estates in your starting hand\n",
    "\n",
    "*Note: The random.sample() function within the coppersInStartingHand() function we provided automatically draws from the list of options **without replacement**.*\n",
    "\n",
    "Make sure to call your DataFrame `df_startingHands`.  "
   ]
  },
  {
   "cell_type": "code",
   "execution_count": 28,
   "metadata": {},
   "outputs": [
    {
     "data": {
      "text/html": [
       "<div>\n",
       "<style scoped>\n",
       "    .dataframe tbody tr th:only-of-type {\n",
       "        vertical-align: middle;\n",
       "    }\n",
       "\n",
       "    .dataframe tbody tr th {\n",
       "        vertical-align: top;\n",
       "    }\n",
       "\n",
       "    .dataframe thead th {\n",
       "        text-align: right;\n",
       "    }\n",
       "</style>\n",
       "<table border=\"1\" class=\"dataframe\">\n",
       "  <thead>\n",
       "    <tr style=\"text-align: right;\">\n",
       "      <th></th>\n",
       "      <th>coppers</th>\n",
       "      <th>estates</th>\n",
       "    </tr>\n",
       "  </thead>\n",
       "  <tbody>\n",
       "    <tr>\n",
       "      <th>0</th>\n",
       "      <td>3</td>\n",
       "      <td>2</td>\n",
       "    </tr>\n",
       "    <tr>\n",
       "      <th>1</th>\n",
       "      <td>4</td>\n",
       "      <td>1</td>\n",
       "    </tr>\n",
       "    <tr>\n",
       "      <th>2</th>\n",
       "      <td>5</td>\n",
       "      <td>0</td>\n",
       "    </tr>\n",
       "    <tr>\n",
       "      <th>3</th>\n",
       "      <td>5</td>\n",
       "      <td>0</td>\n",
       "    </tr>\n",
       "    <tr>\n",
       "      <th>4</th>\n",
       "      <td>3</td>\n",
       "      <td>2</td>\n",
       "    </tr>\n",
       "    <tr>\n",
       "      <th>...</th>\n",
       "      <td>...</td>\n",
       "      <td>...</td>\n",
       "    </tr>\n",
       "    <tr>\n",
       "      <th>9995</th>\n",
       "      <td>4</td>\n",
       "      <td>1</td>\n",
       "    </tr>\n",
       "    <tr>\n",
       "      <th>9996</th>\n",
       "      <td>4</td>\n",
       "      <td>1</td>\n",
       "    </tr>\n",
       "    <tr>\n",
       "      <th>9997</th>\n",
       "      <td>5</td>\n",
       "      <td>0</td>\n",
       "    </tr>\n",
       "    <tr>\n",
       "      <th>9998</th>\n",
       "      <td>4</td>\n",
       "      <td>1</td>\n",
       "    </tr>\n",
       "    <tr>\n",
       "      <th>9999</th>\n",
       "      <td>4</td>\n",
       "      <td>1</td>\n",
       "    </tr>\n",
       "  </tbody>\n",
       "</table>\n",
       "<p>10000 rows × 2 columns</p>\n",
       "</div>"
      ],
      "text/plain": [
       "      coppers  estates\n",
       "0           3        2\n",
       "1           4        1\n",
       "2           5        0\n",
       "3           5        0\n",
       "4           3        2\n",
       "...       ...      ...\n",
       "9995        4        1\n",
       "9996        4        1\n",
       "9997        5        0\n",
       "9998        4        1\n",
       "9999        4        1\n",
       "\n",
       "[10000 rows x 2 columns]"
      ]
     },
     "execution_count": 28,
     "metadata": {},
     "output_type": "execute_result"
    }
   ],
   "source": [
    "# Create your simulation and `df_startingHands`:\n",
    "\n",
    "data = []\n",
    "for i in range(10000):\n",
    "    coppers = coppersInStartingHand()\n",
    "    estates = 5 - coppers\n",
    "    d = {\"coppers\": coppers, \"estates\": estates}\n",
    "    data.append(d)\n",
    "df_startingHands = pd.DataFrame(data)\n",
    "df_startingHands\n",
    "    "
   ]
  },
  {
   "cell_type": "markdown",
   "metadata": {},
   "source": [
    "### 🔬 Test Case Checkpoint 🔬"
   ]
  },
  {
   "cell_type": "code",
   "execution_count": 29,
   "metadata": {},
   "outputs": [
    {
     "name": "stdout",
     "output_type": "stream",
     "text": [
      "🎉 All tests passed! 🎉\n"
     ]
    }
   ],
   "source": [
    "## == CHECKPOINT TEST CASES: Wade's Game Night ==\n",
    "# - This read-only cell contains test cases for your previous cell.\n",
    "# - If this cell runs without any errors, you PASSED all test cases!\n",
    "# - If this cell results in any errors, check your previous cell, make changes, and RE-RUN your code and then this cell.\n",
    "copper_counts = [2, 3, 4, 5]\n",
    "estate_counts = [0, 1, 2, 3] \n",
    "assert( 'df_startingHands' in vars() ), \"Your simulation did not populate a DataFrame variable named `df_startingHands`.\"\n",
    "assert( len(df_startingHands) == 10000 ), \"The length of your DataFrame is not 10000, check the value in your for-loop declaration.\"\n",
    "assert( len(df_startingHands.columns.to_list()) == 2 ), \"Your `df_startingHands` should contain 2 columns!\"\n",
    "assert( 'coppers' in df_startingHands ), \"Your DataFrame is missing a `coppers` column.\"\n",
    "assert( 'estates' in df_startingHands ), \"Your DataFrame is missing an `estates` column.\"\n",
    "for i in copper_counts:\n",
    "    assert ( i in list(df_startingHands['coppers']) ), f\"Your DataFrame is missing the copper count {i}.\"\n",
    "for i in estate_counts:\n",
    "    assert ( i in list(df_startingHands['estates']) ), f\"Your DataFrame is missing the estate count {f}.\"\n",
    "\n",
    "assert ( set(df_startingHands['coppers'] + df_startingHands['estates']) ), \"A starting hand should always have 5 cards. Your simulation produced an instance where this is not true.\"\n",
    "\n",
    "## == SUCCESS MESSAGE ==\n",
    "# You will only see this message (with the emoji showing) if you passed all test cases:\n",
    "tada = \"\\N{PARTY POPPER}\"\n",
    "print(f\"{tada} All tests passed! {tada}\")"
   ]
  },
  {
   "cell_type": "markdown",
   "metadata": {},
   "source": [
    "## A Lucky Start"
   ]
  },
  {
   "cell_type": "markdown",
   "metadata": {},
   "source": [
    "One of the luckiest starting hands is to have **five coppers**.  What is the **simulated** probability of Wade starting with five coppers? *Hint: use your DataFrame `df_startingHands` for your calculation!*"
   ]
  },
  {
   "cell_type": "code",
   "execution_count": 30,
   "metadata": {},
   "outputs": [
    {
     "data": {
      "text/plain": [
       "0.0762"
      ]
     },
     "execution_count": 30,
     "metadata": {},
     "output_type": "execute_result"
    }
   ],
   "source": [
    "P_fiveCoppers = len(df_startingHands[df_startingHands.coppers == 5]) / len(df_startingHands)\n",
    "P_fiveCoppers\n"
   ]
  },
  {
   "cell_type": "markdown",
   "metadata": {},
   "source": [
    "### 🔬 Test Case Checkpoint 🔬"
   ]
  },
  {
   "cell_type": "code",
   "execution_count": 31,
   "metadata": {},
   "outputs": [
    {
     "name": "stdout",
     "output_type": "stream",
     "text": [
      "🎉 All tests passed! 🎉\n"
     ]
    }
   ],
   "source": [
    "## == CHECKPOINT TEST CASES: A Lucky Start ==\n",
    "# - This read-only cell contains test cases for your previous cell.\n",
    "# - If this cell runs without any errors, you PASSED all test cases!\n",
    "# - If this cell results in any errors, check your previous cell, make changes, and RE-RUN your code and then this cell.\n",
    "assert( 0.07 <= P_fiveCoppers and 0.1 >= P_fiveCoppers ), \"You've calculated `P_fiveCoppers` incorrectly.\"\n",
    "'''\n",
    "NOTE: \n",
    "These boundary values were obtained by running 10,000 correct simulations and finding the max, min probability of ALL those runs. \n",
    "There is still a chance, albeit *extremely* low, that a student fails this test case with correct code. \n",
    "If the value is suspiciously close, try running all cells again. \n",
    "'''\n",
    "\n",
    "## == SUCCESS MESSAGE ==\n",
    "# You will only see this message (with the emoji showing) if you passed all test cases:\n",
    "tada = \"\\N{PARTY POPPER}\"\n",
    "print(f\"{tada} All tests passed! {tada}\")"
   ]
  },
  {
   "cell_type": "markdown",
   "metadata": {},
   "source": [
    "### Analysis: Dominion\n",
    "\n",
    "**Q2: What would happen to the simulated probability of having a starting hand of five coppers if we took out 2 estate cards from the starting deck (leaving 7 “coppers” and 1 “estate” in the starting deck)? Why?**"
   ]
  },
  {
   "cell_type": "markdown",
   "metadata": {},
   "source": [
    "The probability would increase because it is now more likely to get a copper card on each starting draw."
   ]
  },
  {
   "cell_type": "markdown",
   "metadata": {},
   "source": [
    "<hr style=\"color: #DD3403;\">"
   ]
  },
  {
   "cell_type": "markdown",
   "metadata": {},
   "source": [
    "# Part 3: Using Images\n",
    "\n",
    "Up until now, we have used **organized, well-structured data** in DISCOVERY.  However, data can be found everywhere and, in this lab, we'll begin to explore the data that makes up an image.\n",
    "\n",
    "A computer represents an image as a 2D grid of **pixels** where each pixel is a single color.  Here is a tiny image **zoomed at 50x** that shows nine pixels:\n",
    "\n",
    "![Color](./notebook-images/sample-50x.png)\n",
    "\n",
    "The actual image size of a 3 pixel by 3 pixel image is **really small** (here it is): ![sample image](./notebook-images/sample.png)\n",
    "\n",
    "We will need to use Python to help us process large images, but we will use the large image to understand an image!  For this lab, we have provided the function for you to load images as a DataFrame.\n",
    "\n",
    "- Make sure to `import DISCOVERY` to import the code specific for DISCOVERY \n",
    "- Then use `DISCOVERY.df_image(\"sample.png\")` to load the image data into a DataFrame `df`.\n",
    "\n"
   ]
  },
  {
   "cell_type": "code",
   "execution_count": 40,
   "metadata": {},
   "outputs": [
    {
     "data": {
      "text/html": [
       "<div>\n",
       "<style scoped>\n",
       "    .dataframe tbody tr th:only-of-type {\n",
       "        vertical-align: middle;\n",
       "    }\n",
       "\n",
       "    .dataframe tbody tr th {\n",
       "        vertical-align: top;\n",
       "    }\n",
       "\n",
       "    .dataframe thead th {\n",
       "        text-align: right;\n",
       "    }\n",
       "</style>\n",
       "<table border=\"1\" class=\"dataframe\">\n",
       "  <thead>\n",
       "    <tr style=\"text-align: right;\">\n",
       "      <th></th>\n",
       "      <th>x</th>\n",
       "      <th>y</th>\n",
       "      <th>r</th>\n",
       "      <th>g</th>\n",
       "      <th>b</th>\n",
       "    </tr>\n",
       "  </thead>\n",
       "  <tbody>\n",
       "    <tr>\n",
       "      <th>0</th>\n",
       "      <td>0</td>\n",
       "      <td>0</td>\n",
       "      <td>0</td>\n",
       "      <td>0</td>\n",
       "      <td>255</td>\n",
       "    </tr>\n",
       "    <tr>\n",
       "      <th>1</th>\n",
       "      <td>0</td>\n",
       "      <td>1</td>\n",
       "      <td>0</td>\n",
       "      <td>255</td>\n",
       "      <td>0</td>\n",
       "    </tr>\n",
       "    <tr>\n",
       "      <th>2</th>\n",
       "      <td>0</td>\n",
       "      <td>2</td>\n",
       "      <td>255</td>\n",
       "      <td>255</td>\n",
       "      <td>255</td>\n",
       "    </tr>\n",
       "    <tr>\n",
       "      <th>3</th>\n",
       "      <td>1</td>\n",
       "      <td>0</td>\n",
       "      <td>255</td>\n",
       "      <td>255</td>\n",
       "      <td>255</td>\n",
       "    </tr>\n",
       "    <tr>\n",
       "      <th>4</th>\n",
       "      <td>1</td>\n",
       "      <td>1</td>\n",
       "      <td>0</td>\n",
       "      <td>0</td>\n",
       "      <td>0</td>\n",
       "    </tr>\n",
       "    <tr>\n",
       "      <th>5</th>\n",
       "      <td>1</td>\n",
       "      <td>2</td>\n",
       "      <td>255</td>\n",
       "      <td>85</td>\n",
       "      <td>46</td>\n",
       "    </tr>\n",
       "    <tr>\n",
       "      <th>6</th>\n",
       "      <td>2</td>\n",
       "      <td>0</td>\n",
       "      <td>255</td>\n",
       "      <td>0</td>\n",
       "      <td>0</td>\n",
       "    </tr>\n",
       "    <tr>\n",
       "      <th>7</th>\n",
       "      <td>2</td>\n",
       "      <td>1</td>\n",
       "      <td>255</td>\n",
       "      <td>255</td>\n",
       "      <td>255</td>\n",
       "    </tr>\n",
       "    <tr>\n",
       "      <th>8</th>\n",
       "      <td>2</td>\n",
       "      <td>2</td>\n",
       "      <td>19</td>\n",
       "      <td>41</td>\n",
       "      <td>75</td>\n",
       "    </tr>\n",
       "  </tbody>\n",
       "</table>\n",
       "</div>"
      ],
      "text/plain": [
       "   x  y    r    g    b\n",
       "0  0  0    0    0  255\n",
       "1  0  1    0  255    0\n",
       "2  0  2  255  255  255\n",
       "3  1  0  255  255  255\n",
       "4  1  1    0    0    0\n",
       "5  1  2  255   85   46\n",
       "6  2  0  255    0    0\n",
       "7  2  1  255  255  255\n",
       "8  2  2   19   41   75"
      ]
     },
     "execution_count": 40,
     "metadata": {},
     "output_type": "execute_result"
    }
   ],
   "source": [
    "# Import DISCOVERY:\n",
    "import DISCOVERY as dis\n",
    "\n",
    "\n",
    "# Load the image into a DataFrame `df`:\n",
    "df = dis.df_image(\"sample.png\")\n",
    "df"
   ]
  },
  {
   "cell_type": "markdown",
   "metadata": {},
   "source": [
    "### 🔬 Test Case Checkpoint 🔬"
   ]
  },
  {
   "cell_type": "code",
   "execution_count": 41,
   "metadata": {},
   "outputs": [
    {
     "name": "stdout",
     "output_type": "stream",
     "text": [
      "🎉 All tests passed! 🎉\n"
     ]
    }
   ],
   "source": [
    "## == CHECKPOINT TEST CASES: Using Images ==\n",
    "# - This read-only cell contains test cases for your previous cell.\n",
    "# - If this cell runs without any errors, you PASSED all test cases!\n",
    "# - If this cell results in any errors, check your previous cell, make changes, and RE-RUN your code and then this cell.\n",
    "assert( len(df) == 9 ), \"The length of your `df` should be 9 - there's 9 pixels in the sample.png!\"\n",
    "assert( len(df.columns.to_list() ) == 5 ), \"There should be five columns in your `df`.\"\n",
    "for col in ['x', 'y', 'r', 'g', 'b']:\n",
    "    assert ( col in df ), f\"Your `df` is missing the {col} column. Make sure you're using the `DISCOVERY.df_image()` function!\"\n",
    "\n",
    "## == SUCCESS MESSAGE ==\n",
    "# You will only see this message (with the emoji showing) if you passed all test cases:\n",
    "tada = \"\\N{PARTY POPPER}\"\n",
    "print(f\"{tada} All tests passed! {tada}\")"
   ]
  },
  {
   "cell_type": "markdown",
   "metadata": {},
   "source": [
    "## Understanding the DataFrame\n",
    "\n",
    "In your DataFrame above, every pixel has five values:\n",
    "- An `x` value, for the **x** (horizontal) position, starting with `0` in the top-left\n",
    "- A `y` value, for the **y** (vertical) position, starting with `0` in the top-left\n",
    "- An `r` value, for the amount of **red** color in the image (`0` means no red, while `255` means 100% red)\n",
    "- A `g` value, for the amount of **green** color in the image (`0` - `255`)\n",
    "- A `b` value, for the amount of **blue** color in the image (`0` - `255`)\n",
    "\n",
    "In the image above, the top-left cell is blue.  Let's see what that looks like in data:\n"
   ]
  },
  {
   "cell_type": "code",
   "execution_count": 35,
   "metadata": {},
   "outputs": [
    {
     "data": {
      "text/html": [
       "<div>\n",
       "<style scoped>\n",
       "    .dataframe tbody tr th:only-of-type {\n",
       "        vertical-align: middle;\n",
       "    }\n",
       "\n",
       "    .dataframe tbody tr th {\n",
       "        vertical-align: top;\n",
       "    }\n",
       "\n",
       "    .dataframe thead th {\n",
       "        text-align: right;\n",
       "    }\n",
       "</style>\n",
       "<table border=\"1\" class=\"dataframe\">\n",
       "  <thead>\n",
       "    <tr style=\"text-align: right;\">\n",
       "      <th></th>\n",
       "      <th>x</th>\n",
       "      <th>y</th>\n",
       "      <th>r</th>\n",
       "      <th>g</th>\n",
       "      <th>b</th>\n",
       "    </tr>\n",
       "  </thead>\n",
       "  <tbody>\n",
       "    <tr>\n",
       "      <th>0</th>\n",
       "      <td>0</td>\n",
       "      <td>0</td>\n",
       "      <td>0</td>\n",
       "      <td>0</td>\n",
       "      <td>255</td>\n",
       "    </tr>\n",
       "  </tbody>\n",
       "</table>\n",
       "</div>"
      ],
      "text/plain": [
       "   x  y  r  g    b\n",
       "0  0  0  0  0  255"
      ]
     },
     "execution_count": 35,
     "metadata": {},
     "output_type": "execute_result"
    }
   ],
   "source": [
    "df[ (df.x == 0) & (df.y == 0) ]"
   ]
  },
  {
   "cell_type": "markdown",
   "metadata": {},
   "source": [
    "...the color value for `(x = 0, y = 0)` is all blue (`b = 255`) with no other colors added.  Moving to the right to `x == 1`:"
   ]
  },
  {
   "cell_type": "code",
   "execution_count": 36,
   "metadata": {},
   "outputs": [
    {
     "data": {
      "text/html": [
       "<div>\n",
       "<style scoped>\n",
       "    .dataframe tbody tr th:only-of-type {\n",
       "        vertical-align: middle;\n",
       "    }\n",
       "\n",
       "    .dataframe tbody tr th {\n",
       "        vertical-align: top;\n",
       "    }\n",
       "\n",
       "    .dataframe thead th {\n",
       "        text-align: right;\n",
       "    }\n",
       "</style>\n",
       "<table border=\"1\" class=\"dataframe\">\n",
       "  <thead>\n",
       "    <tr style=\"text-align: right;\">\n",
       "      <th></th>\n",
       "      <th>x</th>\n",
       "      <th>y</th>\n",
       "      <th>r</th>\n",
       "      <th>g</th>\n",
       "      <th>b</th>\n",
       "    </tr>\n",
       "  </thead>\n",
       "  <tbody>\n",
       "    <tr>\n",
       "      <th>3</th>\n",
       "      <td>1</td>\n",
       "      <td>0</td>\n",
       "      <td>255</td>\n",
       "      <td>255</td>\n",
       "      <td>255</td>\n",
       "    </tr>\n",
       "  </tbody>\n",
       "</table>\n",
       "</div>"
      ],
      "text/plain": [
       "   x  y    r    g    b\n",
       "3  1  0  255  255  255"
      ]
     },
     "execution_count": 36,
     "metadata": {},
     "output_type": "execute_result"
    }
   ],
   "source": [
    "df[ (df.x == 1) & (df.y == 0) ]"
   ]
  },
  {
   "cell_type": "markdown",
   "metadata": {},
   "source": [
    "...the color value for `(x = 1, y = 0)` is all the colors (`r`, `g` and `b` are all `255`).  Since computers create colors with light (\"additive colors\"), the combination of all the colors makes a white color."
   ]
  },
  {
   "cell_type": "markdown",
   "metadata": {},
   "source": [
    "## Finding all the white pixels\n",
    "\n",
    "Just above this section, you learned how a white pixel is represented in data.  Create a new DataFrame, `df_white`, that contains all of the white pixels in the sample image:"
   ]
  },
  {
   "cell_type": "code",
   "execution_count": 37,
   "metadata": {},
   "outputs": [
    {
     "data": {
      "text/html": [
       "<div>\n",
       "<style scoped>\n",
       "    .dataframe tbody tr th:only-of-type {\n",
       "        vertical-align: middle;\n",
       "    }\n",
       "\n",
       "    .dataframe tbody tr th {\n",
       "        vertical-align: top;\n",
       "    }\n",
       "\n",
       "    .dataframe thead th {\n",
       "        text-align: right;\n",
       "    }\n",
       "</style>\n",
       "<table border=\"1\" class=\"dataframe\">\n",
       "  <thead>\n",
       "    <tr style=\"text-align: right;\">\n",
       "      <th></th>\n",
       "      <th>x</th>\n",
       "      <th>y</th>\n",
       "      <th>r</th>\n",
       "      <th>g</th>\n",
       "      <th>b</th>\n",
       "    </tr>\n",
       "  </thead>\n",
       "  <tbody>\n",
       "    <tr>\n",
       "      <th>2</th>\n",
       "      <td>0</td>\n",
       "      <td>2</td>\n",
       "      <td>255</td>\n",
       "      <td>255</td>\n",
       "      <td>255</td>\n",
       "    </tr>\n",
       "    <tr>\n",
       "      <th>3</th>\n",
       "      <td>1</td>\n",
       "      <td>0</td>\n",
       "      <td>255</td>\n",
       "      <td>255</td>\n",
       "      <td>255</td>\n",
       "    </tr>\n",
       "    <tr>\n",
       "      <th>7</th>\n",
       "      <td>2</td>\n",
       "      <td>1</td>\n",
       "      <td>255</td>\n",
       "      <td>255</td>\n",
       "      <td>255</td>\n",
       "    </tr>\n",
       "  </tbody>\n",
       "</table>\n",
       "</div>"
      ],
      "text/plain": [
       "   x  y    r    g    b\n",
       "2  0  2  255  255  255\n",
       "3  1  0  255  255  255\n",
       "7  2  1  255  255  255"
      ]
     },
     "execution_count": 37,
     "metadata": {},
     "output_type": "execute_result"
    }
   ],
   "source": [
    "df_white = df[(df.r == 255) & (df.g == 255) & (df.b == 255)]\n",
    "df_white"
   ]
  },
  {
   "cell_type": "markdown",
   "metadata": {},
   "source": [
    "## Finding all the \"primarily red\" pixels\n",
    "\n",
    "Find all the pixels that are \"primarily red\", where a \"primarily red\" pixel has more red than green **AND** more red than blue.  Store all the \"primarily red\" pixels in the DataFrame `df_red`."
   ]
  },
  {
   "cell_type": "code",
   "execution_count": 38,
   "metadata": {},
   "outputs": [
    {
     "data": {
      "text/html": [
       "<div>\n",
       "<style scoped>\n",
       "    .dataframe tbody tr th:only-of-type {\n",
       "        vertical-align: middle;\n",
       "    }\n",
       "\n",
       "    .dataframe tbody tr th {\n",
       "        vertical-align: top;\n",
       "    }\n",
       "\n",
       "    .dataframe thead th {\n",
       "        text-align: right;\n",
       "    }\n",
       "</style>\n",
       "<table border=\"1\" class=\"dataframe\">\n",
       "  <thead>\n",
       "    <tr style=\"text-align: right;\">\n",
       "      <th></th>\n",
       "      <th>x</th>\n",
       "      <th>y</th>\n",
       "      <th>r</th>\n",
       "      <th>g</th>\n",
       "      <th>b</th>\n",
       "    </tr>\n",
       "  </thead>\n",
       "  <tbody>\n",
       "    <tr>\n",
       "      <th>5</th>\n",
       "      <td>1</td>\n",
       "      <td>2</td>\n",
       "      <td>255</td>\n",
       "      <td>85</td>\n",
       "      <td>46</td>\n",
       "    </tr>\n",
       "    <tr>\n",
       "      <th>6</th>\n",
       "      <td>2</td>\n",
       "      <td>0</td>\n",
       "      <td>255</td>\n",
       "      <td>0</td>\n",
       "      <td>0</td>\n",
       "    </tr>\n",
       "  </tbody>\n",
       "</table>\n",
       "</div>"
      ],
      "text/plain": [
       "   x  y    r   g   b\n",
       "5  1  2  255  85  46\n",
       "6  2  0  255   0   0"
      ]
     },
     "execution_count": 38,
     "metadata": {},
     "output_type": "execute_result"
    }
   ],
   "source": [
    "df_red = df[(df.r > df.g) & (df.r > df.b)]\n",
    "df_red"
   ]
  },
  {
   "cell_type": "markdown",
   "metadata": {},
   "source": [
    "### 🔬 Test Case Checkpoint 🔬"
   ]
  },
  {
   "cell_type": "code",
   "execution_count": 42,
   "metadata": {},
   "outputs": [
    {
     "name": "stdout",
     "output_type": "stream",
     "text": [
      "🎉 All tests passed! 🎉\n"
     ]
    }
   ],
   "source": [
    "## == CHECKPOINT TEST CASES: Finding Pixels ==\n",
    "# - This read-only cell contains test cases for your previous cell.\n",
    "# - If this cell runs without any errors, you PASSED all test cases!\n",
    "# - If this cell results in any errors, check your previous cell, make changes, and RE-RUN your code and then this cell.\n",
    "assert( 'df_white' in vars() ), \"Make sure your DataFrame of white pixels is named `df_white`.\"\n",
    "assert( 'df_red' in vars() ), \"Make sure your DataFrame of red pixels is named `df_red`.\"\n",
    "assert( len(df_white) == 3 ), \"Your `df_white` does not contain all three white pixels in the sample image.\"\n",
    "assert( (df_white['r'] == 255).all() and (df_white['g'] == 255).all() and (df_white['b'] == 255).all() ), \"Your `df_white` contains non-white pixels.\"\n",
    "assert( len(df_red) == 2 ), \"Your `df_red` does not contain the two 'primarily red' pixels in the sample image.\"\n",
    "assert( set(df_red['x'] + df_red['y']) == {2, 3} ), \"Your `df_red` does not contain the two 'primarily red' pixels in the sample image.\"\n",
    "\n",
    "## == SUCCESS MESSAGE ==\n",
    "# You will only see this message (with the emoji showing) if you passed all test cases:\n",
    "tada = \"\\N{PARTY POPPER}\"\n",
    "print(f\"{tada} All tests passed! {tada}\")"
   ]
  },
  {
   "cell_type": "markdown",
   "metadata": {},
   "source": [
    "<hr style=\"color: #DD3403;\">"
   ]
  },
  {
   "cell_type": "markdown",
   "metadata": {},
   "source": [
    "# Part 4: Images with your TAs and CAs\n",
    "\n",
    "Before your section, your TA -- with the help of the CAs -- picked an image for you to do analysis on!\n",
    "\n",
    "- Navigate to the image and save the image to your computer.\n",
    "- Place the image in the same folder as this lab (`lab_favorites`).\n",
    "- Load the image into a DataFrame `df`."
   ]
  },
  {
   "cell_type": "code",
   "execution_count": 43,
   "metadata": {},
   "outputs": [
    {
     "data": {
      "text/html": [
       "<div>\n",
       "<style scoped>\n",
       "    .dataframe tbody tr th:only-of-type {\n",
       "        vertical-align: middle;\n",
       "    }\n",
       "\n",
       "    .dataframe tbody tr th {\n",
       "        vertical-align: top;\n",
       "    }\n",
       "\n",
       "    .dataframe thead th {\n",
       "        text-align: right;\n",
       "    }\n",
       "</style>\n",
       "<table border=\"1\" class=\"dataframe\">\n",
       "  <thead>\n",
       "    <tr style=\"text-align: right;\">\n",
       "      <th></th>\n",
       "      <th>x</th>\n",
       "      <th>y</th>\n",
       "      <th>r</th>\n",
       "      <th>g</th>\n",
       "      <th>b</th>\n",
       "    </tr>\n",
       "  </thead>\n",
       "  <tbody>\n",
       "    <tr>\n",
       "      <th>0</th>\n",
       "      <td>0</td>\n",
       "      <td>0</td>\n",
       "      <td>251</td>\n",
       "      <td>255</td>\n",
       "      <td>254</td>\n",
       "    </tr>\n",
       "    <tr>\n",
       "      <th>1</th>\n",
       "      <td>0</td>\n",
       "      <td>1</td>\n",
       "      <td>251</td>\n",
       "      <td>255</td>\n",
       "      <td>254</td>\n",
       "    </tr>\n",
       "    <tr>\n",
       "      <th>2</th>\n",
       "      <td>0</td>\n",
       "      <td>2</td>\n",
       "      <td>251</td>\n",
       "      <td>255</td>\n",
       "      <td>254</td>\n",
       "    </tr>\n",
       "    <tr>\n",
       "      <th>3</th>\n",
       "      <td>0</td>\n",
       "      <td>3</td>\n",
       "      <td>251</td>\n",
       "      <td>255</td>\n",
       "      <td>254</td>\n",
       "    </tr>\n",
       "    <tr>\n",
       "      <th>4</th>\n",
       "      <td>0</td>\n",
       "      <td>4</td>\n",
       "      <td>252</td>\n",
       "      <td>255</td>\n",
       "      <td>252</td>\n",
       "    </tr>\n",
       "    <tr>\n",
       "      <th>...</th>\n",
       "      <td>...</td>\n",
       "      <td>...</td>\n",
       "      <td>...</td>\n",
       "      <td>...</td>\n",
       "      <td>...</td>\n",
       "    </tr>\n",
       "    <tr>\n",
       "      <th>326495</th>\n",
       "      <td>499</td>\n",
       "      <td>648</td>\n",
       "      <td>242</td>\n",
       "      <td>255</td>\n",
       "      <td>255</td>\n",
       "    </tr>\n",
       "    <tr>\n",
       "      <th>326496</th>\n",
       "      <td>499</td>\n",
       "      <td>649</td>\n",
       "      <td>242</td>\n",
       "      <td>255</td>\n",
       "      <td>255</td>\n",
       "    </tr>\n",
       "    <tr>\n",
       "      <th>326497</th>\n",
       "      <td>499</td>\n",
       "      <td>650</td>\n",
       "      <td>243</td>\n",
       "      <td>255</td>\n",
       "      <td>255</td>\n",
       "    </tr>\n",
       "    <tr>\n",
       "      <th>326498</th>\n",
       "      <td>499</td>\n",
       "      <td>651</td>\n",
       "      <td>243</td>\n",
       "      <td>255</td>\n",
       "      <td>255</td>\n",
       "    </tr>\n",
       "    <tr>\n",
       "      <th>326499</th>\n",
       "      <td>499</td>\n",
       "      <td>652</td>\n",
       "      <td>243</td>\n",
       "      <td>255</td>\n",
       "      <td>255</td>\n",
       "    </tr>\n",
       "  </tbody>\n",
       "</table>\n",
       "<p>326500 rows × 5 columns</p>\n",
       "</div>"
      ],
      "text/plain": [
       "          x    y    r    g    b\n",
       "0         0    0  251  255  254\n",
       "1         0    1  251  255  254\n",
       "2         0    2  251  255  254\n",
       "3         0    3  251  255  254\n",
       "4         0    4  252  255  252\n",
       "...     ...  ...  ...  ...  ...\n",
       "326495  499  648  242  255  255\n",
       "326496  499  649  242  255  255\n",
       "326497  499  650  243  255  255\n",
       "326498  499  651  243  255  255\n",
       "326499  499  652  243  255  255\n",
       "\n",
       "[326500 rows x 5 columns]"
      ]
     },
     "execution_count": 43,
     "metadata": {},
     "output_type": "execute_result"
    }
   ],
   "source": [
    "# Load the image your TA chose for you into a DataFrame:\n",
    "df = dis.df_image(\"alex.png\")\n",
    "df"
   ]
  },
  {
   "cell_type": "markdown",
   "metadata": {},
   "source": [
    "## Primary \"Primary Color\"\n",
    "\n",
    "Using the idea of \"primary red\" pixels, we will extend the idea to \"primary red\", \"primary green\", or \"primary blue\".  In the following three sections, find the **percentage of pixels** that are primarily red, green, and blue, storing in the **decimal variables** `percent_r`, `percent_g`, and `percent_b`:"
   ]
  },
  {
   "cell_type": "code",
   "execution_count": 44,
   "metadata": {},
   "outputs": [
    {
     "data": {
      "text/plain": [
       "0.26167534456355285"
      ]
     },
     "execution_count": 44,
     "metadata": {},
     "output_type": "execute_result"
    }
   ],
   "source": [
    "# Find the percentage of primarily red pixels:\n",
    "percent_r = len(df[(df.r > df.g) & (df.r > df.b)])/len(df)\n",
    "percent_r\n"
   ]
  },
  {
   "cell_type": "code",
   "execution_count": 45,
   "metadata": {},
   "outputs": [
    {
     "data": {
      "text/plain": [
       "0.07268912710566616"
      ]
     },
     "execution_count": 45,
     "metadata": {},
     "output_type": "execute_result"
    }
   ],
   "source": [
    "# Find the percentage of primarily green pixels:\n",
    "percent_g = len(df[(df.g > df.r) & (df.g > df.b)])/len(df)\n",
    "percent_g\n"
   ]
  },
  {
   "cell_type": "code",
   "execution_count": 46,
   "metadata": {},
   "outputs": [
    {
     "data": {
      "text/plain": [
       "0.546134762633997"
      ]
     },
     "execution_count": 46,
     "metadata": {},
     "output_type": "execute_result"
    }
   ],
   "source": [
    "# Find the percentage of primarily blue pixels:\n",
    "percent_b = len(df[(df.b > df.g) & (df.b > df.r)])/len(df)\n",
    "percent_b\n"
   ]
  },
  {
   "cell_type": "markdown",
   "metadata": {},
   "source": [
    "### 🔬 Test Case Checkpoint 🔬"
   ]
  },
  {
   "cell_type": "code",
   "execution_count": 47,
   "metadata": {},
   "outputs": [
    {
     "name": "stdout",
     "output_type": "stream",
     "text": [
      "🎉 All tests passed! 🎉\n"
     ]
    }
   ],
   "source": [
    "## == CHECKPOINT TEST CASES: Finding Percentages ==\n",
    "# - This read-only cell contains test cases for your previous cell.\n",
    "# - If this cell runs without any errors, you PASSED all test cases!\n",
    "# - If this cell results in any errors, check your previous cell, make changes, and RE-RUN your code and then this cell.\n",
    "assert( isinstance(percent_r, float) and isinstance(percent_g, float) and isinstance(percent_b, float) ), \"Your percentages of r, g, b pixels should be decimal (float) variables.\"\n",
    "assert( percent_r >= 0 and percent_r <= 1 ), \"The percentage of red pixels must be between 0% and 100%.\"\n",
    "assert( percent_g >= 0 and percent_g <= 1 ), \"The percentage of green pixels must be between 0% and 100%.\"\n",
    "assert( percent_b >= 0 and percent_b <= 1 ), \"The percentage of blue pixels must be between 0% and 100%.\"\n",
    "total = percent_r + percent_g + percent_b\n",
    "assert( total >= 0 and total <= 1 ), \"The total of your percentages should be between 0 and 1, not exceeding 100%!\"\n",
    "\n",
    "## == SUCCESS MESSAGE ==\n",
    "# You will only see this message (with the emoji showing) if you passed all test cases:\n",
    "tada = \"\\N{PARTY POPPER}\"\n",
    "print(f\"{tada} All tests passed! {tada}\")"
   ]
  },
  {
   "cell_type": "markdown",
   "metadata": {},
   "source": [
    "## Average Color\n",
    "\n",
    "Finally, find the average color of the entire image.  The average color will have three components: the average red, the average green, and the average blue."
   ]
  },
  {
   "cell_type": "code",
   "execution_count": 48,
   "metadata": {},
   "outputs": [
    {
     "data": {
      "text/plain": [
       "117.10153445635528"
      ]
     },
     "execution_count": 48,
     "metadata": {},
     "output_type": "execute_result"
    }
   ],
   "source": [
    "# Find the average red:\n",
    "avg_red = df.r.mean()\n",
    "avg_red\n"
   ]
  },
  {
   "cell_type": "code",
   "execution_count": 49,
   "metadata": {},
   "outputs": [
    {
     "data": {
      "text/plain": [
       "120.73720980091883"
      ]
     },
     "execution_count": 49,
     "metadata": {},
     "output_type": "execute_result"
    }
   ],
   "source": [
    "# Find the average green:\n",
    "avg_green = df.g.mean()\n",
    "avg_green\n"
   ]
  },
  {
   "cell_type": "code",
   "execution_count": 50,
   "metadata": {},
   "outputs": [
    {
     "data": {
      "text/plain": [
       "130.54912710566614"
      ]
     },
     "execution_count": 50,
     "metadata": {},
     "output_type": "execute_result"
    }
   ],
   "source": [
    "# Find the average blue:\n",
    "avg_blue = df.b.mean()\n",
    "avg_blue\n"
   ]
  },
  {
   "cell_type": "markdown",
   "metadata": {},
   "source": [
    "### 🔬 Test Case Checkpoint 🔬"
   ]
  },
  {
   "cell_type": "code",
   "execution_count": 51,
   "metadata": {},
   "outputs": [
    {
     "name": "stdout",
     "output_type": "stream",
     "text": [
      "🎉 All tests passed! 🎉\n"
     ]
    }
   ],
   "source": [
    "## == CHECKPOINT TEST CASES: Finding Averages ==\n",
    "# - This read-only cell contains test cases for your previous cell.\n",
    "# - If this cell runs without any errors, you PASSED all test cases!\n",
    "# - If this cell results in any errors, check your previous cell, make changes, and RE-RUN your code and then this cell.\n",
    "assert( isinstance(avg_red, float) and isinstance(avg_green, float) and isinstance(avg_blue, float) ), \"Your average pixel color values should be decimal (float) variables.\"\n",
    "assert( avg_red >= 0 and avg_red <= 255 ), \"The average red value must be between 0 and 255.\"\n",
    "assert( avg_green >= 0 and avg_green <= 255 ), \"The average green value must be between 0 and 255.\"\n",
    "assert( avg_blue >= 0 and avg_blue <= 255 ), \"The average blue value must be between 0 and 255.\"\n",
    "\n",
    "## == SUCCESS MESSAGE ==\n",
    "# You will only see this message (with the emoji showing) if you passed all test cases:\n",
    "tada = \"\\N{PARTY POPPER}\"\n",
    "print(f\"{tada} All tests passed! {tada}\")"
   ]
  },
  {
   "cell_type": "markdown",
   "metadata": {},
   "source": [
    "## See the Average Color\n",
    "\n",
    "Colors are presented in code as a tuple, `rgb(1, 2, 3)`.  Run the following code to see the average color represented as a tuple, and to see a Google search where you can view it yourself!"
   ]
  },
  {
   "cell_type": "code",
   "execution_count": 52,
   "metadata": {},
   "outputs": [
    {
     "name": "stdout",
     "output_type": "stream",
     "text": [
      "Average color: rgb(117, 121, 131)\n",
      "See it on Google: https://www.google.com/search?q=rgb(117,121,131)&\n"
     ]
    }
   ],
   "source": [
    "color = f\"rgb({round(avg_red)}, {round(avg_green)}, {round(avg_blue)})\"\n",
    "\n",
    "print(f\"Average color: {color}\")\n",
    "color = color.replace(\" \", \"\")\n",
    "print(f\"See it on Google: https://www.google.com/search?q={color}&\")"
   ]
  },
  {
   "cell_type": "markdown",
   "metadata": {},
   "source": [
    "### Analysis: Average Color"
   ]
  },
  {
   "cell_type": "markdown",
   "metadata": {},
   "source": [
    "**Q3: Now that you have explored average color and pixels, what are your early ideas for a base image and tile images for the mosaic project?**"
   ]
  },
  {
   "cell_type": "markdown",
   "metadata": {},
   "source": [
    "I have two ideas. One is a picture of my cat made up of every picture I have of my cat. Another is a picture of me and my friends on a road trip we went on over the summer made up of all the pictures we took."
   ]
  },
  {
   "cell_type": "markdown",
   "metadata": {},
   "source": [
    "<hr style=\"color: #DD3403;\">"
   ]
  },
  {
   "cell_type": "markdown",
   "metadata": {},
   "source": [
    "# Submission\n",
    "\n",
    "You're almost done!  All you need to do is to commit your lab to GitHub:\n",
    "\n",
    "1.  ⚠️ **Make certain to save your work.** ⚠️ To do this, go to **File => Save All**\n",
    "\n",
    "2.  After you have saved, exit this notebook and follow the Canvas instructions to commit this lab to your Git repository!\n",
    "\n",
    "3. Your TA will grade your submission and provide you feedback after the lab is due. :)"
   ]
  }
 ],
 "metadata": {
  "kernelspec": {
   "display_name": "Python 3",
   "language": "python",
   "name": "python3"
  },
  "language_info": {
   "codemirror_mode": {
    "name": "ipython",
    "version": 3
   },
   "file_extension": ".py",
   "mimetype": "text/x-python",
   "name": "python",
   "nbconvert_exporter": "python",
   "pygments_lexer": "ipython3",
   "version": "3.11.1"
  },
  "orig_nbformat": 4,
  "vscode": {
   "interpreter": {
    "hash": "f48b0ea9e8281b29b1f9b6045fc5406bb9891af892053a27454c097f6ae51d2c"
   }
  }
 },
 "nbformat": 4,
 "nbformat_minor": 2
}
