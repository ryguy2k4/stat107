{
 "cells": [
  {
   "attachments": {},
   "cell_type": "markdown",
   "metadata": {},
   "source": [
    "# Welcome to lab_🐼s!\n",
    "\n",
    "Last week, you did amazing work setting up your computer to do data science!  Let's now use your computer to do data science for the first time!\n",
    "\n",
    "A few tips to remember:\n",
    "\n",
    "- **You are not alone on your journey in learning programming!**  You have your lab Teaching Assistant (TA), your Course Assistants (CAs), your lab group, and the professors (Prof. Karle and Prof. Wade), who are all here to help you out!\n",
    "- If you find yourself stuck for more than a few minutes, ask a neighbor or course staff for help!  When you are giving help to your neighbor, explain the **idea and approach** to the problem without sharing the answer itself so they can have the same **<i>ah-hah</i>** moment!\n",
    "- We are here to help you!  Don't feel embarrassed or shy to ask us for help!\n",
    "\n",
    "Let's get started!"
   ]
  },
  {
   "cell_type": "markdown",
   "metadata": {},
   "source": [
    "<hr style=\"color: #DD3403;\">"
   ]
  },
  {
   "attachments": {},
   "cell_type": "markdown",
   "metadata": {},
   "source": [
    "# Part 0: Your Lab Group!\n",
    "\n",
    "We find it's best when you're programming with a group of people who you can help out and can help you out!\n",
    "\n",
    "- A key part of Data Science is being able to **communicate about your work**.  If you are the best programmer in the world, but no one uses your code, then the code you're writing is not getting run.  By learning strong communication skills, you will be able to **explain your code**, and the underlying data science concepts, to everyone -- data scientists and non-scientists alike!\n",
    "\n",
    "- **Every lab** you will need to complete some parts of the lab **with your group**.  There will be both **\"group discussions\"** and **\"individual reflections\"** as part of every lab."
   ]
  },
  {
   "cell_type": "markdown",
   "metadata": {},
   "source": [
    "## Create Your Group\n",
    "\n",
    "If you have not done so already, **RIGHT NOW** find *(ideally)* two other people to make a group of **two, three, or four** people.   *(We find groups of three work the best, but you can be a group of two or four -- no solo groups, and no groups of five!*)\n",
    "\n",
    "- If you're at a group of five, split into a group of two and a group of three.  You can still help each other as a larger group, but the group questions should be answered in your smaller group of 2-4 people.\n",
    "\n",
    "Once you have your group **introduce yourselves to each other! :)**"
   ]
  },
  {
   "cell_type": "markdown",
   "metadata": {},
   "source": [
    "## Record Your Group\n",
    "\n",
    "Since you know Python, edit the following cell to add strings about your group:"
   ]
  },
  {
   "cell_type": "code",
   "execution_count": null,
   "metadata": {},
   "outputs": [],
   "source": [
    "# First, meet your CAs and TA if you haven't already!\n",
    "# ...first name is enough, we'll know who they are! :)\n",
    "ta_name = \"\"\n",
    "ca1_name = \"\"\n",
    "ca2_name = \"\"\n",
    "\n",
    "\n",
    "# As part of your introduction, learn your lab partner's name, major, and\n",
    "# learn something new about them that you never knew!\n",
    "# - Groups of 3 are ideal :)\n",
    "# - However groups of 2 or 4 are fine too!\n",
    "partner1_name = \"\"\n",
    "partner1_netid = \"\"\n",
    "partner1_major = \"\"\n",
    "\n",
    "partner2_name = \"\"\n",
    "partner2_netid = \"\"\n",
    "partner2_major = \"\"\n",
    "\n",
    "partner3_name = \"\"\n",
    "partner3_netid = \"\"\n",
    "partner3_major = \"\""
   ]
  },
  {
   "cell_type": "markdown",
   "metadata": {},
   "source": [
    "<hr style=\"color: #DD3403;\">"
   ]
  },
  {
   "attachments": {},
   "cell_type": "markdown",
   "metadata": {},
   "source": [
    "# Part 1: 🧑‍🤝‍🧑 Hello Dataset!"
   ]
  },
  {
   "attachments": {},
   "cell_type": "markdown",
   "metadata": {},
   "source": [
    "In lecture, we have already begun to explore the \"Party Dataset\" that you created.  We will continue to use the Party Dataset all semester long, but we want even more datasets -- and we want you to come up with the questions!\n",
    "\n",
    "In this lab, **you** will come up with questions to ask the entire class for the **\"Hello Dataset\"**!"
   ]
  },
  {
   "attachments": {},
   "cell_type": "markdown",
   "metadata": {},
   "source": [
    "## Hello Dataset Overview\n",
    "\n",
    "Over the weekend, your lab homework will be to fill out a class-wide \"Hello Survey\".  Right now, with your group, you will come up some of the questions that should be on this survey *(and you will do analysis on your questions next week!)*.\n",
    "\n",
    "With your group, come up with four questions below!  Before you get started, a few notes:\n",
    "\n",
    "- The survey will be **NOT be anonymous** and the results will be shared with the class to do analysis on, so you should **only ask questions you feel comfortable to share with the class**.\n",
    "- **Questions that are inappropriate** for a classroom environment will be thrown out and you won't earn lab credit points for any question we throw out.  (Keep everything at most PG/PG-13.)\n",
    "- You are going to submit **one set of questions for your whole group**.  You must decide on the questions together."
   ]
  },
  {
   "cell_type": "markdown",
   "metadata": {},
   "source": [
    "## Q1: Question with a Binary Response\n",
    "\n",
    "A question with a **binary response** is a question that has only two answers.  For example:\n",
    "- *Do you prefer cats or dogs?*\n",
    "- *Were you born in Illinois?*\n",
    "\n",
    "With your group (you must all decide on a single question together), come up with a question that you think will have **exactly 50%/50%** split between the two binary outcomes.  *(The question that gets closest to 50%/50% will get extra credit!)*"
   ]
  },
  {
   "cell_type": "markdown",
   "metadata": {},
   "source": [
    "**What is your binary question?**\n",
    "\n",
    "*(✏️ Edit this cell to replace this line with your group's question. ✏️)*"
   ]
  },
  {
   "cell_type": "markdown",
   "metadata": {},
   "source": [
    "**Why do you think this is a good question?  Write at least two complete sentences on why you believe your question will have a 50%/50% split.**\n",
    "\n",
    "*(✏️ Edit this cell to replace this line with two complete sentences here. ✏️)*"
   ]
  },
  {
   "cell_type": "markdown",
   "metadata": {},
   "source": [
    "## Q2: Question with a Numeric Response\n",
    "\n",
    "A question with a **numeric response** requires a number for an answer.  For example:\n",
    "\n",
    "- *What is your height?*\n",
    "- *What day were you born?*\n",
    "\n",
    "With your group (you must all decide on a single question together), come up with a question and a prediction on what you think the most frequent answer will be to your question."
   ]
  },
  {
   "cell_type": "markdown",
   "metadata": {},
   "source": [
    "**What is your numeric question?**\n",
    "\n",
    "*(✏️ Edit this cell to replace this line with your group's question. ✏️)*"
   ]
  },
  {
   "cell_type": "markdown",
   "metadata": {},
   "source": [
    "**What do you think the most frequent answer will be?**\n",
    "\n",
    "*(✏️ Edit this cell to replace this text with your group's prediction on the most frequent answer. ✏️)*"
   ]
  },
  {
   "cell_type": "markdown",
   "metadata": {},
   "source": [
    "**Why do you think this answer will be the most frequent answer?  Write at least one complete sentence on why you believe that it will be the most frequent answer.**\n",
    "\n",
    "*(✏️ Edit this cell to replace this line with your group's question. ✏️)*"
   ]
  },
  {
   "cell_type": "markdown",
   "metadata": {},
   "source": [
    "## Q3: Question with a (non-numeric) Textual Response\n",
    "\n",
    "A question with a (non-numeric) **textual response** requires a word or two for an answer.  For example:\n",
    "\n",
    "- *What is your favorite sport to play?*\n",
    "- *What is the location of your favorite trip/vacation?*\n",
    "\n",
    "With your group (you must all decide on a single question together), come up with a question where at least two members of your group share the same answer."
   ]
  },
  {
   "cell_type": "markdown",
   "metadata": {},
   "source": [
    "**What is your textual response question?**\n",
    "\n",
    "*(✏️ Edit this cell to replace this line with your group's question. ✏️)*"
   ]
  },
  {
   "cell_type": "markdown",
   "metadata": {},
   "source": [
    "**What is the shared answer between your group?  Do you also share this answer (if not, what's your answer to the question)?**\n",
    "\n",
    "*(✏️ Edit this cell to replace this text with your response. ✏️)*"
   ]
  },
  {
   "cell_type": "markdown",
   "metadata": {},
   "source": [
    "## Q4: Open Question\n",
    "\n",
    "One final question -- no restrictions on the format!  Is there a great question your group discussed that you did not get to use one of the first three questions but you want to know the classes' answer?"
   ]
  },
  {
   "cell_type": "markdown",
   "metadata": {},
   "source": [
    "**What is your final question for the whole class?**\n",
    "\n",
    "*(✏️ Edit this cell to replace this line with your group's question. ✏️)*"
   ]
  },
  {
   "attachments": {},
   "cell_type": "markdown",
   "metadata": {},
   "source": [
    "## Submit Your Questions to Wade and Karle\n",
    "\n",
    "Your lab TAs will be grading your lab notebook for your full responses, but we want to make sure to get the survey with your questions out to everyone ASAP!\n",
    "\n",
    "- Pick one member of your group as the \"question submitter\".\n",
    "- If you're the question submitter, complete this Google Form for your group (requires @illinois.edu login): https://forms.gle/KC3uiZ6q5eKfDijr6\n",
    "- Make sure to do this **during your lab section**.\n"
   ]
  },
  {
   "cell_type": "markdown",
   "metadata": {},
   "source": [
    "<hr style=\"color: #DD3403;\">"
   ]
  },
  {
   "cell_type": "markdown",
   "metadata": {},
   "source": [
    "# Part 2: Importing the Course Catalog Dataset\n",
    "\n",
    "In lecture, you learned we will use the `pandas` **library** for working with data.  Libraries are collections of functions and other objects that extend what Python can do by itself.  The `pandas` library is the most widely used library for data science.\n",
    "\n",
    "To use the `pandas` library, we must **import** it into your notebook.  In literally every lab, you will need to import the library just like we did in lecture -- import pandas as `pd` in the following cell:"
   ]
  },
  {
   "cell_type": "code",
   "execution_count": null,
   "metadata": {},
   "outputs": [],
   "source": [
    "# Write the code to import pandas as pd:"
   ]
  },
  {
   "attachments": {},
   "cell_type": "markdown",
   "metadata": {},
   "source": [
    "In lecture, you saw the \"Course Catalog\" dataset.  Using the `read_csv` function, load the course catalog dataset.  The URL for this dataset is:\n",
    "```\n",
    "https://waf.cs.illinois.edu/discovery/course-catalog.csv\n",
    "```\n",
    "\n",
    "Remember, URLs passed to `read_csv` are **string** variables, so remember to use **quotation marks**. "
   ]
  },
  {
   "cell_type": "code",
   "execution_count": null,
   "metadata": {},
   "outputs": [],
   "source": [
    "# Load the course catalog dataset into a variable named `df`:"
   ]
  },
  {
   "cell_type": "code",
   "execution_count": null,
   "metadata": {},
   "outputs": [],
   "source": [
    "# Look at `df` to confirm that this worked:"
   ]
  },
  {
   "cell_type": "markdown",
   "metadata": {},
   "source": [
    "## 🔬 Test Case Checkpoint 🔬\n",
    "\n",
    "Throughout the lab, we will have \"checkpoints\" at key points.  Most checkpoints will include **test cases** that verify that your notebook appears to be correct.\n",
    "\n",
    "- The test cases are **NOT** a guarantee that everything is perfect, but we try our very best to catch any common mistakes you might make!\n",
    "- If you see `AssertionError` error message when running the test case, we provide a helpful hint on what may not be correct.\n",
    "- If you see a party popper emoji and a message that all tests pass, you passed the checkpoint!\n",
    "- **Checkpoints** are a good time to check with your group to make everyone gets to the checkpoint together!"
   ]
  },
  {
   "cell_type": "code",
   "execution_count": null,
   "metadata": {},
   "outputs": [],
   "source": [
    "## == CHECKPOINT TEST CASES for Part 1 ==\n",
    "# - This read-only cell contains test cases for your previous cell.\n",
    "# - If this cell runs without any error our output, you PASSED all test cases!\n",
    "# - If this cell results in any errors, check you previous cell, make changes, and RE-RUN your code and then this cell.\n",
    "assert( 'df' in vars() ), \"Did you define a variable called df?\"\n",
    "assert( len(df) == 11821 ), \"It looks like you did not import the correct dataset?\"\n",
    "\n",
    "\n",
    "## == SUCCESS MESSAGE ==\n",
    "# You will only see this message (with the emoji showing) if you passed all test cases:\n",
    "tada = \"\\N{PARTY POPPER}\"\n",
    "print(f\"{tada} All tests passed! {tada}\")"
   ]
  },
  {
   "cell_type": "markdown",
   "metadata": {},
   "source": [
    "<hr style=\"color: #DD3403;\">"
   ]
  },
  {
   "cell_type": "markdown",
   "metadata": {},
   "source": [
    "# Part 3: STAT / CS / IS Majors\n",
    "\n",
    "Data Science DISCOVERY is a unique course that is cross-listed across three departments: Statistics, Computer Science, and Information Sciences.  Let's explore courses from all three of those subjects!"
   ]
  },
  {
   "cell_type": "markdown",
   "metadata": {},
   "source": [
    "### Puzzle 3.1\n",
    "\n",
    "Select only the rows that have a `Subject` of `STAT`.  Assign this to the variable name `df_STAT` instead of the usual `df`.\n",
    "- Make sure your result contains only statistics courses!"
   ]
  },
  {
   "cell_type": "code",
   "execution_count": null,
   "metadata": {},
   "outputs": [],
   "source": [
    "df_STAT = ...\n",
    "df_STAT"
   ]
  },
  {
   "cell_type": "markdown",
   "metadata": {},
   "source": [
    "### Puzzle 3.2\n",
    "\n",
    "Select only the rows that have a `Subject` of `CS`.  Assign this to the variable name `df_CS` instead of the usual `df`.\n",
    "- Make sure your result contains only computer science courses!"
   ]
  },
  {
   "cell_type": "code",
   "execution_count": null,
   "metadata": {},
   "outputs": [],
   "source": [
    "df_CS = ...\n",
    "df_CS"
   ]
  },
  {
   "cell_type": "markdown",
   "metadata": {},
   "source": [
    "### Puzzle 3.3\n",
    "\n",
    "Select only the rows that have a `Subject` of `IS`.  Assign this to the variable name `df_IS` instead of the usual `df`.\n",
    "- Make sure your result contains only information science courses!"
   ]
  },
  {
   "cell_type": "code",
   "execution_count": null,
   "metadata": {},
   "outputs": [],
   "source": [
    "df_IS = ...\n",
    "df_IS"
   ]
  },
  {
   "cell_type": "markdown",
   "metadata": {},
   "source": [
    "### 🔬 Test Case Checkpoint 🔬\n"
   ]
  },
  {
   "cell_type": "code",
   "execution_count": null,
   "metadata": {},
   "outputs": [],
   "source": [
    "## == CHECKPOINT TEST CASES for Part 3 ==\n",
    "# - This read-only cell contains test cases for your previous cell.\n",
    "# - If this cell runs without any error our output, you PASSED all test cases!\n",
    "# - If this cell results in any errors, check you previous cell, make changes, and RE-RUN your code and then this cell.\n",
    "assert( 'df_CS' in vars() ), \"Make certain to name the CS courses df_CS.\"\n",
    "assert( 'df_STAT' in vars() ), \"Make certain to name the STAT courses df_STAT.\"\n",
    "assert( 'df_IS' in vars() ), \"Make certain to name the IS courses df_IS.\"\n",
    "assert( len(df_STAT[df_STAT.Subject != \"STAT\"] ) == 0 ), \"It looks like you did not subset df_STAT to only STAT courses.\"\n",
    "assert( len(df_CS[df_CS.Subject != \"CS\"] ) == 0 ), \"It looks like you did not subset df_STAT to only STAT courses.\"\n",
    "assert( len(df_IS[df_IS.Subject != \"IS\"] ) == 0 ), \"It looks like you did not subset df_STAT to only STAT courses.\"\n",
    "\n",
    "## == SUCCESS MESSAGE ==\n",
    "# You will only see this message (with the emoji showing) if you passed all test cases:\n",
    "tada = \"\\N{PARTY POPPER}\"\n",
    "print(f\"{tada} All tests passed! {tada}\")"
   ]
  },
  {
   "cell_type": "markdown",
   "metadata": {},
   "source": [
    "### Puzzle 3.4\n",
    "\n",
    "Looking at the output of the DataFrames for STAT, CS, and IS above, which subject offers the **fewest** course sections?  The **most** course sections?\n"
   ]
  },
  {
   "cell_type": "markdown",
   "metadata": {},
   "source": [
    "*(✏️ Edit this cell to replace this text wth your answer this puzzle. ✏️)*"
   ]
  },
  {
   "cell_type": "markdown",
   "metadata": {},
   "source": [
    "### Puzzle 3.5\n",
    "\n",
    "Looking at the output of the DataFrames for STAT, CS, and IS above, which subject has the highest numbered course?  Is there something similar about all of the highest numbered courses?  Write about what you observed!\n"
   ]
  },
  {
   "cell_type": "markdown",
   "metadata": {},
   "source": [
    "*(✏️ Edit this cell to replace this text wth your answer this puzzle. ✏️)*"
   ]
  },
  {
   "cell_type": "markdown",
   "metadata": {},
   "source": [
    "<hr style=\"color: #DD3403;\">"
   ]
  },
  {
   "cell_type": "markdown",
   "metadata": {},
   "source": [
    "# Part 4: Your Major"
   ]
  },
  {
   "cell_type": "markdown",
   "metadata": {},
   "source": [
    "In this part, you will be exploring **your major** using the Course Catalog dataset.\n",
    "\n",
    "- Use the primary subject of your **current major** (or, if you're undeclared, your intended major) for this section.\n",
    "- Your answers will be different than the rest of your group!\n",
    "\n"
   ]
  },
  {
   "cell_type": "markdown",
   "metadata": {},
   "source": [
    "### Puzzle 4.1:\n",
    "\n",
    "Select only the rows that have a `Subject` of your current/intended major.  Assign this to the variable name `mydf` instead of `df`:"
   ]
  },
  {
   "cell_type": "code",
   "execution_count": null,
   "metadata": {},
   "outputs": [],
   "source": [
    "mydf = ...\n",
    "mydf"
   ]
  },
  {
   "cell_type": "markdown",
   "metadata": {},
   "source": [
    "### Puzzle 4.2:\n",
    "\n",
    "Select **five random course sections** from your major, using `mydf` and pandas functions:"
   ]
  },
  {
   "cell_type": "code",
   "execution_count": null,
   "metadata": {},
   "outputs": [],
   "source": [
    "..."
   ]
  },
  {
   "cell_type": "markdown",
   "metadata": {},
   "source": [
    "### Puzzle 4.3:\n",
    "\n",
    "Select **the seven lowest numbered course sections** from your major:"
   ]
  },
  {
   "cell_type": "code",
   "execution_count": null,
   "metadata": {},
   "outputs": [],
   "source": [
    "..."
   ]
  },
  {
   "cell_type": "markdown",
   "metadata": {},
   "source": [
    "### Puzzle 4.4:\n",
    "\n",
    "Select **the nine highest numbered course sections** from your major:"
   ]
  },
  {
   "cell_type": "code",
   "execution_count": null,
   "metadata": {},
   "outputs": [],
   "source": [
    "..."
   ]
  },
  {
   "cell_type": "markdown",
   "metadata": {},
   "source": [
    "### Puzzle 4.5:\n",
    "\n",
    "Select **a random sample of 10% of the course sections** from your major:"
   ]
  },
  {
   "cell_type": "code",
   "execution_count": null,
   "metadata": {},
   "outputs": [],
   "source": [
    "..."
   ]
  },
  {
   "cell_type": "markdown",
   "metadata": {},
   "source": [
    "### ✔️ Checkpoint ✔️\n",
    "\n",
    "There are no test cases for Part 4 (since everyone has different majors), but go double check your work!  There's just one section left to go! :)"
   ]
  },
  {
   "cell_type": "markdown",
   "metadata": {},
   "source": [
    "<hr style=\"color: #DD3403;\">"
   ]
  },
  {
   "attachments": {},
   "cell_type": "markdown",
   "metadata": {},
   "source": [
    "# Part 5: Growth of the IS major\n",
    "\n",
    "The IS major is still a new relatively new major here at UIUC. The final puzzle is for you to analyze how much the IS major has grown since 2019."
   ]
  },
  {
   "cell_type": "markdown",
   "metadata": {},
   "source": [
    "### Puzzle 5.1: Loading the Course Catalog Dataset from 2019\n",
    "\n",
    "Using the name `df2019` instead of `df`, load the \"Fall 2019 Course Catalog Dataset\" that can be found at the following URL:\n",
    "```\n",
    "https://waf.cs.illinois.edu/discovery/course-catalog-fa19.csv\n",
    "```"
   ]
  },
  {
   "cell_type": "code",
   "execution_count": null,
   "metadata": {},
   "outputs": [],
   "source": [
    "df2019 = ...\n",
    "df2019"
   ]
  },
  {
   "attachments": {},
   "cell_type": "markdown",
   "metadata": {},
   "source": [
    "### Puzzle 5.2: Data Science Analysis\n",
    "\n",
    "In the following cells,\n",
    "- Select only the rows from the `IS` subject from the `df2019` dataset,\n",
    "- Select only the rows from the `IS` subject from the `df` dataset (this contains the 2023 data),\n",
    "- Complete the reflection question below (Puzzle 5.3).  Feel free to write more code to answer it."
   ]
  },
  {
   "cell_type": "code",
   "execution_count": null,
   "metadata": {},
   "outputs": [],
   "source": [
    "..."
   ]
  },
  {
   "cell_type": "code",
   "execution_count": null,
   "metadata": {},
   "outputs": [],
   "source": [
    "..."
   ]
  },
  {
   "cell_type": "code",
   "execution_count": null,
   "metadata": {},
   "outputs": [],
   "source": [
    "# Feel free to add more code cells if needed by hovering over the area below the cell and pressing \"+ Code\"!"
   ]
  },
  {
   "cell_type": "markdown",
   "metadata": {},
   "source": [
    "### Puzzle 5.3: Reflection on the Growth of Information Science\n",
    "\n",
    "In the follow cell, write **at least one complete sentence explaining what you found** related to the growth of the IS program.  In your answer, **use actual data** (ex: by how much did it grow?)"
   ]
  },
  {
   "attachments": {},
   "cell_type": "markdown",
   "metadata": {},
   "source": [
    "*(✏️ Edit this cell to replace this text with your answer this puzzle. ✏️)*"
   ]
  },
  {
   "cell_type": "markdown",
   "metadata": {},
   "source": [
    "<hr style=\"color: #DD3403;\">"
   ]
  },
  {
   "cell_type": "markdown",
   "metadata": {},
   "source": [
    "# Submission"
   ]
  },
  {
   "cell_type": "markdown",
   "metadata": {},
   "source": [
    "You're almost done!  All you need to do is to commit your lab to GitHub:\n",
    "\n",
    "1.  ⚠️ **Make certain to save your work.** ⚠️ To do this, go to **File => Save All**\n",
    "\n",
    "2.  After you have saved, exit this notebook and follow the Canvas instructions to commit this lab to your Git repository!\n",
    "\n",
    "3. Your TA will grade your submission and provide you feedback after the lab is due. :)"
   ]
  }
 ],
 "metadata": {
  "kernelspec": {
   "display_name": "Python 3",
   "language": "python",
   "name": "python3"
  },
  "language_info": {
   "codemirror_mode": {
    "name": "ipython",
    "version": 3
   },
   "file_extension": ".py",
   "mimetype": "text/x-python",
   "name": "python",
   "nbconvert_exporter": "python",
   "pygments_lexer": "ipython3",
   "version": "3.10.9"
  },
  "orig_nbformat": 4,
  "vscode": {
   "interpreter": {
    "hash": "f48b0ea9e8281b29b1f9b6045fc5406bb9891af892053a27454c097f6ae51d2c"
   }
  }
 },
 "nbformat": 4,
 "nbformat_minor": 2
}
