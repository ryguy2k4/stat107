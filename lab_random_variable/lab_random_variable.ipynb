{
 "cells": [
  {
   "cell_type": "markdown",
   "metadata": {},
   "source": [
    "# Lab: Random Variable ◓\n",
    "In this lab, you will **catch Pokémon** in **simulations**, observing random variables and the Central Limit Theorem along the way. \n",
    "\n",
    "A few tips to remember:\n",
    "\n",
    "- **You are not alone on your journey in learning programming!**  You have your lab Teaching Assistant, your Course Aides, your lab group, and the professors (Prof. Wade and Prof. Karle), who are all here to help you out!\n",
    "- If you find yourself stuck for more than a few minutes, ask a neighbor or course staff for help!  When you are giving help to your neighbor, explain the **idea and approach** to the problem without sharing the answer itself so they can have the same **<i>ah-hah</i>** moment!\n",
    "- We are here to help you!  Don't feel embarrassed or shy to ask us for help!\n",
    "\n",
    "Let's get started!"
   ]
  },
  {
   "cell_type": "code",
   "execution_count": 2,
   "metadata": {},
   "outputs": [],
   "source": [
    "# Meet your CAs and TA if you haven't already!\n",
    "# First name is enough, we'll know who they are! :)\n",
    "ta_name = \"Alex\"\n",
    "ca1_name = \"Ana\"\n",
    "ca2_name = \"Evan\"\n",
    "ca3_name = \"Areeba\"\n",
    "\n",
    "# Say hello to each other!\n",
    "# - Groups of 3 are ideal :)\n",
    "# - However, groups of 2 or 4 are fine too!\n",
    "#\n",
    "# QOTD to Ask Your Group: \"What's your favorite RSO on campus?\"\n",
    "partner1_name = \"\"\n",
    "partner1_netid = \"\"\n",
    "partner1_rso = \"\"\n",
    "\n",
    "partner2_name = \"\"\n",
    "partner2_netid = \"\"\n",
    "partner2_rso = \"\"\n",
    "\n",
    "partner3_name = \"\"\n",
    "partner3_netid = \"\"\n",
    "partner3_rso = \"\""
   ]
  },
  {
   "cell_type": "markdown",
   "metadata": {},
   "source": [
    "<hr style=\"color: #DD3403;\">"
   ]
  },
  {
   "cell_type": "markdown",
   "metadata": {},
   "source": [
    "# Part 1: Catching Pokémon\n",
    "As stated earlier, we're going to catch some Pokémon! For those unfamiliar, Pokémon are creatures that can be captured (caught) to fight alongside their trainers in the mythical Pokémon world featured in countless video games, cartoons, and cards.\n",
    "\n",
    "There are **tons** of Pokémon out there, so for the purposes of this lab, we will be dealing with Generation One (Gen. One) Pokémon. \n",
    "\n",
    "This means we will use a specific dataset that contains **Gen. One Pokémon** alongside some important statistics about the original 151. \n",
    "\n",
    "The \"Gen One Pokemon Dataset\" is available as `pokemon.csv`\n",
    "\n",
    "Use Pandas to load this dataset into a DataFrame named `df`:"
   ]
  },
  {
   "cell_type": "code",
   "execution_count": 3,
   "metadata": {},
   "outputs": [
    {
     "data": {
      "text/html": [
       "<div>\n",
       "<style scoped>\n",
       "    .dataframe tbody tr th:only-of-type {\n",
       "        vertical-align: middle;\n",
       "    }\n",
       "\n",
       "    .dataframe tbody tr th {\n",
       "        vertical-align: top;\n",
       "    }\n",
       "\n",
       "    .dataframe thead th {\n",
       "        text-align: right;\n",
       "    }\n",
       "</style>\n",
       "<table border=\"1\" class=\"dataframe\">\n",
       "  <thead>\n",
       "    <tr style=\"text-align: right;\">\n",
       "      <th></th>\n",
       "      <th>Number</th>\n",
       "      <th>Name</th>\n",
       "      <th>Types</th>\n",
       "      <th>Type1</th>\n",
       "      <th>Type2</th>\n",
       "      <th>Height(m)</th>\n",
       "      <th>Weight(kg)</th>\n",
       "      <th>Male_Pct</th>\n",
       "      <th>Female_Pct</th>\n",
       "      <th>Capt_Rate</th>\n",
       "      <th>...</th>\n",
       "      <th>Poison_Dmg</th>\n",
       "      <th>Ground_Dmg</th>\n",
       "      <th>Flying_Dmg</th>\n",
       "      <th>Psychic_Dmg</th>\n",
       "      <th>Bug_Dmg</th>\n",
       "      <th>Rock_Dmg</th>\n",
       "      <th>Ghost_Dmg</th>\n",
       "      <th>Dragon_Dmg</th>\n",
       "      <th>Evolutions</th>\n",
       "      <th>Legendary</th>\n",
       "    </tr>\n",
       "  </thead>\n",
       "  <tbody>\n",
       "    <tr>\n",
       "      <th>0</th>\n",
       "      <td>1</td>\n",
       "      <td>Bulbasaur</td>\n",
       "      <td>2</td>\n",
       "      <td>grass</td>\n",
       "      <td>poison</td>\n",
       "      <td>0.7</td>\n",
       "      <td>6.9</td>\n",
       "      <td>87.5</td>\n",
       "      <td>12.5</td>\n",
       "      <td>45</td>\n",
       "      <td>...</td>\n",
       "      <td>1.0</td>\n",
       "      <td>1.0</td>\n",
       "      <td>2.0</td>\n",
       "      <td>2.0</td>\n",
       "      <td>4.0</td>\n",
       "      <td>1.0</td>\n",
       "      <td>1</td>\n",
       "      <td>1</td>\n",
       "      <td>2</td>\n",
       "      <td>0</td>\n",
       "    </tr>\n",
       "    <tr>\n",
       "      <th>1</th>\n",
       "      <td>2</td>\n",
       "      <td>Ivysaur</td>\n",
       "      <td>2</td>\n",
       "      <td>grass</td>\n",
       "      <td>poison</td>\n",
       "      <td>1.0</td>\n",
       "      <td>13.0</td>\n",
       "      <td>87.5</td>\n",
       "      <td>12.5</td>\n",
       "      <td>45</td>\n",
       "      <td>...</td>\n",
       "      <td>1.0</td>\n",
       "      <td>1.0</td>\n",
       "      <td>2.0</td>\n",
       "      <td>2.0</td>\n",
       "      <td>4.0</td>\n",
       "      <td>1.0</td>\n",
       "      <td>1</td>\n",
       "      <td>1</td>\n",
       "      <td>2</td>\n",
       "      <td>0</td>\n",
       "    </tr>\n",
       "    <tr>\n",
       "      <th>2</th>\n",
       "      <td>3</td>\n",
       "      <td>Venusaur</td>\n",
       "      <td>2</td>\n",
       "      <td>grass</td>\n",
       "      <td>poison</td>\n",
       "      <td>2.0</td>\n",
       "      <td>100.0</td>\n",
       "      <td>87.5</td>\n",
       "      <td>12.5</td>\n",
       "      <td>45</td>\n",
       "      <td>...</td>\n",
       "      <td>1.0</td>\n",
       "      <td>1.0</td>\n",
       "      <td>2.0</td>\n",
       "      <td>2.0</td>\n",
       "      <td>4.0</td>\n",
       "      <td>1.0</td>\n",
       "      <td>1</td>\n",
       "      <td>1</td>\n",
       "      <td>2</td>\n",
       "      <td>0</td>\n",
       "    </tr>\n",
       "    <tr>\n",
       "      <th>3</th>\n",
       "      <td>4</td>\n",
       "      <td>Charmander</td>\n",
       "      <td>1</td>\n",
       "      <td>fire</td>\n",
       "      <td>none</td>\n",
       "      <td>0.6</td>\n",
       "      <td>8.5</td>\n",
       "      <td>87.5</td>\n",
       "      <td>12.5</td>\n",
       "      <td>45</td>\n",
       "      <td>...</td>\n",
       "      <td>1.0</td>\n",
       "      <td>2.0</td>\n",
       "      <td>1.0</td>\n",
       "      <td>1.0</td>\n",
       "      <td>0.5</td>\n",
       "      <td>2.0</td>\n",
       "      <td>1</td>\n",
       "      <td>1</td>\n",
       "      <td>2</td>\n",
       "      <td>0</td>\n",
       "    </tr>\n",
       "    <tr>\n",
       "      <th>4</th>\n",
       "      <td>5</td>\n",
       "      <td>Charmeleon</td>\n",
       "      <td>1</td>\n",
       "      <td>fire</td>\n",
       "      <td>none</td>\n",
       "      <td>1.1</td>\n",
       "      <td>19.0</td>\n",
       "      <td>87.5</td>\n",
       "      <td>12.5</td>\n",
       "      <td>45</td>\n",
       "      <td>...</td>\n",
       "      <td>1.0</td>\n",
       "      <td>2.0</td>\n",
       "      <td>1.0</td>\n",
       "      <td>1.0</td>\n",
       "      <td>0.5</td>\n",
       "      <td>2.0</td>\n",
       "      <td>1</td>\n",
       "      <td>1</td>\n",
       "      <td>2</td>\n",
       "      <td>0</td>\n",
       "    </tr>\n",
       "    <tr>\n",
       "      <th>...</th>\n",
       "      <td>...</td>\n",
       "      <td>...</td>\n",
       "      <td>...</td>\n",
       "      <td>...</td>\n",
       "      <td>...</td>\n",
       "      <td>...</td>\n",
       "      <td>...</td>\n",
       "      <td>...</td>\n",
       "      <td>...</td>\n",
       "      <td>...</td>\n",
       "      <td>...</td>\n",
       "      <td>...</td>\n",
       "      <td>...</td>\n",
       "      <td>...</td>\n",
       "      <td>...</td>\n",
       "      <td>...</td>\n",
       "      <td>...</td>\n",
       "      <td>...</td>\n",
       "      <td>...</td>\n",
       "      <td>...</td>\n",
       "      <td>...</td>\n",
       "    </tr>\n",
       "    <tr>\n",
       "      <th>146</th>\n",
       "      <td>147</td>\n",
       "      <td>Dratini</td>\n",
       "      <td>1</td>\n",
       "      <td>dragon</td>\n",
       "      <td>none</td>\n",
       "      <td>1.8</td>\n",
       "      <td>3.3</td>\n",
       "      <td>50.0</td>\n",
       "      <td>50.0</td>\n",
       "      <td>45</td>\n",
       "      <td>...</td>\n",
       "      <td>1.0</td>\n",
       "      <td>1.0</td>\n",
       "      <td>1.0</td>\n",
       "      <td>1.0</td>\n",
       "      <td>1.0</td>\n",
       "      <td>1.0</td>\n",
       "      <td>1</td>\n",
       "      <td>2</td>\n",
       "      <td>2</td>\n",
       "      <td>0</td>\n",
       "    </tr>\n",
       "    <tr>\n",
       "      <th>147</th>\n",
       "      <td>148</td>\n",
       "      <td>Dragonair</td>\n",
       "      <td>1</td>\n",
       "      <td>dragon</td>\n",
       "      <td>none</td>\n",
       "      <td>4.0</td>\n",
       "      <td>16.5</td>\n",
       "      <td>50.0</td>\n",
       "      <td>50.0</td>\n",
       "      <td>45</td>\n",
       "      <td>...</td>\n",
       "      <td>1.0</td>\n",
       "      <td>1.0</td>\n",
       "      <td>1.0</td>\n",
       "      <td>1.0</td>\n",
       "      <td>1.0</td>\n",
       "      <td>1.0</td>\n",
       "      <td>1</td>\n",
       "      <td>2</td>\n",
       "      <td>2</td>\n",
       "      <td>0</td>\n",
       "    </tr>\n",
       "    <tr>\n",
       "      <th>148</th>\n",
       "      <td>149</td>\n",
       "      <td>Dragonite</td>\n",
       "      <td>2</td>\n",
       "      <td>dragon</td>\n",
       "      <td>flying</td>\n",
       "      <td>2.2</td>\n",
       "      <td>210.0</td>\n",
       "      <td>50.0</td>\n",
       "      <td>50.0</td>\n",
       "      <td>45</td>\n",
       "      <td>...</td>\n",
       "      <td>1.0</td>\n",
       "      <td>0.0</td>\n",
       "      <td>1.0</td>\n",
       "      <td>1.0</td>\n",
       "      <td>0.5</td>\n",
       "      <td>2.0</td>\n",
       "      <td>1</td>\n",
       "      <td>2</td>\n",
       "      <td>2</td>\n",
       "      <td>0</td>\n",
       "    </tr>\n",
       "    <tr>\n",
       "      <th>149</th>\n",
       "      <td>150</td>\n",
       "      <td>Mewtwo</td>\n",
       "      <td>1</td>\n",
       "      <td>psychic</td>\n",
       "      <td>none</td>\n",
       "      <td>2.0</td>\n",
       "      <td>122.0</td>\n",
       "      <td>0.0</td>\n",
       "      <td>0.0</td>\n",
       "      <td>3</td>\n",
       "      <td>...</td>\n",
       "      <td>1.0</td>\n",
       "      <td>1.0</td>\n",
       "      <td>1.0</td>\n",
       "      <td>0.5</td>\n",
       "      <td>2.0</td>\n",
       "      <td>1.0</td>\n",
       "      <td>0</td>\n",
       "      <td>1</td>\n",
       "      <td>0</td>\n",
       "      <td>1</td>\n",
       "    </tr>\n",
       "    <tr>\n",
       "      <th>150</th>\n",
       "      <td>151</td>\n",
       "      <td>Mew</td>\n",
       "      <td>1</td>\n",
       "      <td>psychic</td>\n",
       "      <td>none</td>\n",
       "      <td>0.4</td>\n",
       "      <td>4.0</td>\n",
       "      <td>0.0</td>\n",
       "      <td>0.0</td>\n",
       "      <td>45</td>\n",
       "      <td>...</td>\n",
       "      <td>1.0</td>\n",
       "      <td>1.0</td>\n",
       "      <td>1.0</td>\n",
       "      <td>0.5</td>\n",
       "      <td>2.0</td>\n",
       "      <td>1.0</td>\n",
       "      <td>0</td>\n",
       "      <td>1</td>\n",
       "      <td>0</td>\n",
       "      <td>1</td>\n",
       "    </tr>\n",
       "  </tbody>\n",
       "</table>\n",
       "<p>151 rows × 35 columns</p>\n",
       "</div>"
      ],
      "text/plain": [
       "     Number        Name  Types    Type1   Type2  Height(m)  Weight(kg)  \\\n",
       "0         1   Bulbasaur      2    grass  poison        0.7         6.9   \n",
       "1         2     Ivysaur      2    grass  poison        1.0        13.0   \n",
       "2         3    Venusaur      2    grass  poison        2.0       100.0   \n",
       "3         4  Charmander      1     fire    none        0.6         8.5   \n",
       "4         5  Charmeleon      1     fire    none        1.1        19.0   \n",
       "..      ...         ...    ...      ...     ...        ...         ...   \n",
       "146     147     Dratini      1   dragon    none        1.8         3.3   \n",
       "147     148   Dragonair      1   dragon    none        4.0        16.5   \n",
       "148     149   Dragonite      2   dragon  flying        2.2       210.0   \n",
       "149     150      Mewtwo      1  psychic    none        2.0       122.0   \n",
       "150     151         Mew      1  psychic    none        0.4         4.0   \n",
       "\n",
       "     Male_Pct  Female_Pct  Capt_Rate  ...  Poison_Dmg Ground_Dmg  Flying_Dmg  \\\n",
       "0        87.5        12.5         45  ...         1.0        1.0         2.0   \n",
       "1        87.5        12.5         45  ...         1.0        1.0         2.0   \n",
       "2        87.5        12.5         45  ...         1.0        1.0         2.0   \n",
       "3        87.5        12.5         45  ...         1.0        2.0         1.0   \n",
       "4        87.5        12.5         45  ...         1.0        2.0         1.0   \n",
       "..        ...         ...        ...  ...         ...        ...         ...   \n",
       "146      50.0        50.0         45  ...         1.0        1.0         1.0   \n",
       "147      50.0        50.0         45  ...         1.0        1.0         1.0   \n",
       "148      50.0        50.0         45  ...         1.0        0.0         1.0   \n",
       "149       0.0         0.0          3  ...         1.0        1.0         1.0   \n",
       "150       0.0         0.0         45  ...         1.0        1.0         1.0   \n",
       "\n",
       "     Psychic_Dmg  Bug_Dmg  Rock_Dmg  Ghost_Dmg  Dragon_Dmg  Evolutions  \\\n",
       "0            2.0      4.0       1.0          1           1           2   \n",
       "1            2.0      4.0       1.0          1           1           2   \n",
       "2            2.0      4.0       1.0          1           1           2   \n",
       "3            1.0      0.5       2.0          1           1           2   \n",
       "4            1.0      0.5       2.0          1           1           2   \n",
       "..           ...      ...       ...        ...         ...         ...   \n",
       "146          1.0      1.0       1.0          1           2           2   \n",
       "147          1.0      1.0       1.0          1           2           2   \n",
       "148          1.0      0.5       2.0          1           2           2   \n",
       "149          0.5      2.0       1.0          0           1           0   \n",
       "150          0.5      2.0       1.0          0           1           0   \n",
       "\n",
       "     Legendary  \n",
       "0            0  \n",
       "1            0  \n",
       "2            0  \n",
       "3            0  \n",
       "4            0  \n",
       "..         ...  \n",
       "146          0  \n",
       "147          0  \n",
       "148          0  \n",
       "149          1  \n",
       "150          1  \n",
       "\n",
       "[151 rows x 35 columns]"
      ]
     },
     "execution_count": 3,
     "metadata": {},
     "output_type": "execute_result"
    }
   ],
   "source": [
    "import pandas as pd\n",
    "df = pd.read_csv(\"pokemon.csv\")\n",
    "df"
   ]
  },
  {
   "cell_type": "markdown",
   "metadata": {},
   "source": [
    "### 🔬 Test Case Checkpoint 🔬"
   ]
  },
  {
   "cell_type": "code",
   "execution_count": 4,
   "metadata": {},
   "outputs": [
    {
     "name": "stdout",
     "output_type": "stream",
     "text": [
      "🎉 All tests passed! 🎉\n"
     ]
    }
   ],
   "source": [
    "## == CHECKPOINT TEST CASES ==\n",
    "# - This read-only cell contains test cases for your previous cell.\n",
    "# - If this cell runs without any errors, you PASSED all test cases!\n",
    "# - If this cell results in any errors, check your previous cell, make changes, and RE-RUN your code and then this cell.\n",
    "assert(len(df) == 151), \"This is not the dataset you're looking for. Check the URL.\"\n",
    "assert(\"df\" in vars()), \"Make sure your DataFrame is named df.\"\n",
    "assert(\"Dragon_Dmg\" in df), \"This is not the dataset you're looking for. Check the URL.\"\n",
    "\n",
    "## == SUCCESS MESSAGE ==\n",
    "# You will only see this message (with the emoji showing) if you passed all test cases:\n",
    "tada = \"\\N{PARTY POPPER}\"\n",
    "print(f\"{tada} All tests passed! {tada}\")"
   ]
  },
  {
   "cell_type": "markdown",
   "metadata": {},
   "source": [
    "## Puzzle 1.1: Water Types\n",
    "In the first Pokémon video game, the main objective is to beat gym leaders (experts in training a particular type of Pokémon) and obtain badges. Imagine you're pulling up to the Pewter City gym and want to beat Brock, the gym leader, to earn your first badge. Brock is an expert with rock-type Pokémon, and you know that water type Pokémon are effective against rock types. \n",
    "\n",
    "So, your main objective now is to **catch water type Pokémon**. \n",
    "\n",
    "Pokémon each have a **primary** and **secondary** type. In our DataFrame, `df`, we have these stored in the columns `Type1` (primary) and `Type2` (secondary).\n",
    "\n",
    "Using the cell below, find the **number** of Pokémon whose **primary type** is water,  storing the **number of water pokemon** into the **integer** variable `waters`: "
   ]
  },
  {
   "cell_type": "code",
   "execution_count": 5,
   "metadata": {},
   "outputs": [
    {
     "data": {
      "text/plain": [
       "28"
      ]
     },
     "execution_count": 5,
     "metadata": {},
     "output_type": "execute_result"
    }
   ],
   "source": [
    "waters = len(df[df.Type1 == \"water\"])\n",
    "waters"
   ]
  },
  {
   "cell_type": "markdown",
   "metadata": {},
   "source": [
    "Find the **probability** of catching a primary water-type Pokémon in a **single catch** using `waters`. You can assume it is **equally likely** to catch **any** of the Pokémon in the dataset. Store this value in the variable `prob_water`:"
   ]
  },
  {
   "cell_type": "code",
   "execution_count": 6,
   "metadata": {},
   "outputs": [
    {
     "data": {
      "text/plain": [
       "0.18543046357615894"
      ]
     },
     "execution_count": 6,
     "metadata": {},
     "output_type": "execute_result"
    }
   ],
   "source": [
    "prob_water = waters/len(df)\n",
    "prob_water"
   ]
  },
  {
   "cell_type": "markdown",
   "metadata": {},
   "source": [
    "Find the **probability** of catching two water-type Pokémon. You can assume it is **equally likely** to catch **any** of the Pokémon in the dataset and that you are drawing **with** replacement. Store this value in the variable `prob_two_waters`:"
   ]
  },
  {
   "cell_type": "code",
   "execution_count": 9,
   "metadata": {},
   "outputs": [
    {
     "data": {
      "text/plain": [
       "0.03438445682206921"
      ]
     },
     "execution_count": 9,
     "metadata": {},
     "output_type": "execute_result"
    }
   ],
   "source": [
    "prob_two_waters = prob_water**2\n",
    "prob_two_waters"
   ]
  },
  {
   "cell_type": "markdown",
   "metadata": {},
   "source": [
    "### 🔬 Test Case Checkpoint 🔬"
   ]
  },
  {
   "cell_type": "code",
   "execution_count": 10,
   "metadata": {},
   "outputs": [
    {
     "name": "stdout",
     "output_type": "stream",
     "text": [
      "🎉 All tests passed! 🎉\n"
     ]
    }
   ],
   "source": [
    "## == CHECKPOINT TEST CASES ==\n",
    "# - This read-only cell contains test cases for your previous cell.\n",
    "# - If this cell runs without any errors, you PASSED all test cases!\n",
    "# - If this cell results in any errors, check your previous cell, make changes, and RE-RUN your code and then this cell.\n",
    "import math\n",
    "assert( \"waters\" in vars() and \"prob_water\" in vars() ), \"Double check your variable names. They should be 'waters' and 'prob_water'.\"\n",
    "assert( waters**4 == 153664 * 4 ), \"Your value for the number of primary water-types is incorrect.\"\n",
    "assert( math.isclose(prob_water, 0.18543046357615894) ), \"Your probability of catching a water type is incorrect.\"\n",
    "assert( math.isclose(prob_two_waters, 0.03438445682206921) ), \"Your probability of catching two water types in a row is incorrect. Think about how to calculate probability of compound events.\" \n",
    "\n",
    "## == SUCCESS MESSAGE ==\n",
    "# You will only see this message (with the emoji showing) if you passed all test cases:\n",
    "tada = \"\\N{PARTY POPPER}\"\n",
    "print(f\"{tada} All tests passed! {tada}\")"
   ]
  },
  {
   "cell_type": "markdown",
   "metadata": {},
   "source": [
    "This probability wasn't so difficult to find, but the math becomes **much more complex** if you consider that you're going to catch **multiple pokemon** without replacement. This is why you'll write a **function** that **simulates** the number of water-type Pokémon being caught. "
   ]
  },
  {
   "cell_type": "markdown",
   "metadata": {},
   "source": [
    "## Puzzle 1.2: Catching 10 Pokémon\n",
    "\n",
    "\n",
    "You think you'll be ready to face the first gym after catching **ten Pokémon**. But you want to know how many water types you'll have. \n",
    "\n",
    "In the following cell, define a **function** `catch10` that will `return` the **number of Water Pokémon caught** after catching **ten Pokémon** with **replacement**. \n",
    "\n",
    "\n",
    "(*Hint*: In previous assignments, we have used `df.sample(n = 10)` in order to randomly select 10 rows from a DataFrame. But `df.sample(n = 10)` samples without replacement. Now that we want to sample 10 rows from the original DataFrame `df` with replacement, we can write `df.sample(n = 10, replace = True)` ).\n"
   ]
  },
  {
   "cell_type": "code",
   "execution_count": 11,
   "metadata": {},
   "outputs": [],
   "source": [
    "def catch10():\n",
    "    df_catch = df.sample(n=10, replace=True)\n",
    "    return len(df_catch[df_catch.Type1 == \"water\"])"
   ]
  },
  {
   "cell_type": "markdown",
   "metadata": {},
   "source": [
    "### 🔬 Test Case Checkpoint 🔬"
   ]
  },
  {
   "cell_type": "code",
   "execution_count": 12,
   "metadata": {},
   "outputs": [
    {
     "name": "stdout",
     "output_type": "stream",
     "text": [
      "🎉 All tests passed! 🎉\n",
      "\n"
     ]
    }
   ],
   "source": [
    "## == CHECKPOINT TEST CASES ==\n",
    "# - This read-only cell contains test cases for your previous cell.\n",
    "# - If this cell runs without any errors, you PASSED all test cases!\n",
    "# - If this cell results in any errors, check your previous cell, make changes, and RE-RUN your code and then this cell.\n",
    "functions_list = [f.__name__ for f in globals().values() if type(f) == type(lambda *args: None)]\n",
    "assert(\"catch10\" in functions_list), \"Ensure your function is named catch10().\"\n",
    "has1, has2, has3 = False, False, False\n",
    "for i in range(1000):\n",
    "    caught = catch10()\n",
    "    assert(caught <= 10 and caught >= 0), \"Double check the values you're returning in your catch10() function.\"\n",
    "    if caught == 1: has1 = True\n",
    "    elif caught == 2: has2 = True\n",
    "    elif caught == 3: has3 = True \n",
    "assert(has1 == True), \"Double check the values you're returning in your catch10() function.\"\n",
    "assert(has2 == True), \"Double check the values you're returning in your catch10() function.\"\n",
    "assert(has3 == True), \"Double check the values you're returning in your catch10() function.\"\n",
    "\n",
    "## == SUCCESS MESSAGE ==\n",
    "# You will only see this message (with the emoji showing) if you passed all test cases:\n",
    "tada = \"\\N{PARTY POPPER}\"\n",
    "print(f\"{tada} All tests passed! {tada}\")\n",
    "print()"
   ]
  },
  {
   "cell_type": "markdown",
   "metadata": {},
   "source": [
    "## Puzzle 1.3: Simulation\n",
    "Now, using your `catch10` function from above, **write a simulation** to simulate the number of water Pokémon caught if you were to **repeat** these ten catches **1,000 times**.\n",
    "\n",
    "Store your results in a DataFrame `df_water` with a column named `number_of_water`."
   ]
  },
  {
   "cell_type": "code",
   "execution_count": 13,
   "metadata": {},
   "outputs": [],
   "source": [
    "data = []\n",
    "for i in range(1000):\n",
    "    d = {\"number_of_water\": catch10()}\n",
    "    data.append(d)\n",
    "df_water = pd.DataFrame(data)"
   ]
  },
  {
   "cell_type": "code",
   "execution_count": 14,
   "metadata": {},
   "outputs": [
    {
     "data": {
      "text/html": [
       "<div>\n",
       "<style scoped>\n",
       "    .dataframe tbody tr th:only-of-type {\n",
       "        vertical-align: middle;\n",
       "    }\n",
       "\n",
       "    .dataframe tbody tr th {\n",
       "        vertical-align: top;\n",
       "    }\n",
       "\n",
       "    .dataframe thead th {\n",
       "        text-align: right;\n",
       "    }\n",
       "</style>\n",
       "<table border=\"1\" class=\"dataframe\">\n",
       "  <thead>\n",
       "    <tr style=\"text-align: right;\">\n",
       "      <th></th>\n",
       "      <th>number_of_water</th>\n",
       "    </tr>\n",
       "  </thead>\n",
       "  <tbody>\n",
       "    <tr>\n",
       "      <th>467</th>\n",
       "      <td>3</td>\n",
       "    </tr>\n",
       "    <tr>\n",
       "      <th>895</th>\n",
       "      <td>2</td>\n",
       "    </tr>\n",
       "    <tr>\n",
       "      <th>638</th>\n",
       "      <td>2</td>\n",
       "    </tr>\n",
       "    <tr>\n",
       "      <th>256</th>\n",
       "      <td>2</td>\n",
       "    </tr>\n",
       "    <tr>\n",
       "      <th>680</th>\n",
       "      <td>1</td>\n",
       "    </tr>\n",
       "  </tbody>\n",
       "</table>\n",
       "</div>"
      ],
      "text/plain": [
       "     number_of_water\n",
       "467                3\n",
       "895                2\n",
       "638                2\n",
       "256                2\n",
       "680                1"
      ]
     },
     "execution_count": 14,
     "metadata": {},
     "output_type": "execute_result"
    }
   ],
   "source": [
    "# check to see if your DataFrame looks correct by sampling 5 random rows from your df_water\n",
    "df_water.sample(n=5)"
   ]
  },
  {
   "cell_type": "markdown",
   "metadata": {},
   "source": [
    "### Analysis: Random Variable\n",
    "\n",
    "Think about the simulation we just ran and answer the following questions:\n",
    "\n",
    "- What is the random experiment corresponding to the simulation?\n",
    "- What is the sample space corresponding to the random experiment?\n",
    "- What is the random variable that we defined?\n",
    "- What is the domain of the random variable?\n",
    " "
   ]
  },
  {
   "cell_type": "markdown",
   "metadata": {},
   "source": [
    "The random experiment is the number of waters caught. The sample space is [0,10]. The random variable is number_of_water. The domain of the random variable is [0,10]."
   ]
  },
  {
   "cell_type": "markdown",
   "metadata": {},
   "source": [
    "### 🔬 Test Case Checkpoint 🔬"
   ]
  },
  {
   "cell_type": "code",
   "execution_count": 15,
   "metadata": {
    "collapsed": true
   },
   "outputs": [
    {
     "name": "stdout",
     "output_type": "stream",
     "text": [
      "🎉 All tests passed! 🎉\n",
      "\n"
     ]
    }
   ],
   "source": [
    "## == CHECKPOINT TEST CASES ==\n",
    "# - This read-only cell contains test cases for your previous cell.\n",
    "# - If this cell runs without any errors, you PASSED all test cases!\n",
    "# - If this cell results in any errors, check your previous cell, make changes, and RE-RUN your code and then this cell.\n",
    "assert( \"df_water\" in vars() ), \"Ensure your DataFrame for simulation results is named 'df_water'.\"\n",
    "assert( len(df_water) == 1000 ), \"Your simulation must have 1,000 observations.\"\n",
    "assert( 'number_of_water' in df_water ), \"Your simulation must have a column called `number_of_water`.\"\n",
    "assert( math.isclose(df_water['number_of_water'].mean(), 1.85, abs_tol= 0.1) ), \"Your simulation should have a mean value around 1.85. You may want to check if your Puzzle 1.2 function is correct.\"\n",
    "\n",
    "## == SUCCESS MESSAGE ==\n",
    "# You will only see this message (with the emoji showing) if you passed all test cases:\n",
    "tada = \"\\N{PARTY POPPER}\"\n",
    "print(f\"{tada} All tests passed! {tada}\")\n",
    "print()"
   ]
  },
  {
   "cell_type": "markdown",
   "metadata": {},
   "source": [
    "## Puzzle 1.4: Histogram \n",
    "\n",
    "Let's visualize our simulation results!\n",
    "\n",
    "Use the `hist()` method to create a **frequency histogram** showing the number of water Pokémon caught in these ten catches. \n",
    "\n",
    "To make it look better, play with the number of bins by modifying the `bins` parameter in `df.hist(bins=...)`."
   ]
  },
  {
   "cell_type": "code",
   "execution_count": 18,
   "metadata": {},
   "outputs": [
    {
     "data": {
      "text/plain": [
       "array([[<Axes: title={'center': 'number_of_water'}>]], dtype=object)"
      ]
     },
     "execution_count": 18,
     "metadata": {},
     "output_type": "execute_result"
    },
    {
     "data": {
      "image/png": "[encoded data removed]",
      "text/plain": [
       "<Figure size 640x480 with 1 Axes>"
      ]
     },
     "metadata": {},
     "output_type": "display_data"
    }
   ],
   "source": [
    "df_water.hist(bins=50)\n",
    "\n"
   ]
  },
  {
   "cell_type": "markdown",
   "metadata": {},
   "source": [
    "### Analysis: Expected Value\n",
    "\n",
    "**Q2: What do you estimate to be the expected value for the number of water Pokémon caught in the first ten catches?**\n",
    "\n",
    "Note: No need to use Python for this. Estimate using your Histogram. "
   ]
  },
  {
   "cell_type": "markdown",
   "metadata": {},
   "source": [
    "1.5"
   ]
  },
  {
   "cell_type": "markdown",
   "metadata": {},
   "source": [
    "<hr style=\"color: #DD3403;\">"
   ]
  },
  {
   "cell_type": "markdown",
   "metadata": {},
   "source": [
    "# Part 2: Secondary Types\n",
    "\n",
    "###  Recap: Bernoulli Random Variables \n",
    "Remember from lecture that Bernoulli random variables come from an event with **two possible outcomes** that have **fixed probabilities**. They follow a **binomial distribution**. More information on this can be found at https://discovery.cs.illinois.edu/learn/Polling-Confidence-Intervals-and-Hypothesis-Testing/Bernoulli--Binomial-Random-Variables/. \n",
    "\n",
    "## Puzzle 2.1: Second Type Probability\n",
    "\n",
    "Recall from earlier that Pokémon each have a **primary** and **secondary** type. In our DataFrame, `df`, we have these stored in the columns `Type1` (primary) and `Type2` (secondary).\n",
    "\n",
    "An example of a Bernoulli variable can be whether or not a Pokemon has a **secondary type**. \n",
    "\n",
    "Using Python below, find the **number** of Gen. One Pokémon that **do not** have a secondary type, storing the result in the variable `no_secondary`. Note that when a Pokémon **does not** have a secondary type, the **value** in the `Type2` column of `df` is 'none'."
   ]
  },
  {
   "cell_type": "code",
   "execution_count": 21,
   "metadata": {},
   "outputs": [
    {
     "data": {
      "text/plain": [
       "89"
      ]
     },
     "execution_count": 21,
     "metadata": {},
     "output_type": "execute_result"
    }
   ],
   "source": [
    "no_secondary = len(df[df.Type2 == \"none\"])\n",
    "no_secondary"
   ]
  },
  {
   "cell_type": "markdown",
   "metadata": {},
   "source": [
    "Now, calculate the probability of any random Pokémon **having** a **secondary type**, storing the result in a variable `prob_secondary`:"
   ]
  },
  {
   "cell_type": "code",
   "execution_count": 22,
   "metadata": {},
   "outputs": [
    {
     "data": {
      "text/plain": [
       "0.4105960264900662"
      ]
     },
     "execution_count": 22,
     "metadata": {},
     "output_type": "execute_result"
    }
   ],
   "source": [
    "prob_secondary = 1 - no_secondary/len(df)\n",
    "prob_secondary"
   ]
  },
  {
   "cell_type": "markdown",
   "metadata": {},
   "source": [
    "### 🔬 Test Case Checkpoint 🔬"
   ]
  },
  {
   "cell_type": "code",
   "execution_count": 23,
   "metadata": {},
   "outputs": [
    {
     "name": "stdout",
     "output_type": "stream",
     "text": [
      "🎉 All tests passed! 🎉\n"
     ]
    }
   ],
   "source": [
    "## == CHECKPOINT TEST CASES ==\n",
    "# - This read-only cell contains test cases for your previous cell.\n",
    "# - If this cell runs without any errors, you PASSED all test cases!\n",
    "# - If this cell results in any errors, check your previous cell, make changes, and RE-RUN your code and then this cell.\n",
    "assert( \"no_secondary\" in vars() and \"prob_secondary\" in vars() ), \"Double check your variable names. They should be 'no_secondary' and 'prob_secondary'.\"\n",
    "assert( no_secondary**3 / 4 == 176242.25 ), \"Your value for the number of Pokemon without a secondary type is incorrect.\"\n",
    "assert( math.isclose(prob_secondary, 0.4105960264900662) ), \"Your probability of a Pokemon having a secondary type is incorrect.\"\n",
    "\n",
    "## == SUCCESS MESSAGE ==\n",
    "# You will only see this message (with the emoji showing) if you passed all test cases:\n",
    "tada = \"\\N{PARTY POPPER}\"\n",
    "print(f\"{tada} All tests passed! {tada}\")"
   ]
  },
  {
   "cell_type": "markdown",
   "metadata": {},
   "source": [
    "## Puzzle 2.2: Calculating Expected Value\n",
    "\n",
    "Refresh your memory on:\n",
    "- Bernoulli Random Variables\n",
    "- Binomial Random Variables\n",
    "\n",
    "\n",
    "following this link: \n",
    "https://discovery.cs.illinois.edu/learn/Polling-Confidence-Intervals-and-Hypothesis-Testing/Bernoulli--Binomial-Random-Variables/\n",
    "\n",
    "Q: Using the things you learned in lecture, answer to the following questions: \n",
    "\n",
    "Assume that we catch **5** pokemon independently at random  and we count **how many of them have a secondary type**.\n",
    "\n",
    "\n",
    "- How many independent Bernoulli Variables do we have in our example? What do we consider as \"success\" for each Bernoulli variable?\n",
    "- What is the probability of success of the Bernoulli random variables?\n",
    "- What is the Binomial distribution in our example?\n",
    "- What are the parameters of the binomial distribution in this example? \n"
   ]
  },
  {
   "cell_type": "markdown",
   "metadata": {},
   "source": [
    "5 bernoulli variables. A success is a pokemon that has a second type. The probability of success is prob_secondary. The binomial distribution is p=prob_secondary, n=5."
   ]
  },
  {
   "cell_type": "markdown",
   "metadata": {},
   "source": [
    "Conveniently, we can easily calculate the **Expected Value** for Binomial Random Variables. For all binomial distributions $B(n, p)$ where $n$ is the number of trials and $p$ is the probability of success:\n",
    "\n",
    "$EV = np$\n",
    "\n",
    "Using your probability of success `prob_secondary` and the formula above, find the **expected value** for the number of Pokémon that **will have a secondary type** after $n = 5$ catches, storing the result in `secondary_ev`:"
   ]
  },
  {
   "cell_type": "code",
   "execution_count": 24,
   "metadata": {},
   "outputs": [
    {
     "data": {
      "text/plain": [
       "2.052980132450331"
      ]
     },
     "execution_count": 24,
     "metadata": {},
     "output_type": "execute_result"
    }
   ],
   "source": [
    "secondary_ev = 5*prob_secondary\n",
    "secondary_ev"
   ]
  },
  {
   "cell_type": "markdown",
   "metadata": {},
   "source": [
    "### 🔬 Test Case Checkpoint 🔬"
   ]
  },
  {
   "cell_type": "code",
   "execution_count": 25,
   "metadata": {},
   "outputs": [
    {
     "name": "stdout",
     "output_type": "stream",
     "text": [
      "🎉 All tests passed! 🎉\n"
     ]
    }
   ],
   "source": [
    "## == CHECKPOINT TEST CASES ==\n",
    "# - This read-only cell contains test cases for your previous cell.\n",
    "# - If this cell runs without any errors, you PASSED all test cases!\n",
    "# - If this cell results in any errors, check your previous cell, make changes, and RE-RUN your code and then this cell.\n",
    "assert( math.isclose(secondary_ev, 2.052980132450331) ), \"Your expected value is incorrect.\"\n",
    "\n",
    "## == SUCCESS MESSAGE ==\n",
    "# You will only see this message (with the emoji showing) if you passed all test cases:\n",
    "tada = \"\\N{PARTY POPPER}\"\n",
    "print(f\"{tada} All tests passed! {tada}\")"
   ]
  },
  {
   "cell_type": "markdown",
   "metadata": {},
   "source": [
    "## Puzzle 2.3: The Secondary Function\n",
    "\n",
    "Now, define a function named `catch5()` that will `return` the **number of Pokémon with a secondary type** caught after **five catches with replacement**. \n",
    "\n",
    "Remember that checking for inequality is done using the `!=` operator. "
   ]
  },
  {
   "cell_type": "code",
   "execution_count": 26,
   "metadata": {},
   "outputs": [],
   "source": [
    "def catch5():\n",
    "    sample = df.sample(n=5, replace=True)\n",
    "    return len(sample[sample.Type2 != \"none\"])\n"
   ]
  },
  {
   "cell_type": "markdown",
   "metadata": {},
   "source": [
    "### 🔬 Test Case Checkpoint 🔬"
   ]
  },
  {
   "cell_type": "code",
   "execution_count": 27,
   "metadata": {},
   "outputs": [
    {
     "name": "stdout",
     "output_type": "stream",
     "text": [
      "🎉 All tests passed! 🎉\n",
      "\n"
     ]
    }
   ],
   "source": [
    "## == CHECKPOINT TEST CASES ==\n",
    "# - This read-only cell contains test cases for your previous cell.\n",
    "# - If this cell runs without any errors, you PASSED all test cases!\n",
    "# - If this cell results in any errors, check your previous cell, make changes, and RE-RUN your code and then this cell.\n",
    "functions_list = [f.__name__ for f in globals().values() if type(f) == type(lambda *args: None)]\n",
    "assert(\"catch5\" in functions_list), \"Ensure your function is named catch5().\"\n",
    "has1, has2, has3 = False, False, False\n",
    "for i in range(1000):\n",
    "    caught = catch5()\n",
    "    assert(caught <= 5 and caught >= 0), \"Double check the values you're returning in your catch5() function.\"\n",
    "    if caught == 1: has1 = True\n",
    "    elif caught == 2: has2 = True\n",
    "    elif caught == 3: has3 = True \n",
    "assert(has1 == True), \"Double check the values you're returning in your catch5() function.\"\n",
    "assert(has2 == True), \"Double check the values you're returning in your catch5() function.\"\n",
    "assert(has3 == True), \"Double check the values you're returning in your catch5() function.\"\n",
    "\n",
    "## == SUCCESS MESSAGE ==\n",
    "# You will only see this message (with the emoji showing) if you passed all test cases:\n",
    "tada = \"\\N{PARTY POPPER}\"\n",
    "print(f\"{tada} All tests passed! {tada}\")\n",
    "print()"
   ]
  },
  {
   "cell_type": "markdown",
   "metadata": {},
   "source": [
    "## Puzzle 2.4: Simulation, Again\n",
    "Using a similar format to your solution for Puzzle 1.3, simulate the **number of Pokémon with a secondary type** caught if you were to repeat five catches **1000 times**.\n",
    "\n",
    "Store your results in a DataFrame `df_secondary` with a column named `secondary`."
   ]
  },
  {
   "cell_type": "code",
   "execution_count": 29,
   "metadata": {},
   "outputs": [
    {
     "data": {
      "text/html": [
       "<div>\n",
       "<style scoped>\n",
       "    .dataframe tbody tr th:only-of-type {\n",
       "        vertical-align: middle;\n",
       "    }\n",
       "\n",
       "    .dataframe tbody tr th {\n",
       "        vertical-align: top;\n",
       "    }\n",
       "\n",
       "    .dataframe thead th {\n",
       "        text-align: right;\n",
       "    }\n",
       "</style>\n",
       "<table border=\"1\" class=\"dataframe\">\n",
       "  <thead>\n",
       "    <tr style=\"text-align: right;\">\n",
       "      <th></th>\n",
       "      <th>secondary</th>\n",
       "    </tr>\n",
       "  </thead>\n",
       "  <tbody>\n",
       "    <tr>\n",
       "      <th>0</th>\n",
       "      <td>2</td>\n",
       "    </tr>\n",
       "    <tr>\n",
       "      <th>1</th>\n",
       "      <td>3</td>\n",
       "    </tr>\n",
       "    <tr>\n",
       "      <th>2</th>\n",
       "      <td>2</td>\n",
       "    </tr>\n",
       "    <tr>\n",
       "      <th>3</th>\n",
       "      <td>2</td>\n",
       "    </tr>\n",
       "    <tr>\n",
       "      <th>4</th>\n",
       "      <td>1</td>\n",
       "    </tr>\n",
       "    <tr>\n",
       "      <th>...</th>\n",
       "      <td>...</td>\n",
       "    </tr>\n",
       "    <tr>\n",
       "      <th>995</th>\n",
       "      <td>2</td>\n",
       "    </tr>\n",
       "    <tr>\n",
       "      <th>996</th>\n",
       "      <td>2</td>\n",
       "    </tr>\n",
       "    <tr>\n",
       "      <th>997</th>\n",
       "      <td>3</td>\n",
       "    </tr>\n",
       "    <tr>\n",
       "      <th>998</th>\n",
       "      <td>2</td>\n",
       "    </tr>\n",
       "    <tr>\n",
       "      <th>999</th>\n",
       "      <td>2</td>\n",
       "    </tr>\n",
       "  </tbody>\n",
       "</table>\n",
       "<p>1000 rows × 1 columns</p>\n",
       "</div>"
      ],
      "text/plain": [
       "     secondary\n",
       "0            2\n",
       "1            3\n",
       "2            2\n",
       "3            2\n",
       "4            1\n",
       "..         ...\n",
       "995          2\n",
       "996          2\n",
       "997          3\n",
       "998          2\n",
       "999          2\n",
       "\n",
       "[1000 rows x 1 columns]"
      ]
     },
     "execution_count": 29,
     "metadata": {},
     "output_type": "execute_result"
    }
   ],
   "source": [
    "data = []\n",
    "for i in range(1000):\n",
    "    d = {\"secondary\": catch5()}\n",
    "    data.append(d)\n",
    "df_secondary = pd.DataFrame(data)\n",
    "df_secondary"
   ]
  },
  {
   "cell_type": "markdown",
   "metadata": {},
   "source": [
    "Find the mean of the column named `secondary` in the cell below: "
   ]
  },
  {
   "cell_type": "code",
   "execution_count": 30,
   "metadata": {},
   "outputs": [
    {
     "data": {
      "text/plain": [
       "2.031"
      ]
     },
     "execution_count": 30,
     "metadata": {},
     "output_type": "execute_result"
    }
   ],
   "source": [
    "df_secondary.secondary.mean()"
   ]
  },
  {
   "cell_type": "markdown",
   "metadata": {},
   "source": [
    "### 🔬 Test Case Checkpoint 🔬"
   ]
  },
  {
   "cell_type": "code",
   "execution_count": 31,
   "metadata": {},
   "outputs": [
    {
     "name": "stdout",
     "output_type": "stream",
     "text": [
      "🎉 All tests passed! 🎉\n",
      "\n"
     ]
    }
   ],
   "source": [
    "## == CHECKPOINT TEST CASES ==\n",
    "# - This read-only cell contains test cases for your previous cell.\n",
    "# - If this cell runs without any errors, you PASSED all test cases!\n",
    "# - If this cell results in any errors, check your previous cell, make changes, and RE-RUN your code and then this cell.\n",
    "assert( \"df_secondary\" in vars() ), \"Ensure your DataFrame for simulation results is named 'df_secondary'.\"\n",
    "assert( len(df_secondary) == 1000 ), \"Your simulation must have 1,000 observations.\"\n",
    "assert( 'secondary' in df_secondary ), \"Your simulation must have a column called `secondary`.\"\n",
    "assert( math.isclose(df_secondary['secondary'].mean(), 2.05, abs_tol= 0.1) ), \"Your simulation should have a mean value close to the EV. Double check your catch5() function.\"\n",
    "\n",
    "## == SUCCESS MESSAGE ==\n",
    "# You will only see this message (with the emoji showing) if you passed all test cases:\n",
    "tada = \"\\N{PARTY POPPER}\"\n",
    "print(f\"{tada} All tests passed! {tada}\")\n",
    "print()"
   ]
  },
  {
   "cell_type": "markdown",
   "metadata": {},
   "source": [
    "## Puzzle 2.5: Histogram, Again\n",
    "\n",
    "Let's visualize our simulation results again!\n",
    "\n",
    "Use the `hist()` method to create a **probability histogram** showing the number of Pokémon caught with secondary types after five catches. \n",
    "\n",
    "To make it look great, play with the number of bins by modifying the `bins` parameter in `df.hist(bins=...)`."
   ]
  },
  {
   "cell_type": "code",
   "execution_count": 32,
   "metadata": {},
   "outputs": [
    {
     "data": {
      "text/plain": [
       "array([[<Axes: title={'center': 'secondary'}>]], dtype=object)"
      ]
     },
     "execution_count": 32,
     "metadata": {},
     "output_type": "execute_result"
    },
    {
     "data": {
      "image/png": "[encoded data removed]",
      "text/plain": [
       "<Figure size 640x480 with 1 Axes>"
      ]
     },
     "metadata": {},
     "output_type": "display_data"
    }
   ],
   "source": [
    "df_secondary.hist()"
   ]
  },
  {
   "cell_type": "markdown",
   "metadata": {},
   "source": [
    "### Analysis: Calculation vs. Simulation\n",
    "\n",
    "**Q3: Observe your histogram above. Does the simulated expected value of Pokemon with secondary types match with your calculation from Puzzle 2.2? How do you know?**"
   ]
  },
  {
   "cell_type": "markdown",
   "metadata": {},
   "source": [
    "Yes, the EV and mean are very close."
   ]
  },
  {
   "cell_type": "markdown",
   "metadata": {},
   "source": [
    "<hr style=\"color: #DD3403;\">"
   ]
  },
  {
   "cell_type": "markdown",
   "metadata": {},
   "source": [
    "# Part 3: Pokémon Stats and the Central Limit Theorem\n",
    "\n",
    "You're an experienced Pokémon trainer now and would like to conduct some analysis on the given statistics of Pokémon.  \n",
    "\n",
    "In this puzzle, we will observe the **Central Limit Theorem** in action through repeatedly catching Pokémon and observing their statistics. \n",
    "\n",
    "For context, our Pokémon dataset includes some vital statistics about Pokémon, such as their Health, in column `HP`."
   ]
  },
  {
   "cell_type": "markdown",
   "metadata": {},
   "source": [
    "## Puzzle 3.1: Catch_Average Function\n",
    "First, define a function `catch_average` that will simulate catching `n` Pokémon at random, without replacement. \n",
    "\n",
    "This function will `return` the **average value** of the `column` statistic for these `n` Pokémon. \n",
    "\n",
    "For example, the `column` may be `HP`. In this case, your function should return the average `HP` for the `n` Pokémon caught.\n",
    "\n",
    "A few pointers:\n",
    "- This function takes **two parameters**, `column` and `n`. These values are **passed** to the function.\n",
    "- The `.mean()` function may prove useful.\n",
    "- **DO NOT** overthink the solution. Your function shouldn't be more than a few lines long at most. "
   ]
  },
  {
   "cell_type": "code",
   "execution_count": 35,
   "metadata": {},
   "outputs": [],
   "source": [
    "# Write your catch_average function: \n",
    "def catch_average(column, n):\n",
    "    df_catch = df.sample(n=n)\n",
    "    return df_catch[column].mean()"
   ]
  },
  {
   "cell_type": "markdown",
   "metadata": {},
   "source": [
    "### 🔬 Test Case Checkpoint 🔬"
   ]
  },
  {
   "cell_type": "code",
   "execution_count": 36,
   "metadata": {},
   "outputs": [
    {
     "name": "stdout",
     "output_type": "stream",
     "text": [
      "🎉 All tests passed! 🎉\n",
      "\n"
     ]
    }
   ],
   "source": [
    "## == CHECKPOINT TEST CASES ==\n",
    "# - This read-only cell contains test cases for your previous cell.\n",
    "# - If this cell runs without any errors, you PASSED all test cases!\n",
    "# - If this cell results in any errors, check your previous cell, make changes, and RE-RUN your code and then this cell.\n",
    "import math \n",
    "assert( catch_average(\"Number\", 151) == 76 ), \"Your catch_average function is not correctly defined.\"\n",
    "assert( math.isclose(catch_average('HP', 151), 64.21192052980132)), \"Your catch_average function is not correctly defined.\"\n",
    "\n",
    "## == SUCCESS MESSAGE ==\n",
    "# You will only see this message (with the emoji showing) if you passed all test cases:\n",
    "tada = \"\\N{PARTY POPPER}\"\n",
    "print(f\"{tada} All tests passed! {tada}\")\n",
    "print()"
   ]
  },
  {
   "cell_type": "markdown",
   "metadata": {},
   "source": [
    "### The Distribution of HP\n",
    "\n",
    "Observe the **distribution** of the `HP` column our  DataFrame by running `df.hist()` on the `HP` column."
   ]
  },
  {
   "cell_type": "code",
   "execution_count": 38,
   "metadata": {},
   "outputs": [
    {
     "data": {
      "text/plain": [
       "<Axes: >"
      ]
     },
     "execution_count": 38,
     "metadata": {},
     "output_type": "execute_result"
    },
    {
     "data": {
      "image/png": "[encoded data removed]",
      "text/plain": [
       "<Figure size 640x480 with 1 Axes>"
      ]
     },
     "metadata": {},
     "output_type": "display_data"
    }
   ],
   "source": [
    "df.HP.hist(bins=50)"
   ]
  },
  {
   "cell_type": "markdown",
   "metadata": {},
   "source": [
    "As we can see, this distribution is **far from normal**. This makes sense: Pokémon have varying HP. Keep this in mind as we move forward."
   ]
  },
  {
   "cell_type": "markdown",
   "metadata": {},
   "source": [
    "## Puzzle 3.2: Catch 5\n",
    "#### This puzzle and the next few consist of **multiple steps**. *Read carefully*.\n",
    "\n",
    "Use your `catch_average` function, simulate **1000 instances** of **catching 5 Pokémon** and calculating the average of the `HP` column.\n",
    "\n",
    "In other words, pass the values of **\"HP\"** and **5** to `catch_average`, in that order. \n",
    "\n",
    "Store the results in a DataFrame `df_5` with the column name `avg_hp`. \n",
    "\n",
    "Finally, generate a **histogram** of your `df_5` with **20 bins**. "
   ]
  },
  {
   "cell_type": "code",
   "execution_count": 40,
   "metadata": {},
   "outputs": [
    {
     "data": {
      "text/plain": [
       "array([[<Axes: title={'center': 'avg_hp'}>]], dtype=object)"
      ]
     },
     "execution_count": 40,
     "metadata": {},
     "output_type": "execute_result"
    },
    {
     "data": {
      "image/png": "[encoded data removed]",
      "text/plain": [
       "<Figure size 640x480 with 1 Axes>"
      ]
     },
     "metadata": {},
     "output_type": "display_data"
    }
   ],
   "source": [
    "data = []\n",
    "for i in range(1000):\n",
    "    d = {\"avg_hp\": catch_average(\"HP\", 5)}\n",
    "    data.append(d)\n",
    "df_5 = pd.DataFrame(data)\n",
    "df_5.hist(bins=50)"
   ]
  },
  {
   "cell_type": "markdown",
   "metadata": {},
   "source": [
    "## Puzzle 3.3: Catch 10\n",
    "\n",
    "Use your `catch_average` function, simulate **1000 instances** of **catching 10 Pokémon** calculating the average of the `HP` column.\n",
    "\n",
    "Store the results in a DataFrame `df_10` with the column name `avg_hp`. \n",
    "\n",
    "Finally, generate a **histogram** of your `df_10` with **10 bins**. "
   ]
  },
  {
   "cell_type": "code",
   "execution_count": 41,
   "metadata": {},
   "outputs": [
    {
     "data": {
      "text/plain": [
       "array([[<Axes: title={'center': 'avg_hp'}>]], dtype=object)"
      ]
     },
     "execution_count": 41,
     "metadata": {},
     "output_type": "execute_result"
    },
    {
     "data": {
      "image/png": "[encoded data removed]",
      "text/plain": [
       "<Figure size 640x480 with 1 Axes>"
      ]
     },
     "metadata": {},
     "output_type": "display_data"
    }
   ],
   "source": [
    "data = []\n",
    "for i in range(1000):\n",
    "    d = {\"avg_hp\": catch_average(\"HP\", 10)}\n",
    "    data.append(d)\n",
    "df_10 = pd.DataFrame(data)\n",
    "df_10.hist(bins=50)"
   ]
  },
  {
   "cell_type": "markdown",
   "metadata": {},
   "source": [
    "## Puzzle 3.4: Catch 50\n",
    "Use your `catch_average` function, simulate **1000 instances** of **catching 50 Pokémon** calculating the average of the `HP` column.\n",
    "\n",
    "Store the results in a DataFrame `df_50` with the column name `avg_hp`. \n",
    "\n",
    "Finally, generate a **histogram** of your `df_50` with **10 bins**. "
   ]
  },
  {
   "cell_type": "code",
   "execution_count": 42,
   "metadata": {},
   "outputs": [
    {
     "data": {
      "text/plain": [
       "array([[<Axes: title={'center': 'avg_hp'}>]], dtype=object)"
      ]
     },
     "execution_count": 42,
     "metadata": {},
     "output_type": "execute_result"
    },
    {
     "data": {
      "image/png": "[encoded data removed]",
      "text/plain": [
       "<Figure size 640x480 with 1 Axes>"
      ]
     },
     "metadata": {},
     "output_type": "display_data"
    }
   ],
   "source": [
    "data = []\n",
    "for i in range(1000):\n",
    "    d = {\"avg_hp\": catch_average(\"HP\", 50)}\n",
    "    data.append(d)\n",
    "df_50 = pd.DataFrame(data)\n",
    "df_50.hist(bins=50)"
   ]
  },
  {
   "cell_type": "markdown",
   "metadata": {},
   "source": [
    "### 🔬 Test Case Checkpoint 🔬"
   ]
  },
  {
   "cell_type": "code",
   "execution_count": 43,
   "metadata": {},
   "outputs": [
    {
     "name": "stdout",
     "output_type": "stream",
     "text": [
      "🎉 All tests passed! 🎉\n"
     ]
    }
   ],
   "source": [
    "## == CHECKPOINT TEST CASES ==\n",
    "# - This read-only cell contains test cases for your previous cell.\n",
    "# - If this cell runs without any errors, you PASSED all test cases!\n",
    "# - If this cell results in any errors, check your previous cell, make changes, and RE-RUN your code and then this cell.\n",
    "assert( (63 <= df_5.mean()).bool() & (df_5.mean() <= 65).bool() ), \"The Catch 5 simulation is not correct!\"\n",
    "assert( (63 <= df_10.mean()).bool() & (df_10.mean() <= 65).bool() ), \"The Catch 10 simulation is not correct!\"\n",
    "assert( (63 <= df_50.mean()).bool() & (df_50.mean() <= 65).bool() ), \"The Catch 50 simulation is not correct!\"\n",
    "\n",
    "## == SUCCESS MESSAGE ==\n",
    "# You will only see this message (with the emoji showing) if you passed all test cases:\n",
    "tada = \"\\N{PARTY POPPER}\"\n",
    "print(f\"{tada} All tests passed! {tada}\")"
   ]
  },
  {
   "cell_type": "markdown",
   "metadata": {},
   "source": [
    "### Analysis: Histograms\n",
    "\n",
    "**Q4: What do you notice about the histograms of `avg_hp` as we increase the sample size `n` (our number of catches for `catch_average`)?**"
   ]
  },
  {
   "cell_type": "markdown",
   "metadata": {},
   "source": [
    "As sample size n increases, the histogram gets closer to the normal curve."
   ]
  },
  {
   "cell_type": "markdown",
   "metadata": {},
   "source": [
    "## Puzzle 3.5: Another Statistic\n",
    "\n",
    "Choose one of the following numerical statistics about Pokémon included in our DataFrame (**NOT** HP). Your options are:\n",
    "- Capture rate, stored in column `Capt_Rate`\n",
    "- Attack, stored in column `Attack`\n",
    "- Defense, stored in column `Defense`\n",
    "- Special, stored in column `Special` \n",
    "- Speed, stored in column `Speed`\n",
    "\n",
    "Now, check the **distribution** of this new statistic across our Pokémon dataset using `df[column].hist()`: "
   ]
  },
  {
   "cell_type": "code",
   "execution_count": 44,
   "metadata": {},
   "outputs": [
    {
     "data": {
      "text/plain": [
       "<Axes: >"
      ]
     },
     "execution_count": 44,
     "metadata": {},
     "output_type": "execute_result"
    },
    {
     "data": {
      "image/png": "[encoded data removed]",
      "text/plain": [
       "<Figure size 640x480 with 1 Axes>"
      ]
     },
     "metadata": {},
     "output_type": "display_data"
    }
   ],
   "source": [
    "df[\"Attack\"].hist(bins=50)"
   ]
  },
  {
   "cell_type": "markdown",
   "metadata": {},
   "source": [
    "Again, **not a normal distribution**. "
   ]
  },
  {
   "cell_type": "markdown",
   "metadata": {},
   "source": [
    "## Puzzle 3.6: Catch 50, Part Two\n",
    "Now, using your `catch_average` function, simulate **1000 instances** of **catching 50 Pokémon** calculating the average of the column **you chose** from Puzzle 3.5 above.\n",
    "\n",
    "Store the results in a DataFrame `catch_50` with the column name `avg_[your column]`. \n",
    "\n",
    "Finally, generate a **histogram** of your `catch_50` with **10 bins**. "
   ]
  },
  {
   "cell_type": "code",
   "execution_count": 45,
   "metadata": {},
   "outputs": [
    {
     "data": {
      "text/plain": [
       "array([[<Axes: title={'center': 'avg_hp'}>]], dtype=object)"
      ]
     },
     "execution_count": 45,
     "metadata": {},
     "output_type": "execute_result"
    },
    {
     "data": {
      "image/png": "[encoded data removed]",
      "text/plain": [
       "<Figure size 640x480 with 1 Axes>"
      ]
     },
     "metadata": {},
     "output_type": "display_data"
    }
   ],
   "source": [
    "data = []\n",
    "for i in range(1000):\n",
    "    d = {\"avg_hp\": catch_average(\"Attack\", 50)}\n",
    "    data.append(d)\n",
    "catch_50 = pd.DataFrame(data)\n",
    "catch_50.hist(bins=50)"
   ]
  },
  {
   "cell_type": "markdown",
   "metadata": {},
   "source": [
    "### Analysis: Applications\n",
    "\n",
    "**Q5: Just now, you have observed the *Central Limit Theorem* at work for your chosen column. What could be some applications of the Central Limit Theorem  in real world problems? Write at least three sentences.**"
   ]
  },
  {
   "cell_type": "markdown",
   "metadata": {},
   "source": [
    "Researchers use the Central Limit Theorem to make sense of survey data. They use it to extrapolate data from a sample to the population. This makes it easier to find people's opinions without surveying the entire population."
   ]
  },
  {
   "cell_type": "markdown",
   "metadata": {},
   "source": [
    "<hr style=\"color: #DD3403;\">"
   ]
  },
  {
   "cell_type": "markdown",
   "metadata": {},
   "source": [
    "# Submission\n",
    "\n",
    "You're almost done!  All you need to do is to commit your lab to GitHub:\n",
    "\n",
    "1.  ⚠️ **Make certain to save your work.** ⚠️ To do this, go to **File => Save All**\n",
    "\n",
    "2.  After you have saved, exit this notebook and follow the Canvas instructions to commit this lab to your Git repository!\n",
    "\n",
    "3. Your TA will grade your submission and provide you feedback after the lab is due. :)"
   ]
  },
  {
   "cell_type": "markdown",
   "metadata": {},
   "source": [
    "<hr style=\"color: #DD3403;\">"
   ]
  },
  {
   "cell_type": "markdown",
   "metadata": {},
   "source": [
    "Author's Note: The dataset for this lab was adapted from an open-source dataset found on **Kaggle**: https://www.kaggle.com/datasets/dizzypanda/gen-1-pokemon. \n",
    "\n",
    "If you're ever curious and looking for a set of data about a hobby that you have, try searching for it on Kaggle!"
   ]
  }
 ],
 "metadata": {
  "kernelspec": {
   "display_name": "Python 3 (ipykernel)",
   "language": "python",
   "name": "python3"
  },
  "language_info": {
   "codemirror_mode": {
    "name": "ipython",
    "version": 3
   },
   "file_extension": ".py",
   "mimetype": "text/x-python",
   "name": "python",
   "nbconvert_exporter": "python",
   "pygments_lexer": "ipython3",
   "version": "3.11.1"
  },
  "vscode": {
   "interpreter": {
    "hash": "369f2c481f4da34e4445cda3fffd2e751bd1c4d706f27375911949ba6bb62e1c"
   }
  }
 },
 "nbformat": 4,
 "nbformat_minor": 2
}
