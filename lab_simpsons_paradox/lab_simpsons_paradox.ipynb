{
 "cells": [
  {
   "attachments": {},
   "cell_type": "markdown",
   "metadata": {},
   "source": [
    "# Welcome to Lab: Simpson's Paradox 🔬\n",
    "\n",
    "Before this lab section, you learned about Simpson's Paradox and confounding variables in lecture.  This week, you will find Simpson's Paradox through analysis of a dataset in Python, and get some practice writing conditionals for pandas DataFrames! \n",
    "\n",
    "A few tips to remember:\n",
    "\n",
    "- **You are not alone on your journey in learning programming!**  You have your lab Teaching Assistant, your Course Aides, your lab group, and the professors (Prof. Wade and Prof. Karle), who are all here to help you out!\n",
    "- If you find yourself stuck for more than a few minutes, ask a neighbor or course staff for help!  When you are giving help to your neighbor, explain the **idea and approach** to the problem without sharing the answer itself so they can have the same **<i>ah-hah</i>** moment!\n",
    "- We are here to help you!  Don't feel embarrassed or shy to ask us for help!\n",
    "\n",
    "Let's get started!"
   ]
  },
  {
   "cell_type": "code",
   "execution_count": null,
   "metadata": {},
   "outputs": [],
   "source": [
    "# Meet your CAs and TA if you haven't already!\n",
    "# ...first name is enough, we'll know who they are! :)\n",
    "ta_name = \"\"\n",
    "ca1_name = \"\"\n",
    "ca2_name = \"\"\n",
    "\n",
    "\n",
    "# Say hello to each other!\n",
    "# - Groups of 3 are ideal :)\n",
    "# - However, groups of 2 or 4 are fine too!\n",
    "#\n",
    "# Question of the Day (QOTD) to Ask Your Group: \"Have you heard of ChatGPT?\"\n",
    "partner1_name = \"\"\n",
    "partner1_netid = \"\"\n",
    "partner1_chatgpt = \"\"\n",
    "\n",
    "partner2_name = \"\"\n",
    "partner2_netid = \"\"\n",
    "partner2_chatgpt = \"\"\n",
    "\n",
    "partner3_name = \"\"\n",
    "partner3_netid = \"\"\n",
    "partner3_chatgpt= \"\""
   ]
  },
  {
   "cell_type": "markdown",
   "metadata": {},
   "source": [
    "<hr style=\"color: #DD3403;\">"
   ]
  },
  {
   "attachments": {},
   "cell_type": "markdown",
   "metadata": {},
   "source": [
    "# Part 1: The GPA Dataset\n",
    "\n",
    "Many of you have likely come across one of the GPA visualizations found at https://waf.cs.illinois.edu/discovery/gpa/, either out of \n",
    "curiosity or the need to investigate a mysterious GenEd class you signed up for. \n",
    "\n",
    "Regardless, these visualizations are built on the **GPA Dataset** of UIUC students across all course subjects. Today, you're going to do some analysis and discover a case of Simpson's Paradox within data taken from UIUC courses!"
   ]
  },
  {
   "attachments": {},
   "cell_type": "markdown",
   "metadata": {},
   "source": [
    "## Load the GPA Dataset\n",
    "\n",
    "The most recent version of the \"GPA Dataset\" is available here:\n",
    "```\n",
    "https://waf.cs.illinois.edu/discovery/gpa.csv\n",
    "```\n",
    "\n",
    "Use Python to load this dataset into a DataFrame called `df`:"
   ]
  },
  {
   "cell_type": "code",
   "execution_count": null,
   "metadata": {},
   "outputs": [],
   "source": [
    "..."
   ]
  },
  {
   "cell_type": "markdown",
   "metadata": {},
   "source": [
    "### 🔬 Test Case Checkpoint 🔬"
   ]
  },
  {
   "cell_type": "code",
   "execution_count": null,
   "metadata": {},
   "outputs": [],
   "source": [
    "## == CHECKPOINT TEST CASES ==\n",
    "# - This read-only cell contains test cases for your previous cell.\n",
    "# - If this cell runs without any errors, you PASSED all test cases!\n",
    "# - If this cell results in any errors, check your previous cell, make changes, and RE-RUN your code and then this cell.\n",
    "assert(len(df) == 64048 ), \"This is not the GPA dataset you're looking for\"\n",
    "\n",
    "## == SUCCESS MESSAGE ==\n",
    "# You will only see this message (with the emoji showing) if you passed all test cases:\n",
    "tada = \"\\N{PARTY POPPER}\"\n",
    "print(f\"{tada} All tests passed! {tada}\")"
   ]
  },
  {
   "attachments": {},
   "cell_type": "markdown",
   "metadata": {},
   "source": [
    "## Data Cleaning: An Additional Column\n",
    "\n",
    "The GPA dataset contains raw GPA data and is not the easiest to work with if we want to analyze intricacies such as the average GPA or passing rate.  Luckily, DataFrames are modifiable, so we can **add more columns** based on what questions we want to answer.\n",
    "\n",
    "The process of modifying a dataset via deletion (cleaning up empty/unwanted values) or addition (adding new columns) is often called **data cleaning**. This is an important concept in Data Science, because you won't always receive your data in the perfect format for your purposes.\n",
    "\n",
    "With the GPA dataset, we want to investigate one innocent question posed by a theoretical incoming student: \n",
    "- *Is it easier to get an A in STAT or CS courses at UIUC?*\n",
    "\n",
    "To do this, we'll need to first perform some modifications on our loaded DataFrame, `df`. Specifically, we will need to create:\n",
    "- An `A_Grades` column, containing the total number of students receiving an A+, A, or A- in every course"
   ]
  },
  {
   "attachments": {},
   "cell_type": "markdown",
   "metadata": {},
   "source": [
    "### Puzzle 1.1: Creating an `A_Grades` Column\n",
    "\n",
    "Create the new column `A_Grades` that stores the total number of \"A\"s given in every course.\n",
    "\n",
    "- We consider an \"A\" to be any type of A, in other words \"A+\", \"A\", or an \"A-\" are all included.\n",
    "- In our `df`, the number of students recieving a particular grade in a course is found in the `df['Grade']` column. For example, `df['A']` contains the number of students who recieved an A."
   ]
  },
  {
   "cell_type": "code",
   "execution_count": null,
   "metadata": {},
   "outputs": [],
   "source": [
    "df['A_Grades'] = ..."
   ]
  },
  {
   "cell_type": "markdown",
   "metadata": {},
   "source": [
    "### 🔬 Test Case Checkpoint 🔬"
   ]
  },
  {
   "cell_type": "code",
   "execution_count": null,
   "metadata": {},
   "outputs": [],
   "source": [
    "## == CHECKPOINT TEST CASES ==\n",
    "# - This read-only cell contains test cases for your previous cell.\n",
    "# - If this cell runs without any errors, you PASSED all test cases!\n",
    "# - If this cell results in any errors, check your previous cell, make changes, and RE-RUN your code and then this cell.\n",
    "assert('A_Grades' in df), \"Make sure you've named the A_Grades column properly and added it to the dataframe\"\n",
    "assert(df['A_Grades'].sum() == 2096341), \"Double check the values of your A_Grades column\"\n",
    "\n",
    "## == SUCCESS MESSAGE ==\n",
    "# You will only see this message (with the emoji showing) if you passed all test cases:\n",
    "tada = \"\\N{PARTY POPPER}\"\n",
    "print(f\"{tada} All tests passed! {tada}\")"
   ]
  },
  {
   "attachments": {},
   "cell_type": "markdown",
   "metadata": {},
   "source": [
    "# Part 1: Working with the GPA Dataset\n",
    "Now that we have that extra column set up, we can perform basic mathematical analysis on the GPA Dataset to get insight towards our question:\n",
    "- *Is it easier to get an A in STAT or CS courses at UIUC?*\n",
    "\n",
    "Should be simple, right? Let's just see which subject, STAT or CS, has a greater percentage of A grades."
   ]
  },
  {
   "attachments": {},
   "cell_type": "markdown",
   "metadata": {},
   "source": [
    "### Puzzle 1.2: Subject DataFrames\n",
    "\n",
    "Select only the rows of the GPA dataset `df` with a `Subject` of `STAT`. Assign these rows to a new DataFrame, `df_STAT`. \n",
    "- Make sure your result only contains STAT courses!"
   ]
  },
  {
   "cell_type": "code",
   "execution_count": null,
   "metadata": {},
   "outputs": [],
   "source": [
    "df_STAT = ..."
   ]
  },
  {
   "cell_type": "markdown",
   "metadata": {},
   "source": [
    "Select only the rows of the GPA dataset `df` with a `Subject` of `CS`. Assign these rows to a new dataframe, `df_CS`. \n",
    "- Make sure your result only contains CS courses!"
   ]
  },
  {
   "cell_type": "code",
   "execution_count": null,
   "metadata": {},
   "outputs": [],
   "source": [
    "df_CS = ..."
   ]
  },
  {
   "cell_type": "markdown",
   "metadata": {},
   "source": [
    "### 🔬 Test Case Checkpoint 🔬"
   ]
  },
  {
   "cell_type": "code",
   "execution_count": null,
   "metadata": {},
   "outputs": [],
   "source": [
    "## == CHECKPOINT TEST CASES ==\n",
    "# - This read-only cell contains test cases for your previous cell.\n",
    "# - If this cell runs without any error our output, you PASSED all test cases!\n",
    "# - If this cell results in any errors, check you previous cell, make changes, and RE-RUN your code and then this cell.\n",
    "assert( 'df_STAT' in vars() ), \"Make certain to name the STAT courses df_STAT.\"\n",
    "assert( 'df_CS' in vars() ), \"Make certain to name the CS courses df_CS.\"\n",
    "assert( len(df_STAT[df_STAT.Subject != \"STAT\"] ) == 0 ), \"It looks like you did not subset df_STAT to only STAT courses.\"\n",
    "assert( len(df_CS[df_CS.Subject != \"CS\"] ) == 0 ), \"It looks like you did not subset df_STAT to only STAT courses.\"\n",
    "\n",
    "## == SUCCESS MESSAGE ==\n",
    "# You will only see this message (with the emoji showing) if you passed all test cases:\n",
    "tada = \"\\N{PARTY POPPER}\"\n",
    "print(f\"{tada} All tests passed! {tada}\")"
   ]
  },
  {
   "attachments": {},
   "cell_type": "markdown",
   "metadata": {},
   "source": [
    "### Puzzle 1.3: Comparing Overall Percentages\n",
    "\n",
    "With our two new dataframes of STAT and CS courses, use the following code cell to determine the **percentage** of A grades recieved in STAT and CS courses, storing them as variables `stat_a` and `cs_a` respectively. \n",
    "\n",
    "Print statements have been provided to show the values you calculate. \n",
    "\n",
    "As you work, remember:\n",
    "- To find the **% of As**, divide the total number of `A_Grades` by the total number of `Students` ($\\space \\frac{A \\space Grades}{Students} \\space$).\n",
    "- The `A_Grades` column you made earlier, and the `Students` column containing the total number of students in each course.\n",
    "- The syntax `sum(df['column_name'])` can be used to add up the values of all rows in a particular column of a DataFrame.\n",
    "- Your % should be a decimal between 0 and 1."
   ]
  },
  {
   "cell_type": "code",
   "execution_count": null,
   "metadata": {},
   "outputs": [],
   "source": [
    "stat_a = ...\n",
    "print(f'Overall % of As in STAT is: {stat_a}')\n",
    "\n",
    "cs_a = ...\n",
    "print(f'Overall % of As in CS is: {cs_a}')"
   ]
  },
  {
   "cell_type": "markdown",
   "metadata": {},
   "source": [
    "### 🔬 Test Case Checkpoint 🔬"
   ]
  },
  {
   "cell_type": "code",
   "execution_count": null,
   "metadata": {},
   "outputs": [],
   "source": [
    "## == CHECKPOINT TEST CASES ==\n",
    "# - This read-only cell contains test cases for your previous cell.\n",
    "# - If this cell runs without any errors, you PASSED all test cases!\n",
    "# - If this cell results in any errors, check your previous cell, make changes, and RE-RUN your code and then this cell.\n",
    "import math\n",
    "assert(math.isclose(stat_a, 0.6051620045305918)), \"The overall percentage of A grades recieved in STAT courses does not appear to have been correctly calculated\"\n",
    "assert(math.isclose(cs_a, 0.596793417279641)), \"The overall percentage of A grades recieved in CS courses does not appear to have been correctly calculated\"\n",
    "\n",
    "## == SUCCESS MESSAGE ==\n",
    "# You will only see this message (with the emoji showing) if you passed all test cases:\n",
    "tada = \"\\N{PARTY POPPER}\"\n",
    "print(f\"{tada} All tests passed! {tada}\")"
   ]
  },
  {
   "cell_type": "markdown",
   "metadata": {},
   "source": [
    "### Analysis: Good Comparison?\n",
    "**Q: What conclusion can you take from the overall percentages found above when asking the original question:**\n",
    "- *Is it easier to get an A in STAT or CS courses at UIUC?*"
   ]
  },
  {
   "cell_type": "markdown",
   "metadata": {},
   "source": [
    "*(✏️ Edit this cell to replace this text with your answer. ✏️)*"
   ]
  },
  {
   "cell_type": "markdown",
   "metadata": {},
   "source": [
    "**Q: Given what you've learned about experimental design, what are some reasons (specific to this dataset) you may not trust this conclusion? If you would trust it, explain why.**"
   ]
  },
  {
   "cell_type": "markdown",
   "metadata": {},
   "source": [
    "*(✏️ Edit this cell to replace this text with your answer. ✏️)*"
   ]
  },
  {
   "cell_type": "markdown",
   "metadata": {},
   "source": [
    "## An Extra Consideration\n",
    "\n",
    "If you look at the `Year` column of our GPA dataset, you might notice that we have some old data in our set - all the way back to **2010**! This means we aren't really answering our question from the perspective of a student now. \n",
    "\n",
    "If we want to know if it is easier to **currently** get an A in a STAT or CS course, we should control for the **date** of the data by looking at more **recent years** specifically."
   ]
  },
  {
   "attachments": {},
   "cell_type": "markdown",
   "metadata": {},
   "source": [
    "### Puzzle 1.4: More DataFrames\n",
    "\n",
    "Using the code cells below, define four new DataFrames by selecting from rows of our previously created `df_CS` and `df_STAT`. \n",
    "\n",
    "- `df_cs_recent`: all `CS` course data in *recent years* ($\\space \\geq 2021 \\space$)\n",
    "- `df_stat_recent`: all `STAT` course data in *recent years* ($\\space \\geq 2021 \\space$)\n",
    "- `df_cs_old`: all other, older `CS` course data ($\\space < 2021 \\space$)\n",
    "- `df_stat_old`: all other, older `STAT` course data ($\\space < 2021 \\space$)\n",
    "\n",
    "Define *recent years* as **any year after and including 2021**, and older years as any year before 2021. \n",
    "\n",
    "Feel free to use conditionals OR the `.isin()` syntax you learned in the last lab."
   ]
  },
  {
   "cell_type": "code",
   "execution_count": null,
   "metadata": {},
   "outputs": [],
   "source": [
    "df_stat_recent = ...\n",
    "df_stat_recent"
   ]
  },
  {
   "cell_type": "code",
   "execution_count": null,
   "metadata": {},
   "outputs": [],
   "source": [
    "df_cs_recent = ...\n",
    "df_cs_recent"
   ]
  },
  {
   "cell_type": "code",
   "execution_count": null,
   "metadata": {},
   "outputs": [],
   "source": [
    "df_stat_old = ...\n",
    "df_stat_old"
   ]
  },
  {
   "cell_type": "code",
   "execution_count": null,
   "metadata": {},
   "outputs": [],
   "source": [
    "df_cs_old = ...\n",
    "df_cs_old"
   ]
  },
  {
   "cell_type": "markdown",
   "metadata": {},
   "source": [
    "### 🔬 Test Case Checkpoint 🔬"
   ]
  },
  {
   "cell_type": "code",
   "execution_count": null,
   "metadata": {},
   "outputs": [],
   "source": [
    "## == CHECKPOINT TEST CASES ==\n",
    "# - This read-only cell contains test cases for your previous cell.\n",
    "# - If this cell runs without any error our output, you PASSED all test cases!\n",
    "# - If this cell results in any errors, check you previous cell, make changes, and RE-RUN your code and then this cell.\n",
    "assert( 'df_stat_recent' in vars() ), \"Make certain to name the recent STAT courses df_stat_recent.\"\n",
    "assert( 'df_cs_recent' in vars() ), \"Make certain to name the recent CS courses df_cs_recent.\"\n",
    "assert( 'df_stat_old' in vars() ), \"Make certain to name the old STAT courses df_stat_old.\"\n",
    "assert( 'df_cs_old' in vars() ), \"Make certain to name the old CS courses df_cs_old.\"\n",
    "\n",
    "assert( len(df_stat_recent[df_stat_recent.Year < 2021] ) == 0 ), \"Make sure only years after and including 2021 are in the df_stat_recent dataframe.\"\n",
    "assert( len(df_cs_recent[df_cs_recent.Year < 2021] ) == 0 ), \"Make sure only years after and including 2021 are in the df_cs_recent dataframe.\"\n",
    "assert( len(df_stat_old[df_stat_old.Year >= 2021] ) == 0 ), \"Make sure only years before 2021 are in the df_stat_old dataframe.\"\n",
    "assert( len(df_cs_old[df_cs_old.Year >= 2021] ) == 0 ), \"Make sure only years before 2021 are in the df_cs_old dataframe.\"\n",
    "\n",
    "assert( len(df[ df.index.isin(df_stat_recent.index) & df.index.isin(df_stat_old.index) ]) == 0 ), \"Check for duplicate values in your df_stat_recent and df_stat_old dataframes.\"\n",
    "assert( len(df[ df.index.isin(df_cs_recent.index) & df.index.isin(df_cs_old.index) ]) == 0 ), \"Check for duplicate values in your df_cs_recent and df_cs_old dataframes.\"\n",
    "assert( len(df_cs_old) + len(df_cs_recent) == len(df_CS) ), \"You're excluding some rows from df_cs_old or df_cs_young. Please double check your conditionals.\"\n",
    "assert( len(df_stat_old) + len(df_stat_recent) == len(df_STAT) ), \"You're excluding some rows from df_stat_old or df_stat_recent. Please double check your conditionals.\"\n",
    "\n",
    "## == SUCCESS MESSAGE ==\n",
    "# You will only see this message (with the emoji showing) if you passed all test cases:\n",
    "tada = \"\\N{PARTY POPPER}\"\n",
    "print(f\"{tada} All tests passed! {tada}\")"
   ]
  },
  {
   "attachments": {},
   "cell_type": "markdown",
   "metadata": {},
   "source": [
    "### Puzzle 1.5: New Analysis\n",
    "Now that we've got all the DataFrames setup with GPA data of the `CS` and `STAT` courses separated by recency (2021 or newer being 'recent'), we can do more in-depth analysis to investigate our question. \n",
    "\n",
    "In the following code cells, **calculate the percentages** described by the comment in the cell. Your answer should always be a **decimal between 0 and 1**. \n",
    "\n",
    "Just like Puzzle 1.2, remember: \n",
    "- To find the % of As, divide the total number of As by the total number of students. \n",
    "- The `A_Grades` column you made earlier, and the `Students` column containing the total number of students in each course.\n",
    "- The syntax `sum(df['column_name'])` can be used to add up the values of all rows in a particular column of a DataFrame."
   ]
  },
  {
   "cell_type": "code",
   "execution_count": null,
   "metadata": {},
   "outputs": [],
   "source": [
    "# Percentage of As received in CS in recent years\n",
    "cs_recent_a = ...\n",
    "print(f'Percentage of As received in CS in recent years: {cs_recent_a}')"
   ]
  },
  {
   "cell_type": "code",
   "execution_count": null,
   "metadata": {},
   "outputs": [],
   "source": [
    "# Percentage of As received in STAT in recent years\n",
    "stat_recent_a = ...\n",
    "print(f'Percentage of As received in STAT in recent years: {stat_recent_a}')"
   ]
  },
  {
   "cell_type": "code",
   "execution_count": null,
   "metadata": {},
   "outputs": [],
   "source": [
    "# percentage of As received in CS in older years\n",
    "cs_old_a = ...\n",
    "print(f'Percentage of As received in CS in older years: {cs_old_a}') "
   ]
  },
  {
   "cell_type": "code",
   "execution_count": null,
   "metadata": {},
   "outputs": [],
   "source": [
    "# percentage of As received in STAT in older years\n",
    "stat_old_a = ...\n",
    "print(f'Percentage of As received in STAT in older years: {stat_old_a}')"
   ]
  },
  {
   "cell_type": "markdown",
   "metadata": {},
   "source": [
    "### 🔬 Test Case Checkpoint 🔬"
   ]
  },
  {
   "cell_type": "code",
   "execution_count": null,
   "metadata": {},
   "outputs": [],
   "source": [
    "## == CHECKPOINT TEST CASES ==\n",
    "# - This read-only cell contains test cases for your previous cell.\n",
    "# - If this cell runs without any errors, you PASSED all test cases!\n",
    "# - If this cell results in any errors, check your previous cell, make changes, and RE-RUN your code and then this cell.\n",
    "assert(math.isclose(cs_recent_a,  0.7052750783492665)), \"The overall percentage of A grades recieved in STAT courses recently does not appear to have been correctly calculated\"\n",
    "assert(math.isclose(stat_recent_a, 0.6488539077602872)), \"The overall percentage of A grades recieved in CS courses recently does not appear to have been correctly calculated\"\n",
    "\n",
    "assert(math.isclose(cs_old_a, 0.5714531786360225)), \"The overall percentage of A grades recieved in STAT courses in older years does not appear to have been correctly calculated\"\n",
    "assert(math.isclose(stat_old_a, 0.5975443876015648)), \"The overall percentage of A grades recieved in CS courses in older years does not appear to have been correctly calculated\"\n",
    "\n",
    "## == SUCCESS MESSAGE ==\n",
    "# You will only see this message (with the emoji showing) if you passed all test cases:\n",
    "tada = \"\\N{PARTY POPPER}\"\n",
    "print(f\"{tada} All tests passed! {tada}\")"
   ]
  },
  {
   "attachments": {},
   "cell_type": "markdown",
   "metadata": {},
   "source": [
    "### Observe the Results\n",
    "**Run the following cell** to format all of your answers as a DataFrame.\n",
    "\n",
    "Keep in mind that \"Older\" means data from courses **before 2021**, and \"Recent\" means courses held **during or after 2021**. "
   ]
  },
  {
   "cell_type": "code",
   "execution_count": null,
   "metadata": {},
   "outputs": [],
   "source": [
    "pd.DataFrame([\n",
    "  {'Older % of A': cs_old_a, 'Recent % of A': cs_recent_a, 'Overall % of A': cs_a},\n",
    "  {'Older % of A': stat_old_a, 'Recent % of A': stat_recent_a, 'Overall % of A': stat_a}\n",
    "], index=['CS', 'STAT'])"
   ]
  },
  {
   "attachments": {},
   "cell_type": "markdown",
   "metadata": {},
   "source": [
    "Notice that when observing the overall % of A grades received, you may think `STAT` and `CS` are equally difficult to get an `A_Grades` in. But in the sub-group of the courses held in years of **2021 and later**, we see that `CS` actually has a higher `A_Grades` rate! \n",
    "\n",
    "This is **Simpson's Paradox**: a pattern within a population can appear, disappear, or reverse when you look at subpopulations.\n",
    "\n",
    "In more formal terms, Simpson's Paradox can cause you to observe a pattern reverse when you look at the overall group statistics versus statistics of groups post-stratification. In this case we are stratifying by time.\n"
   ]
  },
  {
   "cell_type": "markdown",
   "metadata": {},
   "source": [
    "### Analysis: Reflecting on New Observations "
   ]
  },
  {
   "cell_type": "markdown",
   "metadata": {},
   "source": [
    "You should see the pattern reverse when you look at the overall A grade percentages vs. the percentages stratified to account for recency. This is called **Simpson's Paradox**: a pattern within a population can appear, disappear, or reverse when you look at subpopulations.\n",
    "\n",
    "Now think about how would you now respond differently to the incoming student's question:\n",
    "- *Is it easier to get an A in STAT or CS courses at UIUC?*\n",
    "\n",
    "**Q: Which comparison of percentages do you trust more and why? Are there any other potential confounding variables when answering this question that could be investigated further? Respond with at least three full sentences.**"
   ]
  },
  {
   "cell_type": "markdown",
   "metadata": {},
   "source": [
    "*(✏️ Edit this cell to replace this text with your answer. ✏️)*"
   ]
  },
  {
   "cell_type": "markdown",
   "metadata": {},
   "source": [
    "<hr style=\"color: #DD3403;\">"
   ]
  },
  {
   "attachments": {},
   "cell_type": "markdown",
   "metadata": {},
   "source": [
    "# Part 2: Revisiting the Hello Dataset\n",
    "\n",
    "Enough about GPA (for now). Two weeks ago, you created a series of questions that made up the **Hello Dataset** and completed the survey by answering all of the questions made by students in DISCOVERY. \n",
    "\n",
    "Now, we will load this dataset again and briefly answer a few questions with data about YOU! "
   ]
  },
  {
   "attachments": {},
   "cell_type": "markdown",
   "metadata": {},
   "source": [
    "## Load the Hello Dataset\n",
    "\n",
    "The \"Hello Dataset\" is available here:\n",
    "```\n",
    "https://waf.cs.illinois.edu/discovery/hello-fa23.csv\n",
    "```\n",
    "\n",
    "Use Python to load this dataset into a DataFrame called `df_hello`:"
   ]
  },
  {
   "cell_type": "code",
   "execution_count": null,
   "metadata": {},
   "outputs": [],
   "source": [
    "df_hello = ..."
   ]
  },
  {
   "cell_type": "markdown",
   "metadata": {},
   "source": [
    "### 🔬 Test Case Checkpoint 🔬"
   ]
  },
  {
   "cell_type": "code",
   "execution_count": null,
   "metadata": {},
   "outputs": [],
   "source": [
    "## == CHECKPOINT TEST CASES ==\n",
    "# - This read-only cell contains test cases for your previous cell.\n",
    "# - If this cell runs without any errors, you PASSED all test cases!\n",
    "# - If this cell results in any errors, check your previous cell, make changes, and RE-RUN your code and then this cell.\n",
    "assert(len(df_hello) >= 1050), \"This is not the Hello dataset you're looking for. Check the URL.\"\n",
    "\n",
    "## == SUCCESS MESSAGE ==\n",
    "# You will only see this message (with the emoji showing) if you passed all test cases:\n",
    "tada = \"\\N{PARTY POPPER}\"\n",
    "print(f\"{tada} All tests passed! {tada}\")"
   ]
  },
  {
   "attachments": {},
   "cell_type": "markdown",
   "metadata": {},
   "source": [
    "## Classes v. Sleep\n",
    "\n",
    "With the Hello Dataset, we are going to briefly explore two quantitative questions posed and answered by all DISCOVERY students and staff:\n",
    "- How many hours do you sleep in a day?\n",
    "- How many classes are you taking this semester?"
   ]
  },
  {
   "attachments": {},
   "cell_type": "markdown",
   "metadata": {},
   "source": [
    "### Puzzle 2.1: Observation Subsets\n",
    "\n",
    "In this situation, let's define the daily routine of **6 or more hours** of sleep as \"good sleep\" and any less to be defined as \"bad sleep\".\n",
    "\n",
    "From this, create two DataFrames that contain subsets of the Hello Dataset: \n",
    "- `good_sleep`: including everyone who gets \"good sleep\" on average ($\\space \\geq 6 \\space$)\n",
    "- `bad_sleep`: including everyone who gets \"bad sleep\" on average ($\\space < 6 \\space$)\n",
    "\n",
    "The `sleep` question has been provided to you as a **string** for ease of DataFrame column access. "
   ]
  },
  {
   "cell_type": "code",
   "execution_count": null,
   "metadata": {},
   "outputs": [],
   "source": [
    "sleep = 'How many hours do you sleep in a day?'\n",
    "good_sleep = ...\n",
    "good_sleep"
   ]
  },
  {
   "cell_type": "code",
   "execution_count": null,
   "metadata": {},
   "outputs": [],
   "source": [
    "bad_sleep = ...\n",
    "bad_sleep"
   ]
  },
  {
   "cell_type": "markdown",
   "metadata": {},
   "source": [
    "### 🔬 Test Case Checkpoint 🔬"
   ]
  },
  {
   "cell_type": "code",
   "execution_count": null,
   "metadata": {},
   "outputs": [],
   "source": [
    "## == CHECKPOINT TEST CASES ==\n",
    "# - This read-only cell contains test cases for your previous cell.\n",
    "# - If this cell runs without any errors, you PASSED all test cases!\n",
    "# - If this cell results in any errors, check your previous cell, make changes, and RE-RUN your code and then this cell.\n",
    "assert(len(good_sleep) == 993  ), \"Double check your conditional used to create df_goodsleep from df_hello - remember, good sleep is response values of 6 hours or more\"\n",
    "assert(len(bad_sleep) == 38 ), \"Double check your conditional used to create df_badsleep from df_hello - remember, bad sleep is response values of less than 6 hours\"\n",
    "\n",
    "## == SUCCESS MESSAGE ==\n",
    "# You will only see this message (with the emoji showing) if you passed all test cases:\n",
    "tada = \"\\N{PARTY POPPER}\"\n",
    "print(f\"{tada} All tests passed! {tada}\")"
   ]
  },
  {
   "attachments": {},
   "cell_type": "markdown",
   "metadata": {},
   "source": [
    "### Puzzle 2.2: Average Number of Classes by Group\n",
    "\n",
    "Now find the **average number of classes** of each group (`good_sleep` and `bad_sleep`):\n",
    "\n",
    "- The `df['column name'].mean()` function returns the mean of all values in the specified column of `df`.\n",
    "- The `classes` question has been provided to you as a **string** for ease of DataFrame column access. "
   ]
  },
  {
   "cell_type": "code",
   "execution_count": null,
   "metadata": {},
   "outputs": [],
   "source": [
    "classes = 'How many classes are you taking this semester?'\n",
    "good_sleep_avg_classes = ...\n",
    "good_sleep_avg_classes"
   ]
  },
  {
   "cell_type": "code",
   "execution_count": null,
   "metadata": {},
   "outputs": [],
   "source": [
    "bad_sleep_avg_classes = ...\n",
    "bad_sleep_avg_classes"
   ]
  },
  {
   "cell_type": "markdown",
   "metadata": {},
   "source": [
    "### 🔬 Test Case Checkpoint 🔬"
   ]
  },
  {
   "cell_type": "code",
   "execution_count": null,
   "metadata": {},
   "outputs": [],
   "source": [
    "## == CHECKPOINT TEST CASES ==\n",
    "# - This read-only cell contains test cases for your previous cell.\n",
    "# - If this cell runs without any errors, you PASSED all test cases!\n",
    "# - If this cell results in any errors, check your previous cell, make changes, and RE-RUN your code and then this cell.\n",
    "assert(math.isclose(good_sleep_avg_classes,  5.305443548387097)), \"The average number of classes for those with good sleep does not appear to have been correctly calculated\"\n",
    "assert(math.isclose(bad_sleep_avg_classes,  5.421052631578948)), \"The average number of classes for those with bad sleep does not appear to have been correctly calculated\"\n",
    "\n",
    "## == SUCCESS MESSAGE ==\n",
    "# You will only see this message (with the emoji showing) if you passed all test cases:\n",
    "tada = \"\\N{PARTY POPPER}\"\n",
    "print(f\"{tada} All tests passed! {tada}\")"
   ]
  },
  {
   "cell_type": "markdown",
   "metadata": {},
   "source": [
    "### Analysis: Classes v. Sleeptime"
   ]
  },
  {
   "attachments": {},
   "cell_type": "markdown",
   "metadata": {},
   "source": [
    "**Q: What is the relationship between classes and daily sleep time?  Can you think of a possible *confounding variable* in the observed relationship (or lack thereof) between classes and daily sleep time?** Write at least three complete sentences answering these questions and explaining why your variable would be a confounder."
   ]
  },
  {
   "cell_type": "markdown",
   "metadata": {},
   "source": [
    "*(✏️ Edit this cell to replace this text with your answer. ✏️)*"
   ]
  },
  {
   "cell_type": "markdown",
   "metadata": {},
   "source": [
    "<hr style=\"color: #DD3403;\">"
   ]
  },
  {
   "cell_type": "markdown",
   "metadata": {},
   "source": [
    "# Submission\n",
    "\n",
    "You're almost done!  All you need to do is to commit your lab to GitHub:\n",
    "\n",
    "1.  ⚠️ **Make certain to save your work.** ⚠️ To do this, go to **File => Save All**\n",
    "\n",
    "2.  After you have saved, exit this notebook and follow the Canvas instructions to commit this lab to your Git repository!\n",
    "\n",
    "3. Your TA will grade your submission and provide you feedback after the lab is due. :)"
   ]
  }
 ],
 "metadata": {
  "kernelspec": {
   "display_name": "Python 3.10.6 64-bit",
   "language": "python",
   "name": "python3"
  },
  "language_info": {
   "codemirror_mode": {
    "name": "ipython",
    "version": 3
   },
   "file_extension": ".py",
   "mimetype": "text/x-python",
   "name": "python",
   "nbconvert_exporter": "python",
   "pygments_lexer": "ipython3",
   "version": "3.10.9"
  },
  "orig_nbformat": 4,
  "vscode": {
   "interpreter": {
    "hash": "f48b0ea9e8281b29b1f9b6045fc5406bb9891af892053a27454c097f6ae51d2c"
   }
  }
 },
 "nbformat": 4,
 "nbformat_minor": 2
}
